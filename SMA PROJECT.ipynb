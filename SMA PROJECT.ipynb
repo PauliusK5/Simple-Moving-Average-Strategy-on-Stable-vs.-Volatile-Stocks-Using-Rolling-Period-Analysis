{
 "cells": [
  {
   "cell_type": "markdown",
   "id": "fed1d7a8",
   "metadata": {},
   "source": [
    "# **Comparing the Performance of a Simple Moving Average Strategy on Stable vs. Volatile Stocks Using Rolling Period Analysis**"
   ]
  },
  {
   "cell_type": "markdown",
   "id": "2c87cf0f",
   "metadata": {},
   "source": [
    "### **Introduction**\n",
    "\n",
    "This project aims to evaluate the effectiveness of a Simple Moving Average (SMA) crossover strategy in two key contexts:\n",
    "\n",
    "- Can the SMA strategy outperform a passive buy-and-hold approach?\n",
    "- Does the strategy show better **CAGR** (Compound Annual Growth Rate) results when applied to stable (low-beta) stocks compared to volatile (high-beta) ones?"
   ]
  },
  {
   "cell_type": "code",
   "execution_count": 53,
   "id": "d01b573f",
   "metadata": {},
   "outputs": [],
   "source": [
    "# import libraries\n",
    "import pandas as pd\n",
    "import numpy as np\n",
    "import yfinance as yf\n",
    "import datetime as dt\n",
    "import plotly.express as px\n",
    "import matplotlib.pyplot as plt\n",
    "import math as math\n"
   ]
  },
  {
   "cell_type": "markdown",
   "id": "1c51b280",
   "metadata": {},
   "source": [
    "### **Data Selection and Stock Visualization**\n",
    "\n",
    "- **Time Period**: January 1, 2010 – January 1, 2025\n",
    "- **Visualization**: Plotted daily closing prices to understand the stock's behavior over time."
   ]
  },
  {
   "cell_type": "code",
   "execution_count": 54,
   "id": "077f7a38",
   "metadata": {},
   "outputs": [],
   "source": [
    "# define time values\n",
    "START = dt.datetime(2010, 1, 1)\n",
    "END = dt.datetime(2025, 1, 1)\n",
    "DAYS = (END - START).days\n",
    "YEARS = DAYS / 365.25\n",
    "\n",
    "STOCK = \"AAPL\""
   ]
  },
  {
   "cell_type": "code",
   "execution_count": 55,
   "id": "2df75665",
   "metadata": {},
   "outputs": [
    {
     "name": "stderr",
     "output_type": "stream",
     "text": [
      "C:\\Users\\Paulius\\AppData\\Local\\Temp\\ipykernel_22420\\1352987880.py:3: FutureWarning:\n",
      "\n",
      "YF.download() has changed argument auto_adjust default to True\n",
      "\n",
      "[*********************100%***********************]  1 of 1 completed\n"
     ]
    },
    {
     "data": {
      "application/vnd.microsoft.datawrangler.viewer.v0+json": {
       "columns": [
        {
         "name": "Date",
         "rawType": "datetime64[ns]",
         "type": "datetime"
        },
        {
         "name": "Close",
         "rawType": "float64",
         "type": "float"
        },
        {
         "name": "Open",
         "rawType": "float64",
         "type": "float"
        },
        {
         "name": "Stock",
         "rawType": "object",
         "type": "string"
        }
       ],
       "ref": "d9010d1d-5dbb-4e34-8db0-1fcbea96cbb4",
       "rows": [
        [
         "2010-01-04 00:00:00",
         "6.431896686553955",
         "6.414465259906861",
         "AAPL"
        ],
        [
         "2010-01-05 00:00:00",
         "6.443016052246094",
         "6.449628123940107",
         "AAPL"
        ],
        [
         "2010-01-06 00:00:00",
         "6.340531826019287",
         "6.443016537393572",
         "AAPL"
        ],
        [
         "2010-01-07 00:00:00",
         "6.32880973815918",
         "6.363973537415483",
         "AAPL"
        ],
        [
         "2010-01-08 00:00:00",
         "6.37088680267334",
         "6.320395812817892",
         "AAPL"
        ],
        [
         "2010-01-11 00:00:00",
         "6.3146843910217285",
         "6.395529580009705",
         "AAPL"
        ],
        [
         "2010-01-12 00:00:00",
         "6.242856025695801",
         "6.287035492695438",
         "AAPL"
        ],
        [
         "2010-01-13 00:00:00",
         "6.33091402053833",
         "6.247364278748396",
         "AAPL"
        ],
        [
         "2010-01-14 00:00:00",
         "6.294248580932617",
         "6.314685896466499",
         "AAPL"
        ],
        [
         "2010-01-15 00:00:00",
         "6.189060211181641",
         "6.339331009977166",
         "AAPL"
        ]
       ],
       "shape": {
        "columns": 3,
        "rows": 10
       }
      },
      "text/html": [
       "<div>\n",
       "<style scoped>\n",
       "    .dataframe tbody tr th:only-of-type {\n",
       "        vertical-align: middle;\n",
       "    }\n",
       "\n",
       "    .dataframe tbody tr th {\n",
       "        vertical-align: top;\n",
       "    }\n",
       "\n",
       "    .dataframe thead th {\n",
       "        text-align: right;\n",
       "    }\n",
       "</style>\n",
       "<table border=\"1\" class=\"dataframe\">\n",
       "  <thead>\n",
       "    <tr style=\"text-align: right;\">\n",
       "      <th></th>\n",
       "      <th>Close</th>\n",
       "      <th>Open</th>\n",
       "      <th>Stock</th>\n",
       "    </tr>\n",
       "    <tr>\n",
       "      <th>Date</th>\n",
       "      <th></th>\n",
       "      <th></th>\n",
       "      <th></th>\n",
       "    </tr>\n",
       "  </thead>\n",
       "  <tbody>\n",
       "    <tr>\n",
       "      <th>2010-01-04</th>\n",
       "      <td>6.431897</td>\n",
       "      <td>6.414465</td>\n",
       "      <td>AAPL</td>\n",
       "    </tr>\n",
       "    <tr>\n",
       "      <th>2010-01-05</th>\n",
       "      <td>6.443016</td>\n",
       "      <td>6.449628</td>\n",
       "      <td>AAPL</td>\n",
       "    </tr>\n",
       "    <tr>\n",
       "      <th>2010-01-06</th>\n",
       "      <td>6.340532</td>\n",
       "      <td>6.443017</td>\n",
       "      <td>AAPL</td>\n",
       "    </tr>\n",
       "    <tr>\n",
       "      <th>2010-01-07</th>\n",
       "      <td>6.328810</td>\n",
       "      <td>6.363974</td>\n",
       "      <td>AAPL</td>\n",
       "    </tr>\n",
       "    <tr>\n",
       "      <th>2010-01-08</th>\n",
       "      <td>6.370887</td>\n",
       "      <td>6.320396</td>\n",
       "      <td>AAPL</td>\n",
       "    </tr>\n",
       "    <tr>\n",
       "      <th>2010-01-11</th>\n",
       "      <td>6.314684</td>\n",
       "      <td>6.395530</td>\n",
       "      <td>AAPL</td>\n",
       "    </tr>\n",
       "    <tr>\n",
       "      <th>2010-01-12</th>\n",
       "      <td>6.242856</td>\n",
       "      <td>6.287035</td>\n",
       "      <td>AAPL</td>\n",
       "    </tr>\n",
       "    <tr>\n",
       "      <th>2010-01-13</th>\n",
       "      <td>6.330914</td>\n",
       "      <td>6.247364</td>\n",
       "      <td>AAPL</td>\n",
       "    </tr>\n",
       "    <tr>\n",
       "      <th>2010-01-14</th>\n",
       "      <td>6.294249</td>\n",
       "      <td>6.314686</td>\n",
       "      <td>AAPL</td>\n",
       "    </tr>\n",
       "    <tr>\n",
       "      <th>2010-01-15</th>\n",
       "      <td>6.189060</td>\n",
       "      <td>6.339331</td>\n",
       "      <td>AAPL</td>\n",
       "    </tr>\n",
       "  </tbody>\n",
       "</table>\n",
       "</div>"
      ],
      "text/plain": [
       "               Close      Open Stock\n",
       "Date                                \n",
       "2010-01-04  6.431897  6.414465  AAPL\n",
       "2010-01-05  6.443016  6.449628  AAPL\n",
       "2010-01-06  6.340532  6.443017  AAPL\n",
       "2010-01-07  6.328810  6.363974  AAPL\n",
       "2010-01-08  6.370887  6.320396  AAPL\n",
       "2010-01-11  6.314684  6.395530  AAPL\n",
       "2010-01-12  6.242856  6.287035  AAPL\n",
       "2010-01-13  6.330914  6.247364  AAPL\n",
       "2010-01-14  6.294249  6.314686  AAPL\n",
       "2010-01-15  6.189060  6.339331  AAPL"
      ]
     },
     "execution_count": 55,
     "metadata": {},
     "output_type": "execute_result"
    }
   ],
   "source": [
    "# import stock data\n",
    "def download_stock(stock_ticker, start_time, end_time):\n",
    "    data = yf.download(\n",
    "            tickers=stock_ticker,\n",
    "            start=start_time,\n",
    "            end=end_time\n",
    "    )\n",
    "    data.columns = [col[0] if isinstance(col, tuple) else col for col in data.columns]\n",
    "    # add a column showing the stock ticker\n",
    "    data[\"Stock\"] = stock_ticker\n",
    "    data_new = data.copy()\n",
    "    \n",
    "    # drop the columns that will not be used\n",
    "    data_new.drop(columns={\"High\", \"Low\", \"Volume\"}, inplace=True)\n",
    "\n",
    "    return data_new\n",
    "\n",
    "stock_df = download_stock(STOCK, START, END)\n",
    "stock_df.head(10)"
   ]
  },
  {
   "cell_type": "code",
   "execution_count": 56,
   "id": "dbac475c",
   "metadata": {},
   "outputs": [
    {
     "data": {
      "image/png": "[encoded data removed]",
      "text/plain": [
       "<Figure size 1200x600 with 1 Axes>"
      ]
     },
     "metadata": {},
     "output_type": "display_data"
    }
   ],
   "source": [
    "# plot the stock closing price graph\n",
    "plt.style.use(\"dark_background\")\n",
    "plt.figure(figsize=(12, 6))\n",
    "plt.plot(stock_df.index, stock_df[\"Close\"], \"w\", label=STOCK)\n",
    "plt.xlabel(\"Date\")\n",
    "plt.ylabel(\"Price, $\")\n",
    "\n",
    "plt.legend()\n",
    "plt.show()"
   ]
  },
  {
   "cell_type": "markdown",
   "id": "03f16afb",
   "metadata": {},
   "source": [
    "### **Moving Average Strategy Setup**\n",
    "\n",
    "- Developed a function to calculate short- and long-term moving averages.\n",
    "- Limited the maximum long MA value to ensure a balanced and comparable grid of combinations.\n",
    "- Visualized the stock’s price alongside the short and long moving averages to show crossover signals."
   ]
  },
  {
   "cell_type": "code",
   "execution_count": 57,
   "id": "93d56172",
   "metadata": {},
   "outputs": [
    {
     "data": {
      "image/png": "[encoded data removed]",
      "text/plain": [
       "<Figure size 1200x600 with 1 Axes>"
      ]
     },
     "metadata": {},
     "output_type": "display_data"
    }
   ],
   "source": [
    "# function to calculate short moving average and long moving average and add it to the dataframe\n",
    "def moving_average(short_ma, long_ma, df):\n",
    "    df = df.copy()\n",
    "    df[\"Short MA\"] = df[\"Close\"].rolling(window=short_ma).mean()\n",
    "    df[\"Long MA\"] = df[\"Close\"].rolling(window=long_ma).mean()\n",
    "    \n",
    "    return df\n",
    "\n",
    "SHORT_MA = 50\n",
    "LONG_MA = 200\n",
    "\n",
    "# max long moving average value allowed\n",
    "MAX_LONG_MA = 300\n",
    "\n",
    "# plot short, long moving averages, and the stock price graph\n",
    "plot_ma = moving_average(SHORT_MA, LONG_MA, stock_df)\n",
    "plt.figure(figsize=(12, 6))\n",
    "plt.plot(plot_ma.index, plot_ma.Close, \"w\", label=STOCK)\n",
    "plt.plot(plot_ma.index, plot_ma[\"Short MA\"], \"red\", label=f\"{SHORT_MA} days Short MA\")\n",
    "plt.plot(plot_ma.index, plot_ma[\"Long MA\"], \"y\", label=f\"{LONG_MA} days Long MA\")\n",
    "\n",
    "plt.xlabel(\"Date\")\n",
    "plt.ylabel(\"Price, $\")\n",
    "\n",
    "plt.legend()\n",
    "plt.show()"
   ]
  },
  {
   "cell_type": "markdown",
   "id": "20525a03",
   "metadata": {},
   "source": [
    "### **Strategy Backtesting Framework**\n",
    "\n",
    "- Implemented a backtest function to calculate:\n",
    "  - Cumulative returns from the SMA strategy\n",
    "  - Cumulative returns from simply holding the stock\n",
    "- Plotted both returns on a graph for direct comparison."
   ]
  },
  {
   "cell_type": "code",
   "execution_count": 58,
   "id": "36c1015f",
   "metadata": {},
   "outputs": [
    {
     "data": {
      "image/png": "[encoded data removed]",
      "text/plain": [
       "<Figure size 1200x600 with 1 Axes>"
      ]
     },
     "metadata": {},
     "output_type": "display_data"
    }
   ],
   "source": [
    "#backtesting the strategy on the stock\n",
    "def strategy_backtest(df):\n",
    "    \n",
    "    df[\"Long\"] = df[\"Short MA\"] > df[\"Long MA\"]\n",
    "    df[\"Long\"] = df[\"Long\"].shift(1, fill_value=False)\n",
    "    df[\"Daily Return\"] = np.where(df[\"Long\"], df[\"Close\"].pct_change() + 1, 1)\n",
    "    df[\"Strategy Cumulative Returns\"] = df[\"Daily Return\"].cumprod() * 100\n",
    "    df[\"Holding Cumulative Returns\"] = (df[\"Close\"].pct_change() + 1).cumprod() * 100\n",
    "        \n",
    "    return df\n",
    "\n",
    "ma_df = moving_average(SHORT_MA, LONG_MA, stock_df)\n",
    "\n",
    "#remove the max value of the long moving average to give fair comparison to each Short MA and Long MA combination\n",
    "fair_df = ma_df.iloc[MAX_LONG_MA:].copy()\n",
    "\n",
    "#plot the strategy returns vs. holding returns\n",
    "strategy_df = strategy_backtest(fair_df).fillna(100)\n",
    "plt.figure(figsize=(12, 6))\n",
    "plt.plot(strategy_df.index, strategy_df[\"Strategy Cumulative Returns\"], \"w\", label=\"Portfolio Value SMA Strategy Applied\")\n",
    "plt.plot(strategy_df.index, strategy_df[\"Holding Cumulative Returns\"], \"r\", label=\"Portfolio Value Hold Only\")\n",
    "\n",
    "plt.title(f\"{STOCK}\")\n",
    "plt.xlabel(\"Date\")\n",
    "plt.ylabel(\"Percent of the investment, %\")\n",
    "plt.legend()\n",
    "\n",
    "plt.show()"
   ]
  },
  {
   "cell_type": "markdown",
   "id": "d34877ac",
   "metadata": {},
   "source": [
    "### **5. Performance Metrics**\n",
    "\n",
    "For both the SMA strategy and passive holding, calculated the following:\n",
    "\n",
    "- **CAGR** (Compound Annual Growth Rate) – measures annualized return.\n",
    "- **Drawdown** – tracks the worst peak-to-trough declines.\n",
    "- **Sharpe Ratio** – evaluates risk-adjusted performance."
   ]
  },
  {
   "cell_type": "code",
   "execution_count": 59,
   "id": "4b4d7ab8",
   "metadata": {},
   "outputs": [
    {
     "name": "stdout",
     "output_type": "stream",
     "text": [
      "Holding the stock metrics (Benchmark)\n",
      "CAGR: 25.71%\n",
      "Drawdown: -43.80%\n",
      "Sharpe Ratio: 0.96\n",
      "\n",
      "\n",
      "Strategy metrics\n",
      "CAGR: 20.28%\n",
      "Drawdown: -45.61%\n",
      "Sharpe Ratio: 0.88\n"
     ]
    }
   ],
   "source": [
    "# CAGR function\n",
    "def cagr(df, column):\n",
    "    years = round(((df.index[-1] - df.index[0]).days) / 365.25, 2)\n",
    "    \n",
    "    return round(((df[column].iloc[-1] / df[column].iloc[0]) ** (1/years) - 1) * 100, 2)\n",
    "\n",
    "# drawdown function\n",
    "def drawdown(df, column):\n",
    "    \n",
    "    return (round((df[column] - df[column].cummax()) / df[column].cummax() * 100, 2)).min()\n",
    "\n",
    "# sharpe ratio function:\n",
    "def sharpe_ratio(df, column):\n",
    "    daily_return = df[column].pct_change()\n",
    "    avg_return = daily_return.mean()\n",
    "    std_deviation = daily_return.std()\n",
    "    \n",
    "    return round(avg_return / std_deviation * np.sqrt(252), 2)\n",
    "\n",
    "# print the metrics\n",
    "print(\"Holding the stock metrics (Benchmark)\")\n",
    "print(f\"CAGR: {cagr(strategy_df, \"Holding Cumulative Returns\"):.2f}%\")\n",
    "print(f\"Drawdown: {drawdown(strategy_df, \"Holding Cumulative Returns\"):.2f}%\")\n",
    "print(f\"Sharpe Ratio: {sharpe_ratio(strategy_df, \"Holding Cumulative Returns\"):.2f}\")\n",
    "\n",
    "print(\"\\n\")\n",
    "print(\"Strategy metrics\")\n",
    "print(f\"CAGR: {cagr(strategy_df, \"Strategy Cumulative Returns\"):.2f}%\")\n",
    "print(f\"Drawdown: {drawdown(strategy_df, \"Strategy Cumulative Returns\"):.2f}%\")\n",
    "print(f\"Sharpe Ratio: {sharpe_ratio(strategy_df, \"Strategy Cumulative Returns\"):.2f}\")\n"
   ]
  },
  {
   "cell_type": "markdown",
   "id": "b83a7573",
   "metadata": {},
   "source": [
    "### **Heatmap: Evaluating MA Combinations**\n",
    "\n",
    "- Constructed a heatmap showing performance across various MA combinations.\n",
    "  - **Short MAs**: 5 to 50 days (increments of 5)\n",
    "  - **Long MAs**: 100 to 250 days (increments of 5)\n",
    "- Focused on **CAGR** as the primary metric to assess strategy effectiveness across different parameter pairs."
   ]
  },
  {
   "cell_type": "code",
   "execution_count": 60,
   "id": "e9702707",
   "metadata": {},
   "outputs": [
    {
     "data": {
      "application/vnd.plotly.v1+json": {
       "config": {
        "plotlyServerURL": "https://plot.ly"
       },
       "data": [
        {
         "coloraxis": "coloraxis",
         "hovertemplate": "Short moving average: %{x}<br>Long moving average: %{y}<br>CAGR: %{z}<extra></extra>",
         "name": "0",
         "type": "heatmap",
         "x": {
          "bdata": "BQoPFBkeIygtMjc8QUY=",
          "dtype": "i1"
         },
         "xaxis": "x",
         "xgap": 1,
         "y": {
          "bdata": "eAB9AIIAhwCMAJEAlgCbAKAApQCqAK8AtAC5AL4AwwDIAM0A0gDXANwA4QDmAOsA8AD1APoA/wAEAQkBDgETARgBHQEiAScBLAE=",
          "dtype": "i2"
         },
         "yaxis": "y",
         "ygap": 1,
         "z": {
          "bdata": "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",
          "dtype": "f8",
          "shape": "37, 14"
         }
        }
       ],
       "layout": {
        "coloraxis": {
         "colorbar": {
          "title": {
           "text": "CAGR"
          }
         },
         "colorscale": [
          [
           0,
           "rgb(5,48,97)"
          ],
          [
           0.1,
           "rgb(33,102,172)"
          ],
          [
           0.2,
           "rgb(67,147,195)"
          ],
          [
           0.3,
           "rgb(146,197,222)"
          ],
          [
           0.4,
           "rgb(209,229,240)"
          ],
          [
           0.5,
           "rgb(247,247,247)"
          ],
          [
           0.6,
           "rgb(253,219,199)"
          ],
          [
           0.7,
           "rgb(244,165,130)"
          ],
          [
           0.8,
           "rgb(214,96,77)"
          ],
          [
           0.9,
           "rgb(178,24,43)"
          ],
          [
           1,
           "rgb(103,0,31)"
          ]
         ]
        },
        "font": {
         "color": "white"
        },
        "margin": {
         "t": 60
        },
        "paper_bgcolor": "black",
        "plot_bgcolor": "black",
        "template": {
         "data": {
          "bar": [
           {
            "error_x": {
             "color": "#2a3f5f"
            },
            "error_y": {
             "color": "#2a3f5f"
            },
            "marker": {
             "line": {
              "color": "#E5ECF6",
              "width": 0.5
             },
             "pattern": {
              "fillmode": "overlay",
              "size": 10,
              "solidity": 0.2
             }
            },
            "type": "bar"
           }
          ],
          "barpolar": [
           {
            "marker": {
             "line": {
              "color": "#E5ECF6",
              "width": 0.5
             },
             "pattern": {
              "fillmode": "overlay",
              "size": 10,
              "solidity": 0.2
             }
            },
            "type": "barpolar"
           }
          ],
          "carpet": [
           {
            "aaxis": {
             "endlinecolor": "#2a3f5f",
             "gridcolor": "white",
             "linecolor": "white",
             "minorgridcolor": "white",
             "startlinecolor": "#2a3f5f"
            },
            "baxis": {
             "endlinecolor": "#2a3f5f",
             "gridcolor": "white",
             "linecolor": "white",
             "minorgridcolor": "white",
             "startlinecolor": "#2a3f5f"
            },
            "type": "carpet"
           }
          ],
          "choropleth": [
           {
            "colorbar": {
             "outlinewidth": 0,
             "ticks": ""
            },
            "type": "choropleth"
           }
          ],
          "contour": [
           {
            "colorbar": {
             "outlinewidth": 0,
             "ticks": ""
            },
            "colorscale": [
             [
              0,
              "#0d0887"
             ],
             [
              0.1111111111111111,
              "#46039f"
             ],
             [
              0.2222222222222222,
              "#7201a8"
             ],
             [
              0.3333333333333333,
              "#9c179e"
             ],
             [
              0.4444444444444444,
              "#bd3786"
             ],
             [
              0.5555555555555556,
              "#d8576b"
             ],
             [
              0.6666666666666666,
              "#ed7953"
             ],
             [
              0.7777777777777778,
              "#fb9f3a"
             ],
             [
              0.8888888888888888,
              "#fdca26"
             ],
             [
              1,
              "#f0f921"
             ]
            ],
            "type": "contour"
           }
          ],
          "contourcarpet": [
           {
            "colorbar": {
             "outlinewidth": 0,
             "ticks": ""
            },
            "type": "contourcarpet"
           }
          ],
          "heatmap": [
           {
            "colorbar": {
             "outlinewidth": 0,
             "ticks": ""
            },
            "colorscale": [
             [
              0,
              "#0d0887"
             ],
             [
              0.1111111111111111,
              "#46039f"
             ],
             [
              0.2222222222222222,
              "#7201a8"
             ],
             [
              0.3333333333333333,
              "#9c179e"
             ],
             [
              0.4444444444444444,
              "#bd3786"
             ],
             [
              0.5555555555555556,
              "#d8576b"
             ],
             [
              0.6666666666666666,
              "#ed7953"
             ],
             [
              0.7777777777777778,
              "#fb9f3a"
             ],
             [
              0.8888888888888888,
              "#fdca26"
             ],
             [
              1,
              "#f0f921"
             ]
            ],
            "type": "heatmap"
           }
          ],
          "histogram": [
           {
            "marker": {
             "pattern": {
              "fillmode": "overlay",
              "size": 10,
              "solidity": 0.2
             }
            },
            "type": "histogram"
           }
          ],
          "histogram2d": [
           {
            "colorbar": {
             "outlinewidth": 0,
             "ticks": ""
            },
            "colorscale": [
             [
              0,
              "#0d0887"
             ],
             [
              0.1111111111111111,
              "#46039f"
             ],
             [
              0.2222222222222222,
              "#7201a8"
             ],
             [
              0.3333333333333333,
              "#9c179e"
             ],
             [
              0.4444444444444444,
              "#bd3786"
             ],
             [
              0.5555555555555556,
              "#d8576b"
             ],
             [
              0.6666666666666666,
              "#ed7953"
             ],
             [
              0.7777777777777778,
              "#fb9f3a"
             ],
             [
              0.8888888888888888,
              "#fdca26"
             ],
             [
              1,
              "#f0f921"
             ]
            ],
            "type": "histogram2d"
           }
          ],
          "histogram2dcontour": [
           {
            "colorbar": {
             "outlinewidth": 0,
             "ticks": ""
            },
            "colorscale": [
             [
              0,
              "#0d0887"
             ],
             [
              0.1111111111111111,
              "#46039f"
             ],
             [
              0.2222222222222222,
              "#7201a8"
             ],
             [
              0.3333333333333333,
              "#9c179e"
             ],
             [
              0.4444444444444444,
              "#bd3786"
             ],
             [
              0.5555555555555556,
              "#d8576b"
             ],
             [
              0.6666666666666666,
              "#ed7953"
             ],
             [
              0.7777777777777778,
              "#fb9f3a"
             ],
             [
              0.8888888888888888,
              "#fdca26"
             ],
             [
              1,
              "#f0f921"
             ]
            ],
            "type": "histogram2dcontour"
           }
          ],
          "mesh3d": [
           {
            "colorbar": {
             "outlinewidth": 0,
             "ticks": ""
            },
            "type": "mesh3d"
           }
          ],
          "parcoords": [
           {
            "line": {
             "colorbar": {
              "outlinewidth": 0,
              "ticks": ""
             }
            },
            "type": "parcoords"
           }
          ],
          "pie": [
           {
            "automargin": true,
            "type": "pie"
           }
          ],
          "scatter": [
           {
            "fillpattern": {
             "fillmode": "overlay",
             "size": 10,
             "solidity": 0.2
            },
            "type": "scatter"
           }
          ],
          "scatter3d": [
           {
            "line": {
             "colorbar": {
              "outlinewidth": 0,
              "ticks": ""
             }
            },
            "marker": {
             "colorbar": {
              "outlinewidth": 0,
              "ticks": ""
             }
            },
            "type": "scatter3d"
           }
          ],
          "scattercarpet": [
           {
            "marker": {
             "colorbar": {
              "outlinewidth": 0,
              "ticks": ""
             }
            },
            "type": "scattercarpet"
           }
          ],
          "scattergeo": [
           {
            "marker": {
             "colorbar": {
              "outlinewidth": 0,
              "ticks": ""
             }
            },
            "type": "scattergeo"
           }
          ],
          "scattergl": [
           {
            "marker": {
             "colorbar": {
              "outlinewidth": 0,
              "ticks": ""
             }
            },
            "type": "scattergl"
           }
          ],
          "scattermap": [
           {
            "marker": {
             "colorbar": {
              "outlinewidth": 0,
              "ticks": ""
             }
            },
            "type": "scattermap"
           }
          ],
          "scattermapbox": [
           {
            "marker": {
             "colorbar": {
              "outlinewidth": 0,
              "ticks": ""
             }
            },
            "type": "scattermapbox"
           }
          ],
          "scatterpolar": [
           {
            "marker": {
             "colorbar": {
              "outlinewidth": 0,
              "ticks": ""
             }
            },
            "type": "scatterpolar"
           }
          ],
          "scatterpolargl": [
           {
            "marker": {
             "colorbar": {
              "outlinewidth": 0,
              "ticks": ""
             }
            },
            "type": "scatterpolargl"
           }
          ],
          "scatterternary": [
           {
            "marker": {
             "colorbar": {
              "outlinewidth": 0,
              "ticks": ""
             }
            },
            "type": "scatterternary"
           }
          ],
          "surface": [
           {
            "colorbar": {
             "outlinewidth": 0,
             "ticks": ""
            },
            "colorscale": [
             [
              0,
              "#0d0887"
             ],
             [
              0.1111111111111111,
              "#46039f"
             ],
             [
              0.2222222222222222,
              "#7201a8"
             ],
             [
              0.3333333333333333,
              "#9c179e"
             ],
             [
              0.4444444444444444,
              "#bd3786"
             ],
             [
              0.5555555555555556,
              "#d8576b"
             ],
             [
              0.6666666666666666,
              "#ed7953"
             ],
             [
              0.7777777777777778,
              "#fb9f3a"
             ],
             [
              0.8888888888888888,
              "#fdca26"
             ],
             [
              1,
              "#f0f921"
             ]
            ],
            "type": "surface"
           }
          ],
          "table": [
           {
            "cells": {
             "fill": {
              "color": "#EBF0F8"
             },
             "line": {
              "color": "white"
             }
            },
            "header": {
             "fill": {
              "color": "#C8D4E3"
             },
             "line": {
              "color": "white"
             }
            },
            "type": "table"
           }
          ]
         },
         "layout": {
          "annotationdefaults": {
           "arrowcolor": "#2a3f5f",
           "arrowhead": 0,
           "arrowwidth": 1
          },
          "autotypenumbers": "strict",
          "coloraxis": {
           "colorbar": {
            "outlinewidth": 0,
            "ticks": ""
           }
          },
          "colorscale": {
           "diverging": [
            [
             0,
             "#8e0152"
            ],
            [
             0.1,
             "#c51b7d"
            ],
            [
             0.2,
             "#de77ae"
            ],
            [
             0.3,
             "#f1b6da"
            ],
            [
             0.4,
             "#fde0ef"
            ],
            [
             0.5,
             "#f7f7f7"
            ],
            [
             0.6,
             "#e6f5d0"
            ],
            [
             0.7,
             "#b8e186"
            ],
            [
             0.8,
             "#7fbc41"
            ],
            [
             0.9,
             "#4d9221"
            ],
            [
             1,
             "#276419"
            ]
           ],
           "sequential": [
            [
             0,
             "#0d0887"
            ],
            [
             0.1111111111111111,
             "#46039f"
            ],
            [
             0.2222222222222222,
             "#7201a8"
            ],
            [
             0.3333333333333333,
             "#9c179e"
            ],
            [
             0.4444444444444444,
             "#bd3786"
            ],
            [
             0.5555555555555556,
             "#d8576b"
            ],
            [
             0.6666666666666666,
             "#ed7953"
            ],
            [
             0.7777777777777778,
             "#fb9f3a"
            ],
            [
             0.8888888888888888,
             "#fdca26"
            ],
            [
             1,
             "#f0f921"
            ]
           ],
           "sequentialminus": [
            [
             0,
             "#0d0887"
            ],
            [
             0.1111111111111111,
             "#46039f"
            ],
            [
             0.2222222222222222,
             "#7201a8"
            ],
            [
             0.3333333333333333,
             "#9c179e"
            ],
            [
             0.4444444444444444,
             "#bd3786"
            ],
            [
             0.5555555555555556,
             "#d8576b"
            ],
            [
             0.6666666666666666,
             "#ed7953"
            ],
            [
             0.7777777777777778,
             "#fb9f3a"
            ],
            [
             0.8888888888888888,
             "#fdca26"
            ],
            [
             1,
             "#f0f921"
            ]
           ]
          },
          "colorway": [
           "#636efa",
           "#EF553B",
           "#00cc96",
           "#ab63fa",
           "#FFA15A",
           "#19d3f3",
           "#FF6692",
           "#B6E880",
           "#FF97FF",
           "#FECB52"
          ],
          "font": {
           "color": "#2a3f5f"
          },
          "geo": {
           "bgcolor": "white",
           "lakecolor": "white",
           "landcolor": "#E5ECF6",
           "showlakes": true,
           "showland": true,
           "subunitcolor": "white"
          },
          "hoverlabel": {
           "align": "left"
          },
          "hovermode": "closest",
          "mapbox": {
           "style": "light"
          },
          "paper_bgcolor": "white",
          "plot_bgcolor": "#E5ECF6",
          "polar": {
           "angularaxis": {
            "gridcolor": "white",
            "linecolor": "white",
            "ticks": ""
           },
           "bgcolor": "#E5ECF6",
           "radialaxis": {
            "gridcolor": "white",
            "linecolor": "white",
            "ticks": ""
           }
          },
          "scene": {
           "xaxis": {
            "backgroundcolor": "#E5ECF6",
            "gridcolor": "white",
            "gridwidth": 2,
            "linecolor": "white",
            "showbackground": true,
            "ticks": "",
            "zerolinecolor": "white"
           },
           "yaxis": {
            "backgroundcolor": "#E5ECF6",
            "gridcolor": "white",
            "gridwidth": 2,
            "linecolor": "white",
            "showbackground": true,
            "ticks": "",
            "zerolinecolor": "white"
           },
           "zaxis": {
            "backgroundcolor": "#E5ECF6",
            "gridcolor": "white",
            "gridwidth": 2,
            "linecolor": "white",
            "showbackground": true,
            "ticks": "",
            "zerolinecolor": "white"
           }
          },
          "shapedefaults": {
           "line": {
            "color": "#2a3f5f"
           }
          },
          "ternary": {
           "aaxis": {
            "gridcolor": "white",
            "linecolor": "white",
            "ticks": ""
           },
           "baxis": {
            "gridcolor": "white",
            "linecolor": "white",
            "ticks": ""
           },
           "bgcolor": "#E5ECF6",
           "caxis": {
            "gridcolor": "white",
            "linecolor": "white",
            "ticks": ""
           }
          },
          "title": {
           "x": 0.05
          },
          "xaxis": {
           "automargin": true,
           "gridcolor": "white",
           "linecolor": "white",
           "ticks": "",
           "title": {
            "standoff": 15
           },
           "zerolinecolor": "white",
           "zerolinewidth": 2
          },
          "yaxis": {
           "automargin": true,
           "gridcolor": "white",
           "linecolor": "white",
           "ticks": "",
           "title": {
            "standoff": 15
           },
           "zerolinecolor": "white",
           "zerolinewidth": 2
          }
         }
        },
        "title": {
         "text": "AAPL CAGR Heatmap"
        },
        "xaxis": {
         "anchor": "y",
         "color": "white",
         "constrain": "domain",
         "domain": [
          0,
          1
         ],
         "showgrid": false,
         "side": "top",
         "title": {
          "text": "Short moving average"
         }
        },
        "yaxis": {
         "anchor": "x",
         "autorange": "reversed",
         "color": "white",
         "constrain": "domain",
         "domain": [
          0,
          1
         ],
         "showgrid": false,
         "title": {
          "text": "Long moving average"
         }
        }
       }
      }
     },
     "metadata": {},
     "output_type": "display_data"
    }
   ],
   "source": [
    "# heatmap function \n",
    "metric = cagr\n",
    "\n",
    "def heatmap(metric_func, df):\n",
    "    short_ma_values = pd.Series(range(5, 71, 5))\n",
    "    long_ma_values = pd.Series(range(120, 301, 5))\n",
    "\n",
    "    # create a table with values for each of the short and long moving averages combinations\n",
    "    metric_table = {}\n",
    "    for short_value in short_ma_values:\n",
    "        metric_table[short_value] = []\n",
    "        for long_value in long_ma_values:\n",
    "            moving_average_df = moving_average(short_value, long_value, df)\n",
    "            fair_df = moving_average_df.iloc[MAX_LONG_MA:].copy() #for fair comparison\n",
    "            strategy_df = strategy_backtest(fair_df).fillna(100)\n",
    "            metric_value = metric_func(strategy_df, \"Strategy Cumulative Returns\")\n",
    "            metric_table[short_value].append(metric_value)\n",
    "    \n",
    "    metric_table = pd.DataFrame(metric_table, index=long_ma_values)\n",
    "    \n",
    "    return metric_table\n",
    "\n",
    "heatmap_table = heatmap(metric, stock_df)\n",
    "\n",
    "# plot the heatmap\n",
    "fig = px.imshow(\n",
    "    heatmap_table,\n",
    "    labels=dict(x=\"Short moving average\", y=\"Long moving average\", color=\"CAGR\"),\n",
    "    x=heatmap_table.columns,\n",
    "    y=heatmap_table.index,\n",
    "    color_continuous_scale=\"RdBu_r\"\n",
    "\n",
    ")\n",
    "fig.update_traces(xgap=1, ygap=1)\n",
    "fig.update_layout(title=f\"{STOCK} CAGR Heatmap\", xaxis_side=\"top\", xaxis=dict(scaleanchor=None), yaxis=dict(scaleanchor=None))\n",
    "fig.update_layout(\n",
    "    plot_bgcolor='black',\n",
    "    paper_bgcolor='black',\n",
    "    font=dict(color='white'),\n",
    "    xaxis=dict(showgrid=False, color='white'),\n",
    "    yaxis=dict(showgrid=False, color='white')\n",
    ")\n",
    "fig.write_image(\"heatmap_stock.png\")\n",
    "fig.show()"
   ]
  },
  {
   "cell_type": "markdown",
   "id": "1caad3db",
   "metadata": {},
   "source": [
    "![Heatmap](heatmap_stock.png)"
   ]
  },
  {
   "cell_type": "code",
   "execution_count": 61,
   "id": "a5aecdbd",
   "metadata": {},
   "outputs": [
    {
     "name": "stdout",
     "output_type": "stream",
     "text": [
      "Maximum value occurs at:\n",
      "- Short MA: 10 days\n",
      "- Long MA: 215 days\n",
      "- Value: 24.24%\n"
     ]
    }
   ],
   "source": [
    "# max CAGR value Short and Long moving averages combination\n",
    "max_value = np.where(heatmap_table == heatmap_table.max().max())\n",
    "short_ma_max_value = heatmap_table.columns[max_value[1]]\n",
    "long_ma_max_value = heatmap_table.index[max_value[0]]\n",
    "\n",
    "print(\"Maximum value occurs at:\")\n",
    "print(f\"- Short MA: {short_ma_max_value[0]} days\") \n",
    "print(f\"- Long MA: {long_ma_max_value[0]} days\")  \n",
    "print(f\"- Value: {heatmap_table.max().max():.2f}%\")\n"
   ]
  },
  {
   "cell_type": "markdown",
   "id": "2e81af2c",
   "metadata": {},
   "source": [
    "### **Rolling Period Analysis: Strategy vs Holding**\n",
    "\n",
    "- Conducted a rolling backtest using 11 overlapping 5-year periods within the 15-year window (2010–2025).\n",
    "- For each rolling window:\n",
    "  - Calculated CAGR of both the SMA strategy and passive holding.\n",
    "  - Measured the **Win Rate**: % of strategies that outperformed holding.\n",
    "  - Calculated **Average Win**: % by which winning strategies outperformed passive holding.\n",
    "\n",
    "**Key Outputs:**\n",
    "- **Win Rate Heatmap**: shows consistency of outperformance.\n",
    "- **Average Win Heatmap**: shows magnitude of outperformance when it occurs."
   ]
  },
  {
   "cell_type": "code",
   "execution_count": 62,
   "id": "fd320d8d",
   "metadata": {},
   "outputs": [
    {
     "data": {
      "application/vnd.plotly.v1+json": {
       "config": {
        "plotlyServerURL": "https://plot.ly"
       },
       "data": [
        {
         "coloraxis": "coloraxis",
         "hovertemplate": "Short moving average: %{x}<br>Long moving average: %{y}<br>Win Rate %: %{z}<extra></extra>",
         "name": "0",
         "type": "heatmap",
         "x": {
          "bdata": "BQoPFBkeIygtMjc8QUY=",
          "dtype": "i1"
         },
         "xaxis": "x",
         "xgap": 1,
         "y": {
          "bdata": "eAB9AIIAhwCMAJEAlgCbAKAApQCqAK8AtAC5AL4AwwDIAM0A0gDXANwA4QDmAOsA8AD1APoA/wAEAQkBDgETARgBHQEiAScBLAE=",
          "dtype": "i2"
         },
         "yaxis": "y",
         "ygap": 1,
         "z": {
          "bdata": "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",
          "dtype": "f8",
          "shape": "37, 14"
         }
        }
       ],
       "layout": {
        "coloraxis": {
         "colorbar": {
          "title": {
           "text": "Win Rate %"
          }
         },
         "colorscale": [
          [
           0,
           "rgb(255,245,240)"
          ],
          [
           0.125,
           "rgb(254,224,210)"
          ],
          [
           0.25,
           "rgb(252,187,161)"
          ],
          [
           0.375,
           "rgb(252,146,114)"
          ],
          [
           0.5,
           "rgb(251,106,74)"
          ],
          [
           0.625,
           "rgb(239,59,44)"
          ],
          [
           0.75,
           "rgb(203,24,29)"
          ],
          [
           0.875,
           "rgb(165,15,21)"
          ],
          [
           1,
           "rgb(103,0,13)"
          ]
         ]
        },
        "font": {
         "color": "white"
        },
        "margin": {
         "t": 60
        },
        "paper_bgcolor": "black",
        "plot_bgcolor": "black",
        "template": {
         "data": {
          "bar": [
           {
            "error_x": {
             "color": "#2a3f5f"
            },
            "error_y": {
             "color": "#2a3f5f"
            },
            "marker": {
             "line": {
              "color": "#E5ECF6",
              "width": 0.5
             },
             "pattern": {
              "fillmode": "overlay",
              "size": 10,
              "solidity": 0.2
             }
            },
            "type": "bar"
           }
          ],
          "barpolar": [
           {
            "marker": {
             "line": {
              "color": "#E5ECF6",
              "width": 0.5
             },
             "pattern": {
              "fillmode": "overlay",
              "size": 10,
              "solidity": 0.2
             }
            },
            "type": "barpolar"
           }
          ],
          "carpet": [
           {
            "aaxis": {
             "endlinecolor": "#2a3f5f",
             "gridcolor": "white",
             "linecolor": "white",
             "minorgridcolor": "white",
             "startlinecolor": "#2a3f5f"
            },
            "baxis": {
             "endlinecolor": "#2a3f5f",
             "gridcolor": "white",
             "linecolor": "white",
             "minorgridcolor": "white",
             "startlinecolor": "#2a3f5f"
            },
            "type": "carpet"
           }
          ],
          "choropleth": [
           {
            "colorbar": {
             "outlinewidth": 0,
             "ticks": ""
            },
            "type": "choropleth"
           }
          ],
          "contour": [
           {
            "colorbar": {
             "outlinewidth": 0,
             "ticks": ""
            },
            "colorscale": [
             [
              0,
              "#0d0887"
             ],
             [
              0.1111111111111111,
              "#46039f"
             ],
             [
              0.2222222222222222,
              "#7201a8"
             ],
             [
              0.3333333333333333,
              "#9c179e"
             ],
             [
              0.4444444444444444,
              "#bd3786"
             ],
             [
              0.5555555555555556,
              "#d8576b"
             ],
             [
              0.6666666666666666,
              "#ed7953"
             ],
             [
              0.7777777777777778,
              "#fb9f3a"
             ],
             [
              0.8888888888888888,
              "#fdca26"
             ],
             [
              1,
              "#f0f921"
             ]
            ],
            "type": "contour"
           }
          ],
          "contourcarpet": [
           {
            "colorbar": {
             "outlinewidth": 0,
             "ticks": ""
            },
            "type": "contourcarpet"
           }
          ],
          "heatmap": [
           {
            "colorbar": {
             "outlinewidth": 0,
             "ticks": ""
            },
            "colorscale": [
             [
              0,
              "#0d0887"
             ],
             [
              0.1111111111111111,
              "#46039f"
             ],
             [
              0.2222222222222222,
              "#7201a8"
             ],
             [
              0.3333333333333333,
              "#9c179e"
             ],
             [
              0.4444444444444444,
              "#bd3786"
             ],
             [
              0.5555555555555556,
              "#d8576b"
             ],
             [
              0.6666666666666666,
              "#ed7953"
             ],
             [
              0.7777777777777778,
              "#fb9f3a"
             ],
             [
              0.8888888888888888,
              "#fdca26"
             ],
             [
              1,
              "#f0f921"
             ]
            ],
            "type": "heatmap"
           }
          ],
          "histogram": [
           {
            "marker": {
             "pattern": {
              "fillmode": "overlay",
              "size": 10,
              "solidity": 0.2
             }
            },
            "type": "histogram"
           }
          ],
          "histogram2d": [
           {
            "colorbar": {
             "outlinewidth": 0,
             "ticks": ""
            },
            "colorscale": [
             [
              0,
              "#0d0887"
             ],
             [
              0.1111111111111111,
              "#46039f"
             ],
             [
              0.2222222222222222,
              "#7201a8"
             ],
             [
              0.3333333333333333,
              "#9c179e"
             ],
             [
              0.4444444444444444,
              "#bd3786"
             ],
             [
              0.5555555555555556,
              "#d8576b"
             ],
             [
              0.6666666666666666,
              "#ed7953"
             ],
             [
              0.7777777777777778,
              "#fb9f3a"
             ],
             [
              0.8888888888888888,
              "#fdca26"
             ],
             [
              1,
              "#f0f921"
             ]
            ],
            "type": "histogram2d"
           }
          ],
          "histogram2dcontour": [
           {
            "colorbar": {
             "outlinewidth": 0,
             "ticks": ""
            },
            "colorscale": [
             [
              0,
              "#0d0887"
             ],
             [
              0.1111111111111111,
              "#46039f"
             ],
             [
              0.2222222222222222,
              "#7201a8"
             ],
             [
              0.3333333333333333,
              "#9c179e"
             ],
             [
              0.4444444444444444,
              "#bd3786"
             ],
             [
              0.5555555555555556,
              "#d8576b"
             ],
             [
              0.6666666666666666,
              "#ed7953"
             ],
             [
              0.7777777777777778,
              "#fb9f3a"
             ],
             [
              0.8888888888888888,
              "#fdca26"
             ],
             [
              1,
              "#f0f921"
             ]
            ],
            "type": "histogram2dcontour"
           }
          ],
          "mesh3d": [
           {
            "colorbar": {
             "outlinewidth": 0,
             "ticks": ""
            },
            "type": "mesh3d"
           }
          ],
          "parcoords": [
           {
            "line": {
             "colorbar": {
              "outlinewidth": 0,
              "ticks": ""
             }
            },
            "type": "parcoords"
           }
          ],
          "pie": [
           {
            "automargin": true,
            "type": "pie"
           }
          ],
          "scatter": [
           {
            "fillpattern": {
             "fillmode": "overlay",
             "size": 10,
             "solidity": 0.2
            },
            "type": "scatter"
           }
          ],
          "scatter3d": [
           {
            "line": {
             "colorbar": {
              "outlinewidth": 0,
              "ticks": ""
             }
            },
            "marker": {
             "colorbar": {
              "outlinewidth": 0,
              "ticks": ""
             }
            },
            "type": "scatter3d"
           }
          ],
          "scattercarpet": [
           {
            "marker": {
             "colorbar": {
              "outlinewidth": 0,
              "ticks": ""
             }
            },
            "type": "scattercarpet"
           }
          ],
          "scattergeo": [
           {
            "marker": {
             "colorbar": {
              "outlinewidth": 0,
              "ticks": ""
             }
            },
            "type": "scattergeo"
           }
          ],
          "scattergl": [
           {
            "marker": {
             "colorbar": {
              "outlinewidth": 0,
              "ticks": ""
             }
            },
            "type": "scattergl"
           }
          ],
          "scattermap": [
           {
            "marker": {
             "colorbar": {
              "outlinewidth": 0,
              "ticks": ""
             }
            },
            "type": "scattermap"
           }
          ],
          "scattermapbox": [
           {
            "marker": {
             "colorbar": {
              "outlinewidth": 0,
              "ticks": ""
             }
            },
            "type": "scattermapbox"
           }
          ],
          "scatterpolar": [
           {
            "marker": {
             "colorbar": {
              "outlinewidth": 0,
              "ticks": ""
             }
            },
            "type": "scatterpolar"
           }
          ],
          "scatterpolargl": [
           {
            "marker": {
             "colorbar": {
              "outlinewidth": 0,
              "ticks": ""
             }
            },
            "type": "scatterpolargl"
           }
          ],
          "scatterternary": [
           {
            "marker": {
             "colorbar": {
              "outlinewidth": 0,
              "ticks": ""
             }
            },
            "type": "scatterternary"
           }
          ],
          "surface": [
           {
            "colorbar": {
             "outlinewidth": 0,
             "ticks": ""
            },
            "colorscale": [
             [
              0,
              "#0d0887"
             ],
             [
              0.1111111111111111,
              "#46039f"
             ],
             [
              0.2222222222222222,
              "#7201a8"
             ],
             [
              0.3333333333333333,
              "#9c179e"
             ],
             [
              0.4444444444444444,
              "#bd3786"
             ],
             [
              0.5555555555555556,
              "#d8576b"
             ],
             [
              0.6666666666666666,
              "#ed7953"
             ],
             [
              0.7777777777777778,
              "#fb9f3a"
             ],
             [
              0.8888888888888888,
              "#fdca26"
             ],
             [
              1,
              "#f0f921"
             ]
            ],
            "type": "surface"
           }
          ],
          "table": [
           {
            "cells": {
             "fill": {
              "color": "#EBF0F8"
             },
             "line": {
              "color": "white"
             }
            },
            "header": {
             "fill": {
              "color": "#C8D4E3"
             },
             "line": {
              "color": "white"
             }
            },
            "type": "table"
           }
          ]
         },
         "layout": {
          "annotationdefaults": {
           "arrowcolor": "#2a3f5f",
           "arrowhead": 0,
           "arrowwidth": 1
          },
          "autotypenumbers": "strict",
          "coloraxis": {
           "colorbar": {
            "outlinewidth": 0,
            "ticks": ""
           }
          },
          "colorscale": {
           "diverging": [
            [
             0,
             "#8e0152"
            ],
            [
             0.1,
             "#c51b7d"
            ],
            [
             0.2,
             "#de77ae"
            ],
            [
             0.3,
             "#f1b6da"
            ],
            [
             0.4,
             "#fde0ef"
            ],
            [
             0.5,
             "#f7f7f7"
            ],
            [
             0.6,
             "#e6f5d0"
            ],
            [
             0.7,
             "#b8e186"
            ],
            [
             0.8,
             "#7fbc41"
            ],
            [
             0.9,
             "#4d9221"
            ],
            [
             1,
             "#276419"
            ]
           ],
           "sequential": [
            [
             0,
             "#0d0887"
            ],
            [
             0.1111111111111111,
             "#46039f"
            ],
            [
             0.2222222222222222,
             "#7201a8"
            ],
            [
             0.3333333333333333,
             "#9c179e"
            ],
            [
             0.4444444444444444,
             "#bd3786"
            ],
            [
             0.5555555555555556,
             "#d8576b"
            ],
            [
             0.6666666666666666,
             "#ed7953"
            ],
            [
             0.7777777777777778,
             "#fb9f3a"
            ],
            [
             0.8888888888888888,
             "#fdca26"
            ],
            [
             1,
             "#f0f921"
            ]
           ],
           "sequentialminus": [
            [
             0,
             "#0d0887"
            ],
            [
             0.1111111111111111,
             "#46039f"
            ],
            [
             0.2222222222222222,
             "#7201a8"
            ],
            [
             0.3333333333333333,
             "#9c179e"
            ],
            [
             0.4444444444444444,
             "#bd3786"
            ],
            [
             0.5555555555555556,
             "#d8576b"
            ],
            [
             0.6666666666666666,
             "#ed7953"
            ],
            [
             0.7777777777777778,
             "#fb9f3a"
            ],
            [
             0.8888888888888888,
             "#fdca26"
            ],
            [
             1,
             "#f0f921"
            ]
           ]
          },
          "colorway": [
           "#636efa",
           "#EF553B",
           "#00cc96",
           "#ab63fa",
           "#FFA15A",
           "#19d3f3",
           "#FF6692",
           "#B6E880",
           "#FF97FF",
           "#FECB52"
          ],
          "font": {
           "color": "#2a3f5f"
          },
          "geo": {
           "bgcolor": "white",
           "lakecolor": "white",
           "landcolor": "#E5ECF6",
           "showlakes": true,
           "showland": true,
           "subunitcolor": "white"
          },
          "hoverlabel": {
           "align": "left"
          },
          "hovermode": "closest",
          "mapbox": {
           "style": "light"
          },
          "paper_bgcolor": "white",
          "plot_bgcolor": "#E5ECF6",
          "polar": {
           "angularaxis": {
            "gridcolor": "white",
            "linecolor": "white",
            "ticks": ""
           },
           "bgcolor": "#E5ECF6",
           "radialaxis": {
            "gridcolor": "white",
            "linecolor": "white",
            "ticks": ""
           }
          },
          "scene": {
           "xaxis": {
            "backgroundcolor": "#E5ECF6",
            "gridcolor": "white",
            "gridwidth": 2,
            "linecolor": "white",
            "showbackground": true,
            "ticks": "",
            "zerolinecolor": "white"
           },
           "yaxis": {
            "backgroundcolor": "#E5ECF6",
            "gridcolor": "white",
            "gridwidth": 2,
            "linecolor": "white",
            "showbackground": true,
            "ticks": "",
            "zerolinecolor": "white"
           },
           "zaxis": {
            "backgroundcolor": "#E5ECF6",
            "gridcolor": "white",
            "gridwidth": 2,
            "linecolor": "white",
            "showbackground": true,
            "ticks": "",
            "zerolinecolor": "white"
           }
          },
          "shapedefaults": {
           "line": {
            "color": "#2a3f5f"
           }
          },
          "ternary": {
           "aaxis": {
            "gridcolor": "white",
            "linecolor": "white",
            "ticks": ""
           },
           "baxis": {
            "gridcolor": "white",
            "linecolor": "white",
            "ticks": ""
           },
           "bgcolor": "#E5ECF6",
           "caxis": {
            "gridcolor": "white",
            "linecolor": "white",
            "ticks": ""
           }
          },
          "title": {
           "x": 0.05
          },
          "xaxis": {
           "automargin": true,
           "gridcolor": "white",
           "linecolor": "white",
           "ticks": "",
           "title": {
            "standoff": 15
           },
           "zerolinecolor": "white",
           "zerolinewidth": 2
          },
          "yaxis": {
           "automargin": true,
           "gridcolor": "white",
           "linecolor": "white",
           "ticks": "",
           "title": {
            "standoff": 15
           },
           "zerolinecolor": "white",
           "zerolinewidth": 2
          }
         }
        },
        "title": {
         "text": "AAPL Win Rate % Heatmap"
        },
        "xaxis": {
         "anchor": "y",
         "color": "white",
         "constrain": "domain",
         "domain": [
          0,
          1
         ],
         "showgrid": false,
         "side": "top",
         "title": {
          "text": "Short moving average"
         }
        },
        "yaxis": {
         "anchor": "x",
         "autorange": "reversed",
         "color": "white",
         "constrain": "domain",
         "domain": [
          0,
          1
         ],
         "showgrid": false,
         "title": {
          "text": "Long moving average"
         }
        }
       }
      }
     },
     "metadata": {},
     "output_type": "display_data"
    },
    {
     "data": {
      "application/vnd.plotly.v1+json": {
       "config": {
        "plotlyServerURL": "https://plot.ly"
       },
       "data": [
        {
         "coloraxis": "coloraxis",
         "hovertemplate": "Short moving average: %{x}<br>Long moving average: %{y}<br>CAGR: %{z}<extra></extra>",
         "name": "0",
         "type": "heatmap",
         "x": {
          "bdata": "BQoPFBkeIygtMjc8QUY=",
          "dtype": "i1"
         },
         "xaxis": "x",
         "xgap": 1,
         "y": {
          "bdata": "eAB9AIIAhwCMAJEAlgCbAKAApQCqAK8AtAC5AL4AwwDIAM0A0gDXANwA4QDmAOsA8AD1APoA/wAEAQkBDgETARgBHQEiAScBLAE=",
          "dtype": "i2"
         },
         "yaxis": "y",
         "ygap": 1,
         "z": {
          "bdata": "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",
          "dtype": "f8",
          "shape": "37, 14"
         }
        }
       ],
       "layout": {
        "coloraxis": {
         "colorbar": {
          "title": {
           "text": "CAGR"
          }
         },
         "colorscale": [
          [
           0,
           "rgb(255,245,240)"
          ],
          [
           0.125,
           "rgb(254,224,210)"
          ],
          [
           0.25,
           "rgb(252,187,161)"
          ],
          [
           0.375,
           "rgb(252,146,114)"
          ],
          [
           0.5,
           "rgb(251,106,74)"
          ],
          [
           0.625,
           "rgb(239,59,44)"
          ],
          [
           0.75,
           "rgb(203,24,29)"
          ],
          [
           0.875,
           "rgb(165,15,21)"
          ],
          [
           1,
           "rgb(103,0,13)"
          ]
         ]
        },
        "font": {
         "color": "white"
        },
        "margin": {
         "t": 60
        },
        "paper_bgcolor": "black",
        "plot_bgcolor": "black",
        "template": {
         "data": {
          "bar": [
           {
            "error_x": {
             "color": "#2a3f5f"
            },
            "error_y": {
             "color": "#2a3f5f"
            },
            "marker": {
             "line": {
              "color": "#E5ECF6",
              "width": 0.5
             },
             "pattern": {
              "fillmode": "overlay",
              "size": 10,
              "solidity": 0.2
             }
            },
            "type": "bar"
           }
          ],
          "barpolar": [
           {
            "marker": {
             "line": {
              "color": "#E5ECF6",
              "width": 0.5
             },
             "pattern": {
              "fillmode": "overlay",
              "size": 10,
              "solidity": 0.2
             }
            },
            "type": "barpolar"
           }
          ],
          "carpet": [
           {
            "aaxis": {
             "endlinecolor": "#2a3f5f",
             "gridcolor": "white",
             "linecolor": "white",
             "minorgridcolor": "white",
             "startlinecolor": "#2a3f5f"
            },
            "baxis": {
             "endlinecolor": "#2a3f5f",
             "gridcolor": "white",
             "linecolor": "white",
             "minorgridcolor": "white",
             "startlinecolor": "#2a3f5f"
            },
            "type": "carpet"
           }
          ],
          "choropleth": [
           {
            "colorbar": {
             "outlinewidth": 0,
             "ticks": ""
            },
            "type": "choropleth"
           }
          ],
          "contour": [
           {
            "colorbar": {
             "outlinewidth": 0,
             "ticks": ""
            },
            "colorscale": [
             [
              0,
              "#0d0887"
             ],
             [
              0.1111111111111111,
              "#46039f"
             ],
             [
              0.2222222222222222,
              "#7201a8"
             ],
             [
              0.3333333333333333,
              "#9c179e"
             ],
             [
              0.4444444444444444,
              "#bd3786"
             ],
             [
              0.5555555555555556,
              "#d8576b"
             ],
             [
              0.6666666666666666,
              "#ed7953"
             ],
             [
              0.7777777777777778,
              "#fb9f3a"
             ],
             [
              0.8888888888888888,
              "#fdca26"
             ],
             [
              1,
              "#f0f921"
             ]
            ],
            "type": "contour"
           }
          ],
          "contourcarpet": [
           {
            "colorbar": {
             "outlinewidth": 0,
             "ticks": ""
            },
            "type": "contourcarpet"
           }
          ],
          "heatmap": [
           {
            "colorbar": {
             "outlinewidth": 0,
             "ticks": ""
            },
            "colorscale": [
             [
              0,
              "#0d0887"
             ],
             [
              0.1111111111111111,
              "#46039f"
             ],
             [
              0.2222222222222222,
              "#7201a8"
             ],
             [
              0.3333333333333333,
              "#9c179e"
             ],
             [
              0.4444444444444444,
              "#bd3786"
             ],
             [
              0.5555555555555556,
              "#d8576b"
             ],
             [
              0.6666666666666666,
              "#ed7953"
             ],
             [
              0.7777777777777778,
              "#fb9f3a"
             ],
             [
              0.8888888888888888,
              "#fdca26"
             ],
             [
              1,
              "#f0f921"
             ]
            ],
            "type": "heatmap"
           }
          ],
          "histogram": [
           {
            "marker": {
             "pattern": {
              "fillmode": "overlay",
              "size": 10,
              "solidity": 0.2
             }
            },
            "type": "histogram"
           }
          ],
          "histogram2d": [
           {
            "colorbar": {
             "outlinewidth": 0,
             "ticks": ""
            },
            "colorscale": [
             [
              0,
              "#0d0887"
             ],
             [
              0.1111111111111111,
              "#46039f"
             ],
             [
              0.2222222222222222,
              "#7201a8"
             ],
             [
              0.3333333333333333,
              "#9c179e"
             ],
             [
              0.4444444444444444,
              "#bd3786"
             ],
             [
              0.5555555555555556,
              "#d8576b"
             ],
             [
              0.6666666666666666,
              "#ed7953"
             ],
             [
              0.7777777777777778,
              "#fb9f3a"
             ],
             [
              0.8888888888888888,
              "#fdca26"
             ],
             [
              1,
              "#f0f921"
             ]
            ],
            "type": "histogram2d"
           }
          ],
          "histogram2dcontour": [
           {
            "colorbar": {
             "outlinewidth": 0,
             "ticks": ""
            },
            "colorscale": [
             [
              0,
              "#0d0887"
             ],
             [
              0.1111111111111111,
              "#46039f"
             ],
             [
              0.2222222222222222,
              "#7201a8"
             ],
             [
              0.3333333333333333,
              "#9c179e"
             ],
             [
              0.4444444444444444,
              "#bd3786"
             ],
             [
              0.5555555555555556,
              "#d8576b"
             ],
             [
              0.6666666666666666,
              "#ed7953"
             ],
             [
              0.7777777777777778,
              "#fb9f3a"
             ],
             [
              0.8888888888888888,
              "#fdca26"
             ],
             [
              1,
              "#f0f921"
             ]
            ],
            "type": "histogram2dcontour"
           }
          ],
          "mesh3d": [
           {
            "colorbar": {
             "outlinewidth": 0,
             "ticks": ""
            },
            "type": "mesh3d"
           }
          ],
          "parcoords": [
           {
            "line": {
             "colorbar": {
              "outlinewidth": 0,
              "ticks": ""
             }
            },
            "type": "parcoords"
           }
          ],
          "pie": [
           {
            "automargin": true,
            "type": "pie"
           }
          ],
          "scatter": [
           {
            "fillpattern": {
             "fillmode": "overlay",
             "size": 10,
             "solidity": 0.2
            },
            "type": "scatter"
           }
          ],
          "scatter3d": [
           {
            "line": {
             "colorbar": {
              "outlinewidth": 0,
              "ticks": ""
             }
            },
            "marker": {
             "colorbar": {
              "outlinewidth": 0,
              "ticks": ""
             }
            },
            "type": "scatter3d"
           }
          ],
          "scattercarpet": [
           {
            "marker": {
             "colorbar": {
              "outlinewidth": 0,
              "ticks": ""
             }
            },
            "type": "scattercarpet"
           }
          ],
          "scattergeo": [
           {
            "marker": {
             "colorbar": {
              "outlinewidth": 0,
              "ticks": ""
             }
            },
            "type": "scattergeo"
           }
          ],
          "scattergl": [
           {
            "marker": {
             "colorbar": {
              "outlinewidth": 0,
              "ticks": ""
             }
            },
            "type": "scattergl"
           }
          ],
          "scattermap": [
           {
            "marker": {
             "colorbar": {
              "outlinewidth": 0,
              "ticks": ""
             }
            },
            "type": "scattermap"
           }
          ],
          "scattermapbox": [
           {
            "marker": {
             "colorbar": {
              "outlinewidth": 0,
              "ticks": ""
             }
            },
            "type": "scattermapbox"
           }
          ],
          "scatterpolar": [
           {
            "marker": {
             "colorbar": {
              "outlinewidth": 0,
              "ticks": ""
             }
            },
            "type": "scatterpolar"
           }
          ],
          "scatterpolargl": [
           {
            "marker": {
             "colorbar": {
              "outlinewidth": 0,
              "ticks": ""
             }
            },
            "type": "scatterpolargl"
           }
          ],
          "scatterternary": [
           {
            "marker": {
             "colorbar": {
              "outlinewidth": 0,
              "ticks": ""
             }
            },
            "type": "scatterternary"
           }
          ],
          "surface": [
           {
            "colorbar": {
             "outlinewidth": 0,
             "ticks": ""
            },
            "colorscale": [
             [
              0,
              "#0d0887"
             ],
             [
              0.1111111111111111,
              "#46039f"
             ],
             [
              0.2222222222222222,
              "#7201a8"
             ],
             [
              0.3333333333333333,
              "#9c179e"
             ],
             [
              0.4444444444444444,
              "#bd3786"
             ],
             [
              0.5555555555555556,
              "#d8576b"
             ],
             [
              0.6666666666666666,
              "#ed7953"
             ],
             [
              0.7777777777777778,
              "#fb9f3a"
             ],
             [
              0.8888888888888888,
              "#fdca26"
             ],
             [
              1,
              "#f0f921"
             ]
            ],
            "type": "surface"
           }
          ],
          "table": [
           {
            "cells": {
             "fill": {
              "color": "#EBF0F8"
             },
             "line": {
              "color": "white"
             }
            },
            "header": {
             "fill": {
              "color": "#C8D4E3"
             },
             "line": {
              "color": "white"
             }
            },
            "type": "table"
           }
          ]
         },
         "layout": {
          "annotationdefaults": {
           "arrowcolor": "#2a3f5f",
           "arrowhead": 0,
           "arrowwidth": 1
          },
          "autotypenumbers": "strict",
          "coloraxis": {
           "colorbar": {
            "outlinewidth": 0,
            "ticks": ""
           }
          },
          "colorscale": {
           "diverging": [
            [
             0,
             "#8e0152"
            ],
            [
             0.1,
             "#c51b7d"
            ],
            [
             0.2,
             "#de77ae"
            ],
            [
             0.3,
             "#f1b6da"
            ],
            [
             0.4,
             "#fde0ef"
            ],
            [
             0.5,
             "#f7f7f7"
            ],
            [
             0.6,
             "#e6f5d0"
            ],
            [
             0.7,
             "#b8e186"
            ],
            [
             0.8,
             "#7fbc41"
            ],
            [
             0.9,
             "#4d9221"
            ],
            [
             1,
             "#276419"
            ]
           ],
           "sequential": [
            [
             0,
             "#0d0887"
            ],
            [
             0.1111111111111111,
             "#46039f"
            ],
            [
             0.2222222222222222,
             "#7201a8"
            ],
            [
             0.3333333333333333,
             "#9c179e"
            ],
            [
             0.4444444444444444,
             "#bd3786"
            ],
            [
             0.5555555555555556,
             "#d8576b"
            ],
            [
             0.6666666666666666,
             "#ed7953"
            ],
            [
             0.7777777777777778,
             "#fb9f3a"
            ],
            [
             0.8888888888888888,
             "#fdca26"
            ],
            [
             1,
             "#f0f921"
            ]
           ],
           "sequentialminus": [
            [
             0,
             "#0d0887"
            ],
            [
             0.1111111111111111,
             "#46039f"
            ],
            [
             0.2222222222222222,
             "#7201a8"
            ],
            [
             0.3333333333333333,
             "#9c179e"
            ],
            [
             0.4444444444444444,
             "#bd3786"
            ],
            [
             0.5555555555555556,
             "#d8576b"
            ],
            [
             0.6666666666666666,
             "#ed7953"
            ],
            [
             0.7777777777777778,
             "#fb9f3a"
            ],
            [
             0.8888888888888888,
             "#fdca26"
            ],
            [
             1,
             "#f0f921"
            ]
           ]
          },
          "colorway": [
           "#636efa",
           "#EF553B",
           "#00cc96",
           "#ab63fa",
           "#FFA15A",
           "#19d3f3",
           "#FF6692",
           "#B6E880",
           "#FF97FF",
           "#FECB52"
          ],
          "font": {
           "color": "#2a3f5f"
          },
          "geo": {
           "bgcolor": "white",
           "lakecolor": "white",
           "landcolor": "#E5ECF6",
           "showlakes": true,
           "showland": true,
           "subunitcolor": "white"
          },
          "hoverlabel": {
           "align": "left"
          },
          "hovermode": "closest",
          "mapbox": {
           "style": "light"
          },
          "paper_bgcolor": "white",
          "plot_bgcolor": "#E5ECF6",
          "polar": {
           "angularaxis": {
            "gridcolor": "white",
            "linecolor": "white",
            "ticks": ""
           },
           "bgcolor": "#E5ECF6",
           "radialaxis": {
            "gridcolor": "white",
            "linecolor": "white",
            "ticks": ""
           }
          },
          "scene": {
           "xaxis": {
            "backgroundcolor": "#E5ECF6",
            "gridcolor": "white",
            "gridwidth": 2,
            "linecolor": "white",
            "showbackground": true,
            "ticks": "",
            "zerolinecolor": "white"
           },
           "yaxis": {
            "backgroundcolor": "#E5ECF6",
            "gridcolor": "white",
            "gridwidth": 2,
            "linecolor": "white",
            "showbackground": true,
            "ticks": "",
            "zerolinecolor": "white"
           },
           "zaxis": {
            "backgroundcolor": "#E5ECF6",
            "gridcolor": "white",
            "gridwidth": 2,
            "linecolor": "white",
            "showbackground": true,
            "ticks": "",
            "zerolinecolor": "white"
           }
          },
          "shapedefaults": {
           "line": {
            "color": "#2a3f5f"
           }
          },
          "ternary": {
           "aaxis": {
            "gridcolor": "white",
            "linecolor": "white",
            "ticks": ""
           },
           "baxis": {
            "gridcolor": "white",
            "linecolor": "white",
            "ticks": ""
           },
           "bgcolor": "#E5ECF6",
           "caxis": {
            "gridcolor": "white",
            "linecolor": "white",
            "ticks": ""
           }
          },
          "title": {
           "x": 0.05
          },
          "xaxis": {
           "automargin": true,
           "gridcolor": "white",
           "linecolor": "white",
           "ticks": "",
           "title": {
            "standoff": 15
           },
           "zerolinecolor": "white",
           "zerolinewidth": 2
          },
          "yaxis": {
           "automargin": true,
           "gridcolor": "white",
           "linecolor": "white",
           "ticks": "",
           "title": {
            "standoff": 15
           },
           "zerolinecolor": "white",
           "zerolinewidth": 2
          }
         }
        },
        "title": {
         "text": "AAPL Average Win %"
        },
        "xaxis": {
         "anchor": "y",
         "color": "white",
         "constrain": "domain",
         "domain": [
          0,
          1
         ],
         "showgrid": false,
         "side": "top",
         "title": {
          "text": "Short moving average"
         }
        },
        "yaxis": {
         "anchor": "x",
         "autorange": "reversed",
         "color": "white",
         "constrain": "domain",
         "domain": [
          0,
          1
         ],
         "showgrid": false,
         "title": {
          "text": "Long moving average"
         }
        }
       }
      }
     },
     "metadata": {},
     "output_type": "display_data"
    }
   ],
   "source": [
    "# 5-year rolling periods function\n",
    "def rolling_periods_test(start_date, df_stock, years_period, heatmap_table):\n",
    "    win_rate_heatmap = pd.DataFrame(0, index=heatmap_table.index, columns=heatmap_table.columns)\n",
    "    avg_win_heatmap = pd.DataFrame(0, index=heatmap_table.index, columns=heatmap_table.columns)\n",
    "    year = 0\n",
    "    count = 1\n",
    "    holding_rolling_cagr = 0\n",
    "    \n",
    "    while year < years_period - 5:\n",
    "        \n",
    "        start = (start_date + pd.DateOffset(years=year)).strftime(\"%Y-%m-%d\")\n",
    "        end = (start_date + pd.DateOffset(years=(year + 5))).strftime(\"%Y-%m-%d\")\n",
    "        rolling_stock_df = df_stock.loc[start:end].copy()\n",
    "        \n",
    "        # calculate holding cumulative returns for the period\n",
    "        returns = rolling_stock_df[\"Close\"].pct_change().fillna(0)\n",
    "        rolling_stock_df[\"Holding Cumulative Returns\"] = (1 + returns).cumprod() * 100\n",
    "        \n",
    "        # apply the strategy\n",
    "        strategy_rolling_cagr = heatmap(cagr, rolling_stock_df)\n",
    "        holding_rolling_cagr = pd.DataFrame(cagr(rolling_stock_df, \"Holding Cumulative Returns\"), index=strategy_rolling_cagr.index, columns=strategy_rolling_cagr.columns)\n",
    "        \n",
    "        # calculate win rate and average win percentage relative to holding\n",
    "        avg_win_map = np.where((strategy_rolling_cagr - holding_rolling_cagr) > 0, (strategy_rolling_cagr - holding_rolling_cagr) / abs(holding_rolling_cagr) * 100, 0)\n",
    "        performance_map = np.where((strategy_rolling_cagr - holding_rolling_cagr) < 0, 0, 1)\n",
    "        win_rate_heatmap += performance_map\n",
    "        avg_win_heatmap += avg_win_map\n",
    "        count += 1\n",
    "        year +=1 \n",
    "            \n",
    "    if count > 0:\n",
    "            \n",
    "        win_rate_heatmap = round(win_rate_heatmap / count * 100, 2)\n",
    "        avg_win_heatmap = (avg_win_heatmap / win_rate_heatmap).fillna(value = 0)\n",
    "        return win_rate_heatmap, avg_win_heatmap\n",
    "            \n",
    "    else:\n",
    "            \n",
    "        print(\"Time period selected is less than 5 years\")\n",
    "\n",
    "win_rate_heatmap, avg_win_heatmap = rolling_periods_test(START, stock_df, YEARS, heatmap_table)\n",
    "\n",
    "# plot Win Rate % heatmap\n",
    "fig = px.imshow(\n",
    "    win_rate_heatmap,\n",
    "    labels=dict(x=\"Short moving average\", y=\"Long moving average\", color=\"Win Rate %\"),\n",
    "    x=win_rate_heatmap.columns,\n",
    "    y=win_rate_heatmap.index,\n",
    "    color_continuous_scale=\"Reds\"\n",
    "\n",
    ")\n",
    "fig.update_layout(title=f\"{STOCK} Win Rate % Heatmap\", xaxis_side=\"top\", xaxis=dict(scaleanchor=None), yaxis=dict(scaleanchor=None))\n",
    "fig.update_layout(\n",
    "    plot_bgcolor='black',\n",
    "    paper_bgcolor='black',\n",
    "    font=dict(color='white'),\n",
    "    xaxis=dict(showgrid=False, color='white'),\n",
    "    yaxis=dict(showgrid=False, color='white')\n",
    ")\n",
    "fig.update_traces(xgap=1, ygap=1)\n",
    "fig.write_image(\"heatmap_stock_win_rate.png\")\n",
    "fig.show()\n",
    "\n",
    "\n",
    "# plot Average Win Rate heatmap\n",
    "fig = px.imshow(\n",
    "    avg_win_heatmap,\n",
    "    labels=dict(x=\"Short moving average\", y=\"Long moving average\", color=\"CAGR\"),\n",
    "    x=avg_win_heatmap.columns,\n",
    "    y=avg_win_heatmap.index,\n",
    "    color_continuous_scale=\"Reds\"\n",
    "\n",
    ")\n",
    "fig.update_layout(title=f\"{STOCK} Average Win %\", xaxis_side=\"top\", xaxis=dict(scaleanchor=None), yaxis=dict(scaleanchor=None), plot_bgcolor='black')\n",
    "fig.update_layout(\n",
    "    plot_bgcolor='black',\n",
    "    paper_bgcolor='black',\n",
    "    font=dict(color='white'),\n",
    "    xaxis=dict(showgrid=False, color='white'),\n",
    "    yaxis=dict(showgrid=False, color='white')\n",
    ")\n",
    "fig.update_traces(xgap=1, ygap=1)\n",
    "fig.write_image(\"heatmap_stock_avg_win.png\")\n",
    "fig.show()\n",
    "\n"
   ]
  },
  {
   "cell_type": "markdown",
   "id": "4a76a425",
   "metadata": {},
   "source": [
    "![Heatmap](heatmap_stock_win_rate.png)"
   ]
  },
  {
   "cell_type": "markdown",
   "id": "8959dd68",
   "metadata": {},
   "source": [
    "![Heatmap](heatmap_stock_avg_win.png)"
   ]
  },
  {
   "cell_type": "markdown",
   "id": "f061aa60",
   "metadata": {},
   "source": [
    "### **Visualizing Rolling Period Results**\n",
    "\n",
    "- Plotted **Win Rate (%)** on the y-axis and **Average Win (%)** on the x-axis in a scatterplot.\n",
    "- Each point represents a unique short–long MA pair.\n",
    "- Helps visualize the balance between consistency and potential upside."
   ]
  },
  {
   "cell_type": "code",
   "execution_count": 63,
   "id": "53baff7a",
   "metadata": {},
   "outputs": [
    {
     "data": {
      "application/vnd.plotly.v1+json": {
       "config": {
        "plotlyServerURL": "https://plot.ly"
       },
       "data": [
        {
         "customdata": [
          [
           5,
           120,
           "Small-Small"
          ],
          [
           10,
           120,
           "Small-Small"
          ],
          [
           15,
           120,
           "Small-Small"
          ],
          [
           20,
           120,
           "Small-Small"
          ],
          [
           25,
           120,
           "Small-Small"
          ],
          [
           30,
           120,
           "Small-Small"
          ],
          [
           35,
           120,
           "Small-Small"
          ],
          [
           5,
           125,
           "Small-Small"
          ],
          [
           10,
           125,
           "Small-Small"
          ],
          [
           15,
           125,
           "Small-Small"
          ],
          [
           20,
           125,
           "Small-Small"
          ],
          [
           25,
           125,
           "Small-Small"
          ],
          [
           30,
           125,
           "Small-Small"
          ],
          [
           35,
           125,
           "Small-Small"
          ],
          [
           5,
           130,
           "Small-Small"
          ],
          [
           10,
           130,
           "Small-Small"
          ],
          [
           15,
           130,
           "Small-Small"
          ],
          [
           20,
           130,
           "Small-Small"
          ],
          [
           25,
           130,
           "Small-Small"
          ],
          [
           30,
           130,
           "Small-Small"
          ],
          [
           35,
           130,
           "Small-Small"
          ],
          [
           5,
           135,
           "Small-Small"
          ],
          [
           10,
           135,
           "Small-Small"
          ],
          [
           15,
           135,
           "Small-Small"
          ],
          [
           20,
           135,
           "Small-Small"
          ],
          [
           25,
           135,
           "Small-Small"
          ],
          [
           30,
           135,
           "Small-Small"
          ],
          [
           35,
           135,
           "Small-Small"
          ],
          [
           5,
           140,
           "Small-Small"
          ],
          [
           10,
           140,
           "Small-Small"
          ],
          [
           15,
           140,
           "Small-Small"
          ],
          [
           20,
           140,
           "Small-Small"
          ],
          [
           25,
           140,
           "Small-Small"
          ],
          [
           30,
           140,
           "Small-Small"
          ],
          [
           35,
           140,
           "Small-Small"
          ],
          [
           5,
           145,
           "Small-Small"
          ],
          [
           10,
           145,
           "Small-Small"
          ],
          [
           15,
           145,
           "Small-Small"
          ],
          [
           20,
           145,
           "Small-Small"
          ],
          [
           25,
           145,
           "Small-Small"
          ],
          [
           30,
           145,
           "Small-Small"
          ],
          [
           35,
           145,
           "Small-Small"
          ],
          [
           5,
           150,
           "Small-Small"
          ],
          [
           10,
           150,
           "Small-Small"
          ],
          [
           15,
           150,
           "Small-Small"
          ],
          [
           20,
           150,
           "Small-Small"
          ],
          [
           25,
           150,
           "Small-Small"
          ],
          [
           30,
           150,
           "Small-Small"
          ],
          [
           35,
           150,
           "Small-Small"
          ],
          [
           5,
           155,
           "Small-Small"
          ],
          [
           10,
           155,
           "Small-Small"
          ],
          [
           15,
           155,
           "Small-Small"
          ],
          [
           20,
           155,
           "Small-Small"
          ],
          [
           25,
           155,
           "Small-Small"
          ],
          [
           30,
           155,
           "Small-Small"
          ],
          [
           35,
           155,
           "Small-Small"
          ],
          [
           5,
           160,
           "Small-Small"
          ],
          [
           10,
           160,
           "Small-Small"
          ],
          [
           15,
           160,
           "Small-Small"
          ],
          [
           20,
           160,
           "Small-Small"
          ],
          [
           25,
           160,
           "Small-Small"
          ],
          [
           30,
           160,
           "Small-Small"
          ],
          [
           35,
           160,
           "Small-Small"
          ],
          [
           5,
           165,
           "Small-Small"
          ],
          [
           10,
           165,
           "Small-Small"
          ],
          [
           15,
           165,
           "Small-Small"
          ],
          [
           20,
           165,
           "Small-Small"
          ],
          [
           25,
           165,
           "Small-Small"
          ],
          [
           30,
           165,
           "Small-Small"
          ],
          [
           35,
           165,
           "Small-Small"
          ],
          [
           5,
           170,
           "Small-Small"
          ],
          [
           10,
           170,
           "Small-Small"
          ],
          [
           15,
           170,
           "Small-Small"
          ],
          [
           20,
           170,
           "Small-Small"
          ],
          [
           25,
           170,
           "Small-Small"
          ],
          [
           30,
           170,
           "Small-Small"
          ],
          [
           35,
           170,
           "Small-Small"
          ],
          [
           5,
           175,
           "Small-Small"
          ],
          [
           10,
           175,
           "Small-Small"
          ],
          [
           15,
           175,
           "Small-Small"
          ],
          [
           20,
           175,
           "Small-Small"
          ],
          [
           25,
           175,
           "Small-Small"
          ],
          [
           30,
           175,
           "Small-Small"
          ],
          [
           35,
           175,
           "Small-Small"
          ],
          [
           5,
           180,
           "Small-Small"
          ],
          [
           10,
           180,
           "Small-Small"
          ],
          [
           15,
           180,
           "Small-Small"
          ],
          [
           20,
           180,
           "Small-Small"
          ],
          [
           25,
           180,
           "Small-Small"
          ],
          [
           30,
           180,
           "Small-Small"
          ],
          [
           35,
           180,
           "Small-Small"
          ],
          [
           5,
           185,
           "Small-Small"
          ],
          [
           10,
           185,
           "Small-Small"
          ],
          [
           15,
           185,
           "Small-Small"
          ],
          [
           20,
           185,
           "Small-Small"
          ],
          [
           25,
           185,
           "Small-Small"
          ],
          [
           30,
           185,
           "Small-Small"
          ],
          [
           35,
           185,
           "Small-Small"
          ],
          [
           5,
           190,
           "Small-Small"
          ],
          [
           10,
           190,
           "Small-Small"
          ],
          [
           15,
           190,
           "Small-Small"
          ],
          [
           20,
           190,
           "Small-Small"
          ],
          [
           25,
           190,
           "Small-Small"
          ],
          [
           30,
           190,
           "Small-Small"
          ],
          [
           35,
           190,
           "Small-Small"
          ],
          [
           5,
           195,
           "Small-Small"
          ],
          [
           10,
           195,
           "Small-Small"
          ],
          [
           15,
           195,
           "Small-Small"
          ],
          [
           20,
           195,
           "Small-Small"
          ],
          [
           25,
           195,
           "Small-Small"
          ],
          [
           30,
           195,
           "Small-Small"
          ],
          [
           35,
           195,
           "Small-Small"
          ],
          [
           5,
           200,
           "Small-Small"
          ],
          [
           10,
           200,
           "Small-Small"
          ],
          [
           15,
           200,
           "Small-Small"
          ],
          [
           20,
           200,
           "Small-Small"
          ],
          [
           25,
           200,
           "Small-Small"
          ],
          [
           30,
           200,
           "Small-Small"
          ],
          [
           35,
           200,
           "Small-Small"
          ],
          [
           5,
           205,
           "Small-Small"
          ],
          [
           10,
           205,
           "Small-Small"
          ],
          [
           15,
           205,
           "Small-Small"
          ],
          [
           20,
           205,
           "Small-Small"
          ],
          [
           25,
           205,
           "Small-Small"
          ],
          [
           30,
           205,
           "Small-Small"
          ],
          [
           35,
           205,
           "Small-Small"
          ],
          [
           5,
           210,
           "Small-Small"
          ],
          [
           10,
           210,
           "Small-Small"
          ],
          [
           15,
           210,
           "Small-Small"
          ],
          [
           20,
           210,
           "Small-Small"
          ],
          [
           25,
           210,
           "Small-Small"
          ],
          [
           30,
           210,
           "Small-Small"
          ],
          [
           35,
           210,
           "Small-Small"
          ]
         ],
         "hovertemplate": "MA pairs=%{customdata[2]}<br>Average Win %=%{x:.2f}<br>Win Rate %=%{y:.2f}<br>short MA=%{customdata[0]}<br>long MA=%{customdata[1]}<extra></extra>",
         "legendgroup": "Small-Small",
         "marker": {
          "color": "#636efa",
          "symbol": "circle"
         },
         "mode": "markers",
         "name": "Small-Small",
         "orientation": "v",
         "showlegend": true,
         "type": "scatter",
         "x": {
          "bdata": "AAAAAAAAAAAAAAAAAAAAAKNw5wmjQ94/AAAAAAAAAAAAAAAAAAAAAAAAAAAAAAAAAAAAAAAAAABR+Vj0X4vQPwAAAAAAAAAAAAAAAAAAAACybFJMaZ34PwAAAAAAAAAAAAAAAAAAAAAAAAAAAAAAAAgpnmok7fk/Fh0cVsdy7D8Exrvksfu0PxBmbhx5sAVAsyvt3Noz9z9PeyPTfF7jP1H5WPRfi+A/MsyfFKLoB0Al2CEp/2L1P9ZUTiOvqO0/UDq+Y+70AUAkVKt97XgJQHpZSWJaBgRAyWAXa34C9j8OI13g9S8LQP2yVaBklPQ/snQ/o4xx8D+iy8ypxBD5P73m8q8SJABAg9E9+Q52AkBWjwStUWr7P+Rv1j7C7v8/9oLGJEbK9z/anWAyBSv6P/DH7tbGKfM/zJWzkj0S/z/Xk8qh+IICQHw01WBhrgVAl1L+qdOsCEDejYkXysUDQApwm5Nw2vM/rfDI93qHBEDmBX6ufjUCQIJNqwoB3PQ/npZGE/qtDECRXlUDCTINQC0NBYQwUglAvyU62GPX+D80StU1hRUFQGemMOZF6gJAs6d2MclJC0CB00dwV8gCQJr4LIZrqQtAeBY4JteFCUBXNH3ZvzcDQJ36nj/j6ghA64EHA21LBkATK1THTeL4P5UUJxTJ7wlAE/SX0usR/z+zSpWt5If7P2nIzq0s4wJAC+XOxjG37j9e5emI3zz7PzIkt0m3+Pw/ZN5CgKmgAED155ayhen8P16qxaN/kAhAAatoSUHADECFSxuBCHX9P22g71sXLQRAEYuQd/4f8z9mHUJB9kkBQIicjZvW8AJAthbv69PdBkB5UVwLNzIMQCPQNNLbjv0/Snsj03xeA0BGGv9Hm7f4P/oMS+FdfwVAhX7Y4GuI/j+ue+W3XxUCQEF/uJC2BAlAiMlQouuh+j/riW+CBmPxP4VZVTcnJv0/KYlQBqOMBECSP/zR9nHxP34EvwsQp/8/AHBEZOETCkD8NsxLdn4AQF/hDD1zLPk//r9mOYMhAUBB4cgEGcr5P2w+aXU31Po/zVxUIyV5AUDfTCSoO1wSQEF/uJC2BAlA8m5TzRNvAEAF1TSUuVIBQNBGIrPzpwJAKlC2YBGU9j97J72rykUCQD59DMTB7Q9AMcaLKHvaBEDYLIJlyU/9P06N4WPfsABAa+GvnWWZ+z9BBRD3hXD7P+6tRZiYKQNAZ6Yw5kXqEkB+UwjYK0kVQP3+ZMZoRwBACQTS8DPp9T/VZyufCMn6P65XK59CmABA+JGy7vJJA0AV5KM9XN0SQPv294muEQhABBZTQBl8+z+kUTmkbLf5Pw7E48Tb8/g/MQa/r7MFAkDpu6FPvGQCQEY/qYeiJhRAVFJTCEeU+D96RI9KyiEDQAYf5y6vsfU//AwXcc1e+z8=",
          "dtype": "f8"
         },
         "xaxis": "x",
         "y": {
          "bdata": "AAAAAAAAAAAAAAAAAAAAAClcj8L1qCBAAAAAAAAAAAAAAAAAAAAAAAAAAAAAAAAAAAAAAAAAAAApXI/C9aggQAAAAAAAAAAAAAAAAAAAAAApXI/C9aggQAAAAAAAAAAAAAAAAAAAAAAAAAAAAAAAAClcj8L1qCBAKVyPwvWoIEApXI/C9aggQClcj8L1qCBAKVyPwvWoIEApXI/C9aggQClcj8L1qCBAKVyPwvWoIEApXI/C9aggQClcj8L1qCBAKVyPwvWoIEApXI/C9aggQClcj8L1qCBA7FG4HoWrMEApXI/C9aggQClcj8L1qCBAKVyPwvWoIEDsUbgehaswQClcj8L1qCBAKVyPwvWoIEDsUbgehaswQOxRuB6FqzBA7FG4HoWrMEDsUbgehaswQOxRuB6FqzBAKVyPwvWoIEApXI/C9aggQAAAAAAAADlA7FG4HoWrMEApXI/C9aggQAAAAAAAADlAKVyPwvWoIEApXI/C9aggQOxRuB6FqzBA7FG4HoWrMEDsUbgehaswQClcj8L1qCBA7FG4HoWrMEApXI/C9aggQClcj8L1qCBAKVyPwvWoIEAAAAAAAAA5QOxRuB6FqzBAKVyPwvWoIEApXI/C9aggQClcj8L1qCBAKVyPwvWoIEDsUbgehaswQOxRuB6FqzBACtejcD2qQEDsUbgehaswQOxRuB6FqzBA7FG4HoWrMEApXI/C9aggQOxRuB6FqzBAAAAAAAAAOUAK16NwPapAQClcj8L1qCBAKVyPwvWoIEApXI/C9aggQClcj8L1qCBAAAAAAAAAOUAAAAAAAAA5QAAAAAAAADlA7FG4HoWrMEApXI/C9aggQClcj8L1qCBAKVyPwvWoIEAAAAAAAAA5QOxRuB6FqzBACtejcD2qQEAAAAAAAAA5QClcj8L1qCBAKVyPwvWoIEAAAAAAAAA5QArXo3A9qkBA7FG4HoWrMEAK16NwPapAQArXo3A9qkBAKVyPwvWoIEApXI/C9aggQAAAAAAAADlAAAAAAAAAOUAAAAAAAAA5QArXo3A9qkBACtejcD2qQEApXI/C9aggQClcj8L1qCBACtejcD2qQEAAAAAAAAA5QOxRuB6FqzBAAAAAAAAAOUAK16NwPapAQClcj8L1qCBA7FG4HoWrMEAK16NwPapAQAAAAAAAADlA7FG4HoWrMEAAAAAAAAA5QAAAAAAAADlAKVyPwvWoIEApXI/C9aggQAAAAAAAADlAAAAAAAAAOUDsUbgehaswQAAAAAAAADlAAAAAAAAAOUApXI/C9aggQOxRuB6FqzBAAAAAAAAAOUDsUbgehaswQOxRuB6FqzBAAAAAAAAAOUAK16NwPapAQClcj8L1qCBACtejcD2qQEDsUbgehaswQOxRuB6FqzBA7FG4HoWrMEA=",
          "dtype": "f8"
         },
         "yaxis": "y"
        },
        {
         "customdata": [
          [
           40,
           120,
           "Big-small"
          ],
          [
           45,
           120,
           "Big-small"
          ],
          [
           50,
           120,
           "Big-small"
          ],
          [
           55,
           120,
           "Big-small"
          ],
          [
           60,
           120,
           "Big-small"
          ],
          [
           65,
           120,
           "Big-small"
          ],
          [
           70,
           120,
           "Big-small"
          ],
          [
           40,
           125,
           "Big-small"
          ],
          [
           45,
           125,
           "Big-small"
          ],
          [
           50,
           125,
           "Big-small"
          ],
          [
           55,
           125,
           "Big-small"
          ],
          [
           60,
           125,
           "Big-small"
          ],
          [
           65,
           125,
           "Big-small"
          ],
          [
           70,
           125,
           "Big-small"
          ],
          [
           40,
           130,
           "Big-small"
          ],
          [
           45,
           130,
           "Big-small"
          ],
          [
           50,
           130,
           "Big-small"
          ],
          [
           55,
           130,
           "Big-small"
          ],
          [
           60,
           130,
           "Big-small"
          ],
          [
           65,
           130,
           "Big-small"
          ],
          [
           70,
           130,
           "Big-small"
          ],
          [
           40,
           135,
           "Big-small"
          ],
          [
           45,
           135,
           "Big-small"
          ],
          [
           50,
           135,
           "Big-small"
          ],
          [
           55,
           135,
           "Big-small"
          ],
          [
           60,
           135,
           "Big-small"
          ],
          [
           65,
           135,
           "Big-small"
          ],
          [
           70,
           135,
           "Big-small"
          ],
          [
           40,
           140,
           "Big-small"
          ],
          [
           45,
           140,
           "Big-small"
          ],
          [
           50,
           140,
           "Big-small"
          ],
          [
           55,
           140,
           "Big-small"
          ],
          [
           60,
           140,
           "Big-small"
          ],
          [
           65,
           140,
           "Big-small"
          ],
          [
           70,
           140,
           "Big-small"
          ],
          [
           40,
           145,
           "Big-small"
          ],
          [
           45,
           145,
           "Big-small"
          ],
          [
           50,
           145,
           "Big-small"
          ],
          [
           55,
           145,
           "Big-small"
          ],
          [
           60,
           145,
           "Big-small"
          ],
          [
           65,
           145,
           "Big-small"
          ],
          [
           70,
           145,
           "Big-small"
          ],
          [
           40,
           150,
           "Big-small"
          ],
          [
           45,
           150,
           "Big-small"
          ],
          [
           50,
           150,
           "Big-small"
          ],
          [
           55,
           150,
           "Big-small"
          ],
          [
           60,
           150,
           "Big-small"
          ],
          [
           65,
           150,
           "Big-small"
          ],
          [
           70,
           150,
           "Big-small"
          ],
          [
           40,
           155,
           "Big-small"
          ],
          [
           45,
           155,
           "Big-small"
          ],
          [
           50,
           155,
           "Big-small"
          ],
          [
           55,
           155,
           "Big-small"
          ],
          [
           60,
           155,
           "Big-small"
          ],
          [
           65,
           155,
           "Big-small"
          ],
          [
           70,
           155,
           "Big-small"
          ],
          [
           40,
           160,
           "Big-small"
          ],
          [
           45,
           160,
           "Big-small"
          ],
          [
           50,
           160,
           "Big-small"
          ],
          [
           55,
           160,
           "Big-small"
          ],
          [
           60,
           160,
           "Big-small"
          ],
          [
           65,
           160,
           "Big-small"
          ],
          [
           70,
           160,
           "Big-small"
          ],
          [
           40,
           165,
           "Big-small"
          ],
          [
           45,
           165,
           "Big-small"
          ],
          [
           50,
           165,
           "Big-small"
          ],
          [
           55,
           165,
           "Big-small"
          ],
          [
           60,
           165,
           "Big-small"
          ],
          [
           65,
           165,
           "Big-small"
          ],
          [
           70,
           165,
           "Big-small"
          ],
          [
           40,
           170,
           "Big-small"
          ],
          [
           45,
           170,
           "Big-small"
          ],
          [
           50,
           170,
           "Big-small"
          ],
          [
           55,
           170,
           "Big-small"
          ],
          [
           60,
           170,
           "Big-small"
          ],
          [
           65,
           170,
           "Big-small"
          ],
          [
           70,
           170,
           "Big-small"
          ],
          [
           40,
           175,
           "Big-small"
          ],
          [
           45,
           175,
           "Big-small"
          ],
          [
           50,
           175,
           "Big-small"
          ],
          [
           55,
           175,
           "Big-small"
          ],
          [
           60,
           175,
           "Big-small"
          ],
          [
           65,
           175,
           "Big-small"
          ],
          [
           70,
           175,
           "Big-small"
          ],
          [
           40,
           180,
           "Big-small"
          ],
          [
           45,
           180,
           "Big-small"
          ],
          [
           50,
           180,
           "Big-small"
          ],
          [
           55,
           180,
           "Big-small"
          ],
          [
           60,
           180,
           "Big-small"
          ],
          [
           65,
           180,
           "Big-small"
          ],
          [
           70,
           180,
           "Big-small"
          ],
          [
           40,
           185,
           "Big-small"
          ],
          [
           45,
           185,
           "Big-small"
          ],
          [
           50,
           185,
           "Big-small"
          ],
          [
           55,
           185,
           "Big-small"
          ],
          [
           60,
           185,
           "Big-small"
          ],
          [
           65,
           185,
           "Big-small"
          ],
          [
           70,
           185,
           "Big-small"
          ],
          [
           40,
           190,
           "Big-small"
          ],
          [
           45,
           190,
           "Big-small"
          ],
          [
           50,
           190,
           "Big-small"
          ],
          [
           55,
           190,
           "Big-small"
          ],
          [
           60,
           190,
           "Big-small"
          ],
          [
           65,
           190,
           "Big-small"
          ],
          [
           70,
           190,
           "Big-small"
          ],
          [
           40,
           195,
           "Big-small"
          ],
          [
           45,
           195,
           "Big-small"
          ],
          [
           50,
           195,
           "Big-small"
          ],
          [
           55,
           195,
           "Big-small"
          ],
          [
           60,
           195,
           "Big-small"
          ],
          [
           65,
           195,
           "Big-small"
          ],
          [
           70,
           195,
           "Big-small"
          ],
          [
           40,
           200,
           "Big-small"
          ],
          [
           45,
           200,
           "Big-small"
          ],
          [
           50,
           200,
           "Big-small"
          ],
          [
           55,
           200,
           "Big-small"
          ],
          [
           60,
           200,
           "Big-small"
          ],
          [
           65,
           200,
           "Big-small"
          ],
          [
           70,
           200,
           "Big-small"
          ],
          [
           40,
           205,
           "Big-small"
          ],
          [
           45,
           205,
           "Big-small"
          ],
          [
           50,
           205,
           "Big-small"
          ],
          [
           55,
           205,
           "Big-small"
          ],
          [
           60,
           205,
           "Big-small"
          ],
          [
           65,
           205,
           "Big-small"
          ],
          [
           70,
           205,
           "Big-small"
          ],
          [
           40,
           210,
           "Big-small"
          ],
          [
           45,
           210,
           "Big-small"
          ],
          [
           50,
           210,
           "Big-small"
          ],
          [
           55,
           210,
           "Big-small"
          ],
          [
           60,
           210,
           "Big-small"
          ],
          [
           65,
           210,
           "Big-small"
          ],
          [
           70,
           210,
           "Big-small"
          ]
         ],
         "hovertemplate": "MA pairs=%{customdata[2]}<br>Average Win %=%{x:.2f}<br>Win Rate %=%{y:.2f}<br>short MA=%{customdata[0]}<br>long MA=%{customdata[1]}<extra></extra>",
         "legendgroup": "Big-small",
         "marker": {
          "color": "#EF553B",
          "symbol": "circle"
         },
         "mode": "markers",
         "name": "Big-small",
         "orientation": "v",
         "showlegend": true,
         "type": "scatter",
         "x": {
          "bdata": "0eeflkQ50z8wad3xsL4DQPyM/z2Hs/0/weK2dmMcAUDPjziePVX2P3dXnZVl7/o/zJWzkj0S/z/QYJ7yqF35PytLtYKingBAEsKQR1Kc+j9fl4zA8xfyP9c0WpHfTO0/B2oD2rJW+z8IrRQWNtcFQKhAiuz7owBACZe+Bw848z+msNpML4b7P90b/tL9sfw/LSc+tYTE7z8kGYeYjcz2P7Gtt7v3Bvo/U/yWSFLSCUA/Yw4tDl0AQNjnihkGAARApLUXOzPy9z+7aL2OL/cCQD8Bg2/T1/s/6NHARNi2+z+kMbjKw9gLQEP7mLAWdAdAUoqD8BvBAkAuUBbAs9ITQGwmdpHSMP8/6QV+rn41EkBj0DToavcKQEg7XCLaKQZAKE478Q1BBkBKlE9st/kFQL9ifAQBOhRAVFOWSzefBUBY8xdqMc4RQDkBg2/T1wtAwtBzXksaCkBNJDmgE90GQMy+szRtCABArIhdPd4YAEAuktGVvMcRQJ0Be29ti/w/aiK6OjQAB0BDATToRKX/Pxwp1Q3teABAJp+cHvJk/z+YJqB+i6ABQOQD0uGJHglAgz08/wyX+T9xUDOSfgcEQE0fOOEVPwBA0YWKA0ew/D9/w/7GX/kBQAFy9BdDlPo/kcW75LH7BECPGRuYQSIDQLEFO9Q+cAVAb6/faQYeBUBb//3jABIGQJHRhW8BG/s/FJeqLks6AEByCjRX6XL8P3/wh1KLVQlA5FSIKZrVCUCmbAFQ6UQEQPGlLTZamfI/VuMb5wYSAEChWReIsZn/P7np98rmMAdA5/rV4ebHC0CaePZzTWgMQJDpGvBfiQNAEpzuK3n9+j8s8l+N9AwCQOdJZgRZvAdARwx3oUyLEEDxdCrmL70HQCj6e3sAqQdAYfOeVUgq+D9gX7g0LuD2P/yCi9FGVwFAOVS73Be5DUA4WUsWbfAUQMD23vFVGQhAG+87w7OnEEAN5exbXJX4PwhZDxKjovk/q/PW9A0NBEDNM2ua7iQQQE1WGyvwDghAJhblJP8AB0Bf6dD4JqwHQKzqhpAqLvs/WCpqXkBVAkCW/KDl40UKQFTvSgq6GP8/43jd5XvZBkBmcKzaLZoLQDI09gzOPAZAeBb2k1da+D9uSoQO150BQPrrTzb96whAr7VSZ8gKA0CWUo4wSxYHQIqJMeW21ghA8t1q3X7fDEDoSVU8SC74P1f5uwobEwlA/3ftK+c2A0Ca1cN3zu8EQBZb8qV8lQNAmy4oJzTHB0BvS2MQROwIQMBLjCZ8dfc/MbZidVGUAkCBiNWqOtkFQMlH54fXgAtAm4TLr0PaBEAwn/JyHwgHQJiRzfB5OwhA7MiiOJqN+z/Xv9UslsULQLmzWeWAZwZAvaC1Y5xGBUAGRkuQ9OUDQNSlaAyYEghAcc0RMp//C0A=",
          "dtype": "f8"
         },
         "xaxis": "x",
         "y": {
          "bdata": "KVyPwvWoIEAAAAAAAAA5QAAAAAAAADlAAAAAAAAAOUDsUbgehaswQClcj8L1qCBAKVyPwvWoIEDsUbgehaswQOxRuB6FqzBAAAAAAAAAOUDsUbgehaswQOxRuB6FqzBAKVyPwvWoIEApXI/C9aggQOxRuB6FqzBAAAAAAAAAOUDsUbgehaswQOxRuB6FqzBA7FG4HoWrMEApXI/C9aggQClcj8L1qCBA7FG4HoWrMEAAAAAAAAA5QAAAAAAAADlA7FG4HoWrMEApXI/C9aggQClcj8L1qCBA7FG4HoWrMEDsUbgehaswQOxRuB6FqzBAAAAAAAAAOUApXI/C9aggQOxRuB6FqzBAKVyPwvWoIEDsUbgehaswQAAAAAAAADlA7FG4HoWrMEDsUbgehaswQClcj8L1qCBA7FG4HoWrMEApXI/C9aggQClcj8L1qCBA7FG4HoWrMEDsUbgehaswQAAAAAAAADlAAAAAAAAAOUApXI/C9aggQOxRuB6FqzBAKVyPwvWoIEAAAAAAAAA5QAAAAAAAADlAAAAAAAAAOUAAAAAAAAA5QClcj8L1qCBA7FG4HoWrMEDsUbgehaswQAAAAAAAADlAAAAAAAAAOUDsUbgehaswQOxRuB6FqzBAKVyPwvWoIEDsUbgehaswQAAAAAAAADlA7FG4HoWrMEDsUbgehaswQOxRuB6FqzBA7FG4HoWrMEDsUbgehaswQOxRuB6FqzBAAAAAAAAAOUDsUbgehaswQAAAAAAAADlA7FG4HoWrMEDsUbgehaswQOxRuB6FqzBA7FG4HoWrMEAAAAAAAAA5QOxRuB6FqzBAAAAAAAAAOUDsUbgehaswQOxRuB6FqzBA7FG4HoWrMEAAAAAAAAA5QAAAAAAAADlAAAAAAAAAOUAAAAAAAAA5QOxRuB6FqzBA7FG4HoWrMEDsUbgehaswQAAAAAAAADlA7FG4HoWrMEAAAAAAAAA5QOxRuB6FqzBA7FG4HoWrMEDsUbgehaswQAAAAAAAADlACtejcD2qQEAK16NwPapAQAAAAAAAADlA7FG4HoWrMEDsUbgehaswQArXo3A9qkBACtejcD2qQEAAAAAAAAA5QArXo3A9qkBAAAAAAAAAOUDsUbgehaswQOxRuB6FqzBACtejcD2qQEAK16NwPapAQAAAAAAAADlAAAAAAAAAOUAAAAAAAAA5QOxRuB6FqzBAAAAAAAAAOUAAAAAAAAA5QArXo3A9qkBACtejcD2qQEAK16NwPapAQAAAAAAAADlAAAAAAAAAOUAAAAAAAAA5QAAAAAAAADlACtejcD2qQEAK16NwPapAQAAAAAAAADlAAAAAAAAAOUDsUbgehaswQOxRuB6FqzBAAAAAAAAAOUAK16NwPapAQAAAAAAAADlA7FG4HoWrMEA=",
          "dtype": "f8"
         },
         "yaxis": "y"
        },
        {
         "customdata": [
          [
           5,
           215,
           "Small-Big"
          ],
          [
           10,
           215,
           "Small-Big"
          ],
          [
           15,
           215,
           "Small-Big"
          ],
          [
           20,
           215,
           "Small-Big"
          ],
          [
           25,
           215,
           "Small-Big"
          ],
          [
           30,
           215,
           "Small-Big"
          ],
          [
           35,
           215,
           "Small-Big"
          ],
          [
           5,
           220,
           "Small-Big"
          ],
          [
           10,
           220,
           "Small-Big"
          ],
          [
           15,
           220,
           "Small-Big"
          ],
          [
           20,
           220,
           "Small-Big"
          ],
          [
           25,
           220,
           "Small-Big"
          ],
          [
           30,
           220,
           "Small-Big"
          ],
          [
           35,
           220,
           "Small-Big"
          ],
          [
           5,
           225,
           "Small-Big"
          ],
          [
           10,
           225,
           "Small-Big"
          ],
          [
           15,
           225,
           "Small-Big"
          ],
          [
           20,
           225,
           "Small-Big"
          ],
          [
           25,
           225,
           "Small-Big"
          ],
          [
           30,
           225,
           "Small-Big"
          ],
          [
           35,
           225,
           "Small-Big"
          ],
          [
           5,
           230,
           "Small-Big"
          ],
          [
           10,
           230,
           "Small-Big"
          ],
          [
           15,
           230,
           "Small-Big"
          ],
          [
           20,
           230,
           "Small-Big"
          ],
          [
           25,
           230,
           "Small-Big"
          ],
          [
           30,
           230,
           "Small-Big"
          ],
          [
           35,
           230,
           "Small-Big"
          ],
          [
           5,
           235,
           "Small-Big"
          ],
          [
           10,
           235,
           "Small-Big"
          ],
          [
           15,
           235,
           "Small-Big"
          ],
          [
           20,
           235,
           "Small-Big"
          ],
          [
           25,
           235,
           "Small-Big"
          ],
          [
           30,
           235,
           "Small-Big"
          ],
          [
           35,
           235,
           "Small-Big"
          ],
          [
           5,
           240,
           "Small-Big"
          ],
          [
           10,
           240,
           "Small-Big"
          ],
          [
           15,
           240,
           "Small-Big"
          ],
          [
           20,
           240,
           "Small-Big"
          ],
          [
           25,
           240,
           "Small-Big"
          ],
          [
           30,
           240,
           "Small-Big"
          ],
          [
           35,
           240,
           "Small-Big"
          ],
          [
           5,
           245,
           "Small-Big"
          ],
          [
           10,
           245,
           "Small-Big"
          ],
          [
           15,
           245,
           "Small-Big"
          ],
          [
           20,
           245,
           "Small-Big"
          ],
          [
           25,
           245,
           "Small-Big"
          ],
          [
           30,
           245,
           "Small-Big"
          ],
          [
           35,
           245,
           "Small-Big"
          ],
          [
           5,
           250,
           "Small-Big"
          ],
          [
           10,
           250,
           "Small-Big"
          ],
          [
           15,
           250,
           "Small-Big"
          ],
          [
           20,
           250,
           "Small-Big"
          ],
          [
           25,
           250,
           "Small-Big"
          ],
          [
           30,
           250,
           "Small-Big"
          ],
          [
           35,
           250,
           "Small-Big"
          ],
          [
           5,
           255,
           "Small-Big"
          ],
          [
           10,
           255,
           "Small-Big"
          ],
          [
           15,
           255,
           "Small-Big"
          ],
          [
           20,
           255,
           "Small-Big"
          ],
          [
           25,
           255,
           "Small-Big"
          ],
          [
           30,
           255,
           "Small-Big"
          ],
          [
           35,
           255,
           "Small-Big"
          ],
          [
           5,
           260,
           "Small-Big"
          ],
          [
           10,
           260,
           "Small-Big"
          ],
          [
           15,
           260,
           "Small-Big"
          ],
          [
           20,
           260,
           "Small-Big"
          ],
          [
           25,
           260,
           "Small-Big"
          ],
          [
           30,
           260,
           "Small-Big"
          ],
          [
           35,
           260,
           "Small-Big"
          ],
          [
           5,
           265,
           "Small-Big"
          ],
          [
           10,
           265,
           "Small-Big"
          ],
          [
           15,
           265,
           "Small-Big"
          ],
          [
           20,
           265,
           "Small-Big"
          ],
          [
           25,
           265,
           "Small-Big"
          ],
          [
           30,
           265,
           "Small-Big"
          ],
          [
           35,
           265,
           "Small-Big"
          ],
          [
           5,
           270,
           "Small-Big"
          ],
          [
           10,
           270,
           "Small-Big"
          ],
          [
           15,
           270,
           "Small-Big"
          ],
          [
           20,
           270,
           "Small-Big"
          ],
          [
           25,
           270,
           "Small-Big"
          ],
          [
           30,
           270,
           "Small-Big"
          ],
          [
           35,
           270,
           "Small-Big"
          ],
          [
           5,
           275,
           "Small-Big"
          ],
          [
           10,
           275,
           "Small-Big"
          ],
          [
           15,
           275,
           "Small-Big"
          ],
          [
           20,
           275,
           "Small-Big"
          ],
          [
           25,
           275,
           "Small-Big"
          ],
          [
           30,
           275,
           "Small-Big"
          ],
          [
           35,
           275,
           "Small-Big"
          ],
          [
           5,
           280,
           "Small-Big"
          ],
          [
           10,
           280,
           "Small-Big"
          ],
          [
           15,
           280,
           "Small-Big"
          ],
          [
           20,
           280,
           "Small-Big"
          ],
          [
           25,
           280,
           "Small-Big"
          ],
          [
           30,
           280,
           "Small-Big"
          ],
          [
           35,
           280,
           "Small-Big"
          ],
          [
           5,
           285,
           "Small-Big"
          ],
          [
           10,
           285,
           "Small-Big"
          ],
          [
           15,
           285,
           "Small-Big"
          ],
          [
           20,
           285,
           "Small-Big"
          ],
          [
           25,
           285,
           "Small-Big"
          ],
          [
           30,
           285,
           "Small-Big"
          ],
          [
           35,
           285,
           "Small-Big"
          ],
          [
           5,
           290,
           "Small-Big"
          ],
          [
           10,
           290,
           "Small-Big"
          ],
          [
           15,
           290,
           "Small-Big"
          ],
          [
           20,
           290,
           "Small-Big"
          ],
          [
           25,
           290,
           "Small-Big"
          ],
          [
           30,
           290,
           "Small-Big"
          ],
          [
           35,
           290,
           "Small-Big"
          ],
          [
           5,
           295,
           "Small-Big"
          ],
          [
           10,
           295,
           "Small-Big"
          ],
          [
           15,
           295,
           "Small-Big"
          ],
          [
           20,
           295,
           "Small-Big"
          ],
          [
           25,
           295,
           "Small-Big"
          ],
          [
           30,
           295,
           "Small-Big"
          ],
          [
           35,
           295,
           "Small-Big"
          ],
          [
           5,
           300,
           "Small-Big"
          ],
          [
           10,
           300,
           "Small-Big"
          ],
          [
           15,
           300,
           "Small-Big"
          ],
          [
           20,
           300,
           "Small-Big"
          ],
          [
           25,
           300,
           "Small-Big"
          ],
          [
           30,
           300,
           "Small-Big"
          ],
          [
           35,
           300,
           "Small-Big"
          ]
         ],
         "hovertemplate": "MA pairs=%{customdata[2]}<br>Average Win %=%{x:.2f}<br>Win Rate %=%{y:.2f}<br>short MA=%{customdata[0]}<br>long MA=%{customdata[1]}<extra></extra>",
         "legendgroup": "Small-Big",
         "marker": {
          "color": "#00cc96",
          "symbol": "circle"
         },
         "mode": "markers",
         "name": "Small-Big",
         "orientation": "v",
         "showlegend": true,
         "type": "scatter",
         "x": {
          "bdata": "mjH8ltb0CkAwSz3/jZIDQMkb1gpEExRAxAdkokDCBkDkA9LhiR4JQCXYISn/YgVA9wEiCCSo+T/k/feCYmsLQKGZnH+B2QFAZV/3aPs7B0CJ0epqTd8EQOQD0uGJHglAkAYhVEBlBkA+fQzEwe0PQAhD+smb+gZAFYVZHKScAUDFUAc4BnL5PzDN9XocdBRAkcW75LH7BEBg9O81QHn/P/i4liqTURNAZgXbPXrTBEC6X5Dl9fz/P+m3uf1jYPs//K6bfzUA+z/Yzu6GWC8FQMSmVy1vNwJAJOdrRGjiA0BvCOTuQGkJQAQFZH4m4gBAAzs78Vsw/j82L6oED5fyP0j97bGZMQZAA8HDDW94+j9fI2FYQQ7/P8G8prFvFQlA559sYsHqAED05WML69/9P6wGkSN7ovs/SP3tsZkxBkDW7ZXxQaYDQJTKEYK5VQBAjQriIK8GC0DEcKS9EhAFQCmd0W6onANArAaRI3ui+z9I/e2xmTEGQPZjuHBtG/8/c5pNFkeb+T8hrkicFeMFQCaIjWdxJgZAnEeyELMHA0CdfhXr9NQEQLcjAIa3Xw9AdATOyIgqAUCpYYqp7C74Py8jDsWxNgZA+iSh+FhSBkCrNlZTaNAAQJ1+Fev01ARAX9hG9pl/AUBzBLYwPH//Py5F5MX1BfQ/H1P7u8J3BEByTrTO5/UGQO+8aT8gXvY/kcW75LH7BEDzf4rKM3sCQAVqn/y9av8/KFjdkxjg9D+UqIpSDigBQGbjp+M36P4/ye8RI/Mp8j+sMS5nCfEFQJ/8SgzYARJA/CQktcPWAEDdLYiKAhb8P0CIh3u8NP0/+94wlcFJ/D8w5y2I6kXzP0j97bGZMQZAYylRK91IEkB7GOTyy5wSQI5cNW+D7vs/huQaMU17AUDS3Hduv5D5P1MMCamMPPA/0ngyvh4pAED+9BB2bYkSQEAEhaJCehFAYS4/0rcb+z+5sdkpVMb4P8g/tmMiz/o/Kf2YtJU48D/V4guaB0UBQBhkQp30s/M//7OrBt8fEUCC8LnUP8AEQOQwOq2RkABAdskIbkuH+T994IWYEcXvP9PAtx8/PwNA7opuDctp/D+mOMVXsjkRQHSI3uH7ogZACnDvXQOs/D9T3XWoOUb2P9pZPcJo5fI/TLSb6+fzDEAYuJs6+Jb9Pw9A0d1glAFAQ+ggfyk4BkA465RBb+n8P79j3Jq1AvQ/UutxP6zk9T8UvmhHdN4BQC+KZ/gZ8gJAa63/VznO/T80UbMrxe4DQGZsDNcq4vc/tj94/9Vo8T+7XAKv0nP6P179d4oIrfk/3Qq7AB+fAkD0spzwkJz4P3idAB9LcANA",
          "dtype": "f8"
         },
         "xaxis": "x",
         "y": {
          "bdata": "AAAAAAAAOUAK16NwPapAQClcj8L1qCBA7FG4HoWrMEApXI/C9aggQClcj8L1qCBA7FG4HoWrMEAAAAAAAAA5QAAAAAAAADlA7FG4HoWrMEDsUbgehaswQClcj8L1qCBAKVyPwvWoIEApXI/C9aggQAAAAAAAADlAAAAAAAAAOUAK16NwPapAQClcj8L1qCBAKVyPwvWoIEDsUbgehaswQClcj8L1qCBAAAAAAAAAOUAAAAAAAAA5QArXo3A9qkBAAAAAAAAAOUApXI/C9aggQOxRuB6FqzBA7FG4HoWrMEAAAAAAAAA5QAAAAAAAADlACtejcD2qQEAAAAAAAAA5QClcj8L1qCBAAAAAAAAAOUDsUbgehaswQAAAAAAAADlAAAAAAAAAOUAK16NwPapAQOxRuB6FqzBAKVyPwvWoIEDsUbgehaswQAAAAAAAADlAAAAAAAAAOUAAAAAAAAA5QAAAAAAAADlA7FG4HoWrMEApXI/C9aggQAAAAAAAADlACtejcD2qQEAK16NwPapAQAAAAAAAADlAAAAAAAAAOUApXI/C9aggQClcj8L1qCBAAAAAAAAAOUAK16NwPapAQArXo3A9qkBAAAAAAAAAOUAAAAAAAAA5QClcj8L1qCBA7FG4HoWrMEDsUbgehaswQArXo3A9qkBACtejcD2qQEAAAAAAAAA5QAAAAAAAADlAKVyPwvWoIEDsUbgehaswQOxRuB6FqzBACtejcD2qQEAK16NwPapAQAAAAAAAADlAAAAAAAAAOUApXI/C9aggQClcj8L1qCBA7FG4HoWrMEAK16NwPapAQArXo3A9qkBAAAAAAAAAOUAAAAAAAAA5QClcj8L1qCBAKVyPwvWoIEApXI/C9aggQAAAAAAAADlAAAAAAAAAOUAAAAAAAAA5QAAAAAAAADlA7FG4HoWrMEApXI/C9aggQClcj8L1qCBAAAAAAAAAOUAK16NwPapAQAAAAAAAADlAAAAAAAAAOUDsUbgehaswQAAAAAAAADlAKVyPwvWoIEDsUbgehaswQAAAAAAAADlAAAAAAAAAOUAAAAAAAAA5QOxRuB6FqzBAAAAAAAAAOUApXI/C9aggQOxRuB6FqzBAAAAAAAAAOUAAAAAAAAA5QAAAAAAAADlAKVyPwvWoIEAAAAAAAAA5QOxRuB6FqzBA7FG4HoWrMEDsUbgehaswQAAAAAAAADlAAAAAAAAAOUDsUbgehaswQAAAAAAAADlA7FG4HoWrMEDsUbgehaswQAAAAAAAADlAAAAAAAAAOUAAAAAAAAA5QOxRuB6FqzBAAAAAAAAAOUAAAAAAAAA5QOxRuB6FqzBA",
          "dtype": "f8"
         },
         "yaxis": "y"
        },
        {
         "customdata": [
          [
           40,
           215,
           "Big-Big"
          ],
          [
           45,
           215,
           "Big-Big"
          ],
          [
           50,
           215,
           "Big-Big"
          ],
          [
           55,
           215,
           "Big-Big"
          ],
          [
           60,
           215,
           "Big-Big"
          ],
          [
           65,
           215,
           "Big-Big"
          ],
          [
           70,
           215,
           "Big-Big"
          ],
          [
           40,
           220,
           "Big-Big"
          ],
          [
           45,
           220,
           "Big-Big"
          ],
          [
           50,
           220,
           "Big-Big"
          ],
          [
           55,
           220,
           "Big-Big"
          ],
          [
           60,
           220,
           "Big-Big"
          ],
          [
           65,
           220,
           "Big-Big"
          ],
          [
           70,
           220,
           "Big-Big"
          ],
          [
           40,
           225,
           "Big-Big"
          ],
          [
           45,
           225,
           "Big-Big"
          ],
          [
           50,
           225,
           "Big-Big"
          ],
          [
           55,
           225,
           "Big-Big"
          ],
          [
           60,
           225,
           "Big-Big"
          ],
          [
           65,
           225,
           "Big-Big"
          ],
          [
           70,
           225,
           "Big-Big"
          ],
          [
           40,
           230,
           "Big-Big"
          ],
          [
           45,
           230,
           "Big-Big"
          ],
          [
           50,
           230,
           "Big-Big"
          ],
          [
           55,
           230,
           "Big-Big"
          ],
          [
           60,
           230,
           "Big-Big"
          ],
          [
           65,
           230,
           "Big-Big"
          ],
          [
           70,
           230,
           "Big-Big"
          ],
          [
           40,
           235,
           "Big-Big"
          ],
          [
           45,
           235,
           "Big-Big"
          ],
          [
           50,
           235,
           "Big-Big"
          ],
          [
           55,
           235,
           "Big-Big"
          ],
          [
           60,
           235,
           "Big-Big"
          ],
          [
           65,
           235,
           "Big-Big"
          ],
          [
           70,
           235,
           "Big-Big"
          ],
          [
           40,
           240,
           "Big-Big"
          ],
          [
           45,
           240,
           "Big-Big"
          ],
          [
           50,
           240,
           "Big-Big"
          ],
          [
           55,
           240,
           "Big-Big"
          ],
          [
           60,
           240,
           "Big-Big"
          ],
          [
           65,
           240,
           "Big-Big"
          ],
          [
           70,
           240,
           "Big-Big"
          ],
          [
           40,
           245,
           "Big-Big"
          ],
          [
           45,
           245,
           "Big-Big"
          ],
          [
           50,
           245,
           "Big-Big"
          ],
          [
           55,
           245,
           "Big-Big"
          ],
          [
           60,
           245,
           "Big-Big"
          ],
          [
           65,
           245,
           "Big-Big"
          ],
          [
           70,
           245,
           "Big-Big"
          ],
          [
           40,
           250,
           "Big-Big"
          ],
          [
           45,
           250,
           "Big-Big"
          ],
          [
           50,
           250,
           "Big-Big"
          ],
          [
           55,
           250,
           "Big-Big"
          ],
          [
           60,
           250,
           "Big-Big"
          ],
          [
           65,
           250,
           "Big-Big"
          ],
          [
           70,
           250,
           "Big-Big"
          ],
          [
           40,
           255,
           "Big-Big"
          ],
          [
           45,
           255,
           "Big-Big"
          ],
          [
           50,
           255,
           "Big-Big"
          ],
          [
           55,
           255,
           "Big-Big"
          ],
          [
           60,
           255,
           "Big-Big"
          ],
          [
           65,
           255,
           "Big-Big"
          ],
          [
           70,
           255,
           "Big-Big"
          ],
          [
           40,
           260,
           "Big-Big"
          ],
          [
           45,
           260,
           "Big-Big"
          ],
          [
           50,
           260,
           "Big-Big"
          ],
          [
           55,
           260,
           "Big-Big"
          ],
          [
           60,
           260,
           "Big-Big"
          ],
          [
           65,
           260,
           "Big-Big"
          ],
          [
           70,
           260,
           "Big-Big"
          ],
          [
           40,
           265,
           "Big-Big"
          ],
          [
           45,
           265,
           "Big-Big"
          ],
          [
           50,
           265,
           "Big-Big"
          ],
          [
           55,
           265,
           "Big-Big"
          ],
          [
           60,
           265,
           "Big-Big"
          ],
          [
           65,
           265,
           "Big-Big"
          ],
          [
           70,
           265,
           "Big-Big"
          ],
          [
           40,
           270,
           "Big-Big"
          ],
          [
           45,
           270,
           "Big-Big"
          ],
          [
           50,
           270,
           "Big-Big"
          ],
          [
           55,
           270,
           "Big-Big"
          ],
          [
           60,
           270,
           "Big-Big"
          ],
          [
           65,
           270,
           "Big-Big"
          ],
          [
           70,
           270,
           "Big-Big"
          ],
          [
           40,
           275,
           "Big-Big"
          ],
          [
           45,
           275,
           "Big-Big"
          ],
          [
           50,
           275,
           "Big-Big"
          ],
          [
           55,
           275,
           "Big-Big"
          ],
          [
           60,
           275,
           "Big-Big"
          ],
          [
           65,
           275,
           "Big-Big"
          ],
          [
           70,
           275,
           "Big-Big"
          ],
          [
           40,
           280,
           "Big-Big"
          ],
          [
           45,
           280,
           "Big-Big"
          ],
          [
           50,
           280,
           "Big-Big"
          ],
          [
           55,
           280,
           "Big-Big"
          ],
          [
           60,
           280,
           "Big-Big"
          ],
          [
           65,
           280,
           "Big-Big"
          ],
          [
           70,
           280,
           "Big-Big"
          ],
          [
           40,
           285,
           "Big-Big"
          ],
          [
           45,
           285,
           "Big-Big"
          ],
          [
           50,
           285,
           "Big-Big"
          ],
          [
           55,
           285,
           "Big-Big"
          ],
          [
           60,
           285,
           "Big-Big"
          ],
          [
           65,
           285,
           "Big-Big"
          ],
          [
           70,
           285,
           "Big-Big"
          ],
          [
           40,
           290,
           "Big-Big"
          ],
          [
           45,
           290,
           "Big-Big"
          ],
          [
           50,
           290,
           "Big-Big"
          ],
          [
           55,
           290,
           "Big-Big"
          ],
          [
           60,
           290,
           "Big-Big"
          ],
          [
           65,
           290,
           "Big-Big"
          ],
          [
           70,
           290,
           "Big-Big"
          ],
          [
           40,
           295,
           "Big-Big"
          ],
          [
           45,
           295,
           "Big-Big"
          ],
          [
           50,
           295,
           "Big-Big"
          ],
          [
           55,
           295,
           "Big-Big"
          ],
          [
           60,
           295,
           "Big-Big"
          ],
          [
           65,
           295,
           "Big-Big"
          ],
          [
           70,
           295,
           "Big-Big"
          ],
          [
           40,
           300,
           "Big-Big"
          ],
          [
           45,
           300,
           "Big-Big"
          ],
          [
           50,
           300,
           "Big-Big"
          ],
          [
           55,
           300,
           "Big-Big"
          ],
          [
           60,
           300,
           "Big-Big"
          ],
          [
           65,
           300,
           "Big-Big"
          ],
          [
           70,
           300,
           "Big-Big"
          ]
         ],
         "hovertemplate": "MA pairs=%{customdata[2]}<br>Average Win %=%{x:.2f}<br>Win Rate %=%{y:.2f}<br>short MA=%{customdata[0]}<br>long MA=%{customdata[1]}<extra></extra>",
         "legendgroup": "Big-Big",
         "marker": {
          "color": "#ab63fa",
          "symbol": "circle"
         },
         "mode": "markers",
         "name": "Big-Big",
         "orientation": "v",
         "showlegend": true,
         "type": "scatter",
         "x": {
          "bdata": "FnLFYrKNAECbOLFL/cH8Pxz+Wpuj0ARAMpd24VN/A0BKoIZifhEEQLDXVsX3aQ9AO8uvZ7DwCUDszOL3SzEDQGUcfSxBegFArTafVCjEAUBkAZCsHPkHQPBm+x7pPQdA2BVM+3faDUC4u8zCwRsJQAgMA9aB1ARANESI/HVwCUDsc3iPsj/6P7j9QTaE9AlAGj6yFj6bCUB6GigNy9MPQASDmD4ZBApAhVMA4yJD/D/Iro1I9E0DQMpCWP4/CARATIW51OZ9/z/OOlUnuEgDQAUnQi7P2Q1A0CKWVEh7CkAg+W5D72UEQBsBB8NlugVAlsvv3UF5A0A2yhLOSrQAQKZVnEnMIQxAiEGvdYIHA0C0gdURKyYMQEgO3zZouP8/hApqswZmCEDrMldlI+oOQBqxKteSIPs/WPxK//ktCUA4QeUA4kULQCfKmKZ3zwtANrXsn3NNAUBFLJIbYQQCQIRgyXAqSA9AOufOavGjAUDDf9cohicJQMY+mmOe4AxA1FvDLo1fC0AkiS20ro78PzwQvxv66QNAJhUXYNoWDUBt0b+Axi0AQCtK+lO3EAxApXl3eK30CkAhWFLTgskCQNjPCufHGQBAL7KI7lSxAkBdpFpfOLgFQBYdHFbHcgxAWZZDq7XtDUCGWlcrI10DQFd24us/NQZAlThtJ/iZAEBGu3ls/mwDQCpzGT5RyAhA2wdnn8PEDkDm1FusL0wCQNQ+Cq+hsARAL75An3hbBEAvegQYe4kBQFmqP5CNJAVAfFG2olgrA0CE2zfxLd77P6CGFovaCv4/zQ65/D95DEBmRJ94sHAHQMH4H2My4wBAZzJlUeFRB0D1KkPsTOMDQO+tbR138/Y/fjQknj1zAEATtAt1pUYLQO3OCPi1NQZAB7VlIu3MBUCbCpxYvxANQGply3a3gBFAY6SEGVHTCUCUDnAP4bYCQBIgkMrchQ1AKvphFrE8BEAwDlvqqt0VQHSartHobxVACQ+uOpLZ+j/37VygFL76P3NFbptFKf8/0guOSqsXBkALrYQfTNMOQELCycw5hRNAHN5isy0gFECJDGLebiIFQF3rKhMO+glAqBY8QgaF+T/qSpIJVWAHQBJGtQhWqA1ATDlo/XNpFUCxbv4YXrQRQFC2R7jcCgZARsfr0vCc/T8lMSvaC5n6Px2/0rXkvgRAEhEgUlMGEED3t0DEGMYWQIBLG4EIdQ1AY6SEGVHTCUADMwFi85z/Pw7vslhPZwFAecBOHFuvBUA2yF36f48GQMWe9k/bcRNATzLRDMsgCkCWX8SDcYX6P+4jyc1fqQFA1L+92tjpAUC/cotHzggFQNTtC1iH7Q1A",
          "dtype": "f8"
         },
         "xaxis": "x",
         "y": {
          "bdata": "AAAAAAAAOUAK16NwPapAQAAAAAAAADlACtejcD2qQEAAAAAAAAA5QOxRuB6FqzBA7FG4HoWrMEAAAAAAAAA5QAAAAAAAADlAAAAAAAAAOUAAAAAAAAA5QOxRuB6FqzBA7FG4HoWrMEDsUbgehaswQAAAAAAAADlAAAAAAAAAOUAAAAAAAAA5QOxRuB6FqzBA7FG4HoWrMEDsUbgehaswQOxRuB6FqzBAAAAAAAAAOUAAAAAAAAA5QAAAAAAAADlAAAAAAAAAOUAAAAAAAAA5QOxRuB6FqzBA7FG4HoWrMEAAAAAAAAA5QAAAAAAAADlAAAAAAAAAOUAAAAAAAAA5QOxRuB6FqzBAAAAAAAAAOUDsUbgehaswQAAAAAAAADlA7FG4HoWrMEDsUbgehaswQAAAAAAAADlA7FG4HoWrMEDsUbgehaswQOxRuB6FqzBAAAAAAAAAOUAAAAAAAAA5QOxRuB6FqzBA7FG4HoWrMEDsUbgehaswQOxRuB6FqzBA7FG4HoWrMEAAAAAAAAA5QAAAAAAAADlA7FG4HoWrMEDsUbgehaswQOxRuB6FqzBA7FG4HoWrMEAAAAAAAAA5QAAAAAAAADlAAAAAAAAAOUDsUbgehaswQClcj8L1qCBA7FG4HoWrMEAAAAAAAAA5QAAAAAAAADlAAAAAAAAAOUAAAAAAAAA5QOxRuB6FqzBAKVyPwvWoIEDsUbgehaswQAAAAAAAADlAAAAAAAAAOUAAAAAAAAA5QOxRuB6FqzBA7FG4HoWrMEDsUbgehaswQOxRuB6FqzBA7FG4HoWrMEAAAAAAAAA5QAAAAAAAADlA7FG4HoWrMEDsUbgehaswQOxRuB6FqzBA7FG4HoWrMEDsUbgehaswQAAAAAAAADlA7FG4HoWrMEDsUbgehaswQClcj8L1qCBAKVyPwvWoIEDsUbgehaswQOxRuB6FqzBAAAAAAAAAOUApXI/C9aggQClcj8L1qCBA7FG4HoWrMEDsUbgehaswQOxRuB6FqzBA7FG4HoWrMEDsUbgehaswQClcj8L1qCBAKVyPwvWoIEApXI/C9aggQClcj8L1qCBA7FG4HoWrMEDsUbgehaswQOxRuB6FqzBAKVyPwvWoIEApXI/C9aggQClcj8L1qCBA7FG4HoWrMEDsUbgehaswQOxRuB6FqzBA7FG4HoWrMEApXI/C9aggQClcj8L1qCBAKVyPwvWoIEDsUbgehaswQOxRuB6FqzBA7FG4HoWrMEAAAAAAAAA5QClcj8L1qCBAKVyPwvWoIEDsUbgehaswQOxRuB6FqzBA7FG4HoWrMEDsUbgehaswQOxRuB6FqzBA",
          "dtype": "f8"
         },
         "yaxis": "y"
        }
       ],
       "layout": {
        "font": {
         "color": "white"
        },
        "legend": {
         "title": {
          "text": "MA pairs"
         },
         "tracegroupgap": 0
        },
        "paper_bgcolor": "black",
        "plot_bgcolor": "black",
        "template": {
         "data": {
          "bar": [
           {
            "error_x": {
             "color": "#2a3f5f"
            },
            "error_y": {
             "color": "#2a3f5f"
            },
            "marker": {
             "line": {
              "color": "#E5ECF6",
              "width": 0.5
             },
             "pattern": {
              "fillmode": "overlay",
              "size": 10,
              "solidity": 0.2
             }
            },
            "type": "bar"
           }
          ],
          "barpolar": [
           {
            "marker": {
             "line": {
              "color": "#E5ECF6",
              "width": 0.5
             },
             "pattern": {
              "fillmode": "overlay",
              "size": 10,
              "solidity": 0.2
             }
            },
            "type": "barpolar"
           }
          ],
          "carpet": [
           {
            "aaxis": {
             "endlinecolor": "#2a3f5f",
             "gridcolor": "white",
             "linecolor": "white",
             "minorgridcolor": "white",
             "startlinecolor": "#2a3f5f"
            },
            "baxis": {
             "endlinecolor": "#2a3f5f",
             "gridcolor": "white",
             "linecolor": "white",
             "minorgridcolor": "white",
             "startlinecolor": "#2a3f5f"
            },
            "type": "carpet"
           }
          ],
          "choropleth": [
           {
            "colorbar": {
             "outlinewidth": 0,
             "ticks": ""
            },
            "type": "choropleth"
           }
          ],
          "contour": [
           {
            "colorbar": {
             "outlinewidth": 0,
             "ticks": ""
            },
            "colorscale": [
             [
              0,
              "#0d0887"
             ],
             [
              0.1111111111111111,
              "#46039f"
             ],
             [
              0.2222222222222222,
              "#7201a8"
             ],
             [
              0.3333333333333333,
              "#9c179e"
             ],
             [
              0.4444444444444444,
              "#bd3786"
             ],
             [
              0.5555555555555556,
              "#d8576b"
             ],
             [
              0.6666666666666666,
              "#ed7953"
             ],
             [
              0.7777777777777778,
              "#fb9f3a"
             ],
             [
              0.8888888888888888,
              "#fdca26"
             ],
             [
              1,
              "#f0f921"
             ]
            ],
            "type": "contour"
           }
          ],
          "contourcarpet": [
           {
            "colorbar": {
             "outlinewidth": 0,
             "ticks": ""
            },
            "type": "contourcarpet"
           }
          ],
          "heatmap": [
           {
            "colorbar": {
             "outlinewidth": 0,
             "ticks": ""
            },
            "colorscale": [
             [
              0,
              "#0d0887"
             ],
             [
              0.1111111111111111,
              "#46039f"
             ],
             [
              0.2222222222222222,
              "#7201a8"
             ],
             [
              0.3333333333333333,
              "#9c179e"
             ],
             [
              0.4444444444444444,
              "#bd3786"
             ],
             [
              0.5555555555555556,
              "#d8576b"
             ],
             [
              0.6666666666666666,
              "#ed7953"
             ],
             [
              0.7777777777777778,
              "#fb9f3a"
             ],
             [
              0.8888888888888888,
              "#fdca26"
             ],
             [
              1,
              "#f0f921"
             ]
            ],
            "type": "heatmap"
           }
          ],
          "histogram": [
           {
            "marker": {
             "pattern": {
              "fillmode": "overlay",
              "size": 10,
              "solidity": 0.2
             }
            },
            "type": "histogram"
           }
          ],
          "histogram2d": [
           {
            "colorbar": {
             "outlinewidth": 0,
             "ticks": ""
            },
            "colorscale": [
             [
              0,
              "#0d0887"
             ],
             [
              0.1111111111111111,
              "#46039f"
             ],
             [
              0.2222222222222222,
              "#7201a8"
             ],
             [
              0.3333333333333333,
              "#9c179e"
             ],
             [
              0.4444444444444444,
              "#bd3786"
             ],
             [
              0.5555555555555556,
              "#d8576b"
             ],
             [
              0.6666666666666666,
              "#ed7953"
             ],
             [
              0.7777777777777778,
              "#fb9f3a"
             ],
             [
              0.8888888888888888,
              "#fdca26"
             ],
             [
              1,
              "#f0f921"
             ]
            ],
            "type": "histogram2d"
           }
          ],
          "histogram2dcontour": [
           {
            "colorbar": {
             "outlinewidth": 0,
             "ticks": ""
            },
            "colorscale": [
             [
              0,
              "#0d0887"
             ],
             [
              0.1111111111111111,
              "#46039f"
             ],
             [
              0.2222222222222222,
              "#7201a8"
             ],
             [
              0.3333333333333333,
              "#9c179e"
             ],
             [
              0.4444444444444444,
              "#bd3786"
             ],
             [
              0.5555555555555556,
              "#d8576b"
             ],
             [
              0.6666666666666666,
              "#ed7953"
             ],
             [
              0.7777777777777778,
              "#fb9f3a"
             ],
             [
              0.8888888888888888,
              "#fdca26"
             ],
             [
              1,
              "#f0f921"
             ]
            ],
            "type": "histogram2dcontour"
           }
          ],
          "mesh3d": [
           {
            "colorbar": {
             "outlinewidth": 0,
             "ticks": ""
            },
            "type": "mesh3d"
           }
          ],
          "parcoords": [
           {
            "line": {
             "colorbar": {
              "outlinewidth": 0,
              "ticks": ""
             }
            },
            "type": "parcoords"
           }
          ],
          "pie": [
           {
            "automargin": true,
            "type": "pie"
           }
          ],
          "scatter": [
           {
            "fillpattern": {
             "fillmode": "overlay",
             "size": 10,
             "solidity": 0.2
            },
            "type": "scatter"
           }
          ],
          "scatter3d": [
           {
            "line": {
             "colorbar": {
              "outlinewidth": 0,
              "ticks": ""
             }
            },
            "marker": {
             "colorbar": {
              "outlinewidth": 0,
              "ticks": ""
             }
            },
            "type": "scatter3d"
           }
          ],
          "scattercarpet": [
           {
            "marker": {
             "colorbar": {
              "outlinewidth": 0,
              "ticks": ""
             }
            },
            "type": "scattercarpet"
           }
          ],
          "scattergeo": [
           {
            "marker": {
             "colorbar": {
              "outlinewidth": 0,
              "ticks": ""
             }
            },
            "type": "scattergeo"
           }
          ],
          "scattergl": [
           {
            "marker": {
             "colorbar": {
              "outlinewidth": 0,
              "ticks": ""
             }
            },
            "type": "scattergl"
           }
          ],
          "scattermap": [
           {
            "marker": {
             "colorbar": {
              "outlinewidth": 0,
              "ticks": ""
             }
            },
            "type": "scattermap"
           }
          ],
          "scattermapbox": [
           {
            "marker": {
             "colorbar": {
              "outlinewidth": 0,
              "ticks": ""
             }
            },
            "type": "scattermapbox"
           }
          ],
          "scatterpolar": [
           {
            "marker": {
             "colorbar": {
              "outlinewidth": 0,
              "ticks": ""
             }
            },
            "type": "scatterpolar"
           }
          ],
          "scatterpolargl": [
           {
            "marker": {
             "colorbar": {
              "outlinewidth": 0,
              "ticks": ""
             }
            },
            "type": "scatterpolargl"
           }
          ],
          "scatterternary": [
           {
            "marker": {
             "colorbar": {
              "outlinewidth": 0,
              "ticks": ""
             }
            },
            "type": "scatterternary"
           }
          ],
          "surface": [
           {
            "colorbar": {
             "outlinewidth": 0,
             "ticks": ""
            },
            "colorscale": [
             [
              0,
              "#0d0887"
             ],
             [
              0.1111111111111111,
              "#46039f"
             ],
             [
              0.2222222222222222,
              "#7201a8"
             ],
             [
              0.3333333333333333,
              "#9c179e"
             ],
             [
              0.4444444444444444,
              "#bd3786"
             ],
             [
              0.5555555555555556,
              "#d8576b"
             ],
             [
              0.6666666666666666,
              "#ed7953"
             ],
             [
              0.7777777777777778,
              "#fb9f3a"
             ],
             [
              0.8888888888888888,
              "#fdca26"
             ],
             [
              1,
              "#f0f921"
             ]
            ],
            "type": "surface"
           }
          ],
          "table": [
           {
            "cells": {
             "fill": {
              "color": "#EBF0F8"
             },
             "line": {
              "color": "white"
             }
            },
            "header": {
             "fill": {
              "color": "#C8D4E3"
             },
             "line": {
              "color": "white"
             }
            },
            "type": "table"
           }
          ]
         },
         "layout": {
          "annotationdefaults": {
           "arrowcolor": "#2a3f5f",
           "arrowhead": 0,
           "arrowwidth": 1
          },
          "autotypenumbers": "strict",
          "coloraxis": {
           "colorbar": {
            "outlinewidth": 0,
            "ticks": ""
           }
          },
          "colorscale": {
           "diverging": [
            [
             0,
             "#8e0152"
            ],
            [
             0.1,
             "#c51b7d"
            ],
            [
             0.2,
             "#de77ae"
            ],
            [
             0.3,
             "#f1b6da"
            ],
            [
             0.4,
             "#fde0ef"
            ],
            [
             0.5,
             "#f7f7f7"
            ],
            [
             0.6,
             "#e6f5d0"
            ],
            [
             0.7,
             "#b8e186"
            ],
            [
             0.8,
             "#7fbc41"
            ],
            [
             0.9,
             "#4d9221"
            ],
            [
             1,
             "#276419"
            ]
           ],
           "sequential": [
            [
             0,
             "#0d0887"
            ],
            [
             0.1111111111111111,
             "#46039f"
            ],
            [
             0.2222222222222222,
             "#7201a8"
            ],
            [
             0.3333333333333333,
             "#9c179e"
            ],
            [
             0.4444444444444444,
             "#bd3786"
            ],
            [
             0.5555555555555556,
             "#d8576b"
            ],
            [
             0.6666666666666666,
             "#ed7953"
            ],
            [
             0.7777777777777778,
             "#fb9f3a"
            ],
            [
             0.8888888888888888,
             "#fdca26"
            ],
            [
             1,
             "#f0f921"
            ]
           ],
           "sequentialminus": [
            [
             0,
             "#0d0887"
            ],
            [
             0.1111111111111111,
             "#46039f"
            ],
            [
             0.2222222222222222,
             "#7201a8"
            ],
            [
             0.3333333333333333,
             "#9c179e"
            ],
            [
             0.4444444444444444,
             "#bd3786"
            ],
            [
             0.5555555555555556,
             "#d8576b"
            ],
            [
             0.6666666666666666,
             "#ed7953"
            ],
            [
             0.7777777777777778,
             "#fb9f3a"
            ],
            [
             0.8888888888888888,
             "#fdca26"
            ],
            [
             1,
             "#f0f921"
            ]
           ]
          },
          "colorway": [
           "#636efa",
           "#EF553B",
           "#00cc96",
           "#ab63fa",
           "#FFA15A",
           "#19d3f3",
           "#FF6692",
           "#B6E880",
           "#FF97FF",
           "#FECB52"
          ],
          "font": {
           "color": "#2a3f5f"
          },
          "geo": {
           "bgcolor": "white",
           "lakecolor": "white",
           "landcolor": "#E5ECF6",
           "showlakes": true,
           "showland": true,
           "subunitcolor": "white"
          },
          "hoverlabel": {
           "align": "left"
          },
          "hovermode": "closest",
          "mapbox": {
           "style": "light"
          },
          "paper_bgcolor": "white",
          "plot_bgcolor": "#E5ECF6",
          "polar": {
           "angularaxis": {
            "gridcolor": "white",
            "linecolor": "white",
            "ticks": ""
           },
           "bgcolor": "#E5ECF6",
           "radialaxis": {
            "gridcolor": "white",
            "linecolor": "white",
            "ticks": ""
           }
          },
          "scene": {
           "xaxis": {
            "backgroundcolor": "#E5ECF6",
            "gridcolor": "white",
            "gridwidth": 2,
            "linecolor": "white",
            "showbackground": true,
            "ticks": "",
            "zerolinecolor": "white"
           },
           "yaxis": {
            "backgroundcolor": "#E5ECF6",
            "gridcolor": "white",
            "gridwidth": 2,
            "linecolor": "white",
            "showbackground": true,
            "ticks": "",
            "zerolinecolor": "white"
           },
           "zaxis": {
            "backgroundcolor": "#E5ECF6",
            "gridcolor": "white",
            "gridwidth": 2,
            "linecolor": "white",
            "showbackground": true,
            "ticks": "",
            "zerolinecolor": "white"
           }
          },
          "shapedefaults": {
           "line": {
            "color": "#2a3f5f"
           }
          },
          "ternary": {
           "aaxis": {
            "gridcolor": "white",
            "linecolor": "white",
            "ticks": ""
           },
           "baxis": {
            "gridcolor": "white",
            "linecolor": "white",
            "ticks": ""
           },
           "bgcolor": "#E5ECF6",
           "caxis": {
            "gridcolor": "white",
            "linecolor": "white",
            "ticks": ""
           }
          },
          "title": {
           "x": 0.05
          },
          "xaxis": {
           "automargin": true,
           "gridcolor": "white",
           "linecolor": "white",
           "ticks": "",
           "title": {
            "standoff": 15
           },
           "zerolinecolor": "white",
           "zerolinewidth": 2
          },
          "yaxis": {
           "automargin": true,
           "gridcolor": "white",
           "linecolor": "white",
           "ticks": "",
           "title": {
            "standoff": 15
           },
           "zerolinecolor": "white",
           "zerolinewidth": 2
          }
         }
        },
        "title": {
         "text": "AAPL Avg Win vs Win Rate (Bubbles are Short MA & Long MA pairs)"
        },
        "xaxis": {
         "anchor": "y",
         "color": "white",
         "domain": [
          0,
          1
         ],
         "showgrid": false,
         "title": {
          "text": "Average Win %"
         }
        },
        "yaxis": {
         "anchor": "x",
         "color": "white",
         "domain": [
          0,
          1
         ],
         "showgrid": false,
         "title": {
          "text": "Win Rate %"
         }
        }
       }
      }
     },
     "metadata": {},
     "output_type": "display_data"
    }
   ],
   "source": [
    "# create dataframe with values from both win rate and average win rate heatmaps\n",
    "combination_map = {\n",
    "    (row, column): {\n",
    "        'win_rate': win_rate_heatmap.loc[row, column],\n",
    "        'avg_win': avg_win_heatmap.loc[row, column]\n",
    "    }\n",
    "    for row in win_rate_heatmap.index\n",
    "    for column in win_rate_heatmap.columns\n",
    "}\n",
    "\n",
    "values = []\n",
    "for (row, column), metrics in combination_map.items():\n",
    "    values.append({\n",
    "        \"combination\" : [int(column), int(row)],\n",
    "        \"avg_win\" : metrics[\"avg_win\"],\n",
    "        \"win_rate\" : metrics[\"win_rate\"],\n",
    "        \"short MA\" : column,\n",
    "        \"long MA\" : row\n",
    "    })\n",
    "values = []\n",
    "for (row, column), metrics in combination_map.items():\n",
    "    values.append({\n",
    "        \"combination\" : [int(column), int(row)],\n",
    "        \"avg_win\" : metrics[\"avg_win\"],\n",
    "        \"win_rate\" : metrics[\"win_rate\"],\n",
    "        \"short MA\" : column,\n",
    "        \"long MA\" : row\n",
    "    })\n",
    "values = pd.DataFrame(values) \n",
    "\n",
    "# divide the moving average combinations into four groups according to their length\n",
    "def assign_type(df):\n",
    "    if df[\"short MA\"] <= 35 and df[\"long MA\"] <= 210:\n",
    "        return \"Small-Small\"\n",
    "    elif df[\"short MA\"] <= 35 and df[\"long MA\"] > 210:\n",
    "        return \"Small-Big\"\n",
    "    elif df[\"short MA\"] > 35 and df[\"long MA\"] > 210:\n",
    "        return \"Big-Big\"\n",
    "    else:\n",
    "        return \"Big-small\"\n",
    "    \n",
    "values[\"MA pairs\"] = values.apply(assign_type, axis=1)     \n",
    "\n",
    "# plot the scatterplot\n",
    "fig = px.scatter(\n",
    "    values,\n",
    "    x=\"avg_win\",\n",
    "    y=\"win_rate\",\n",
    "    color=\"MA pairs\",\n",
    "    labels={'avg_win': 'Average Win %', 'win_rate': 'Win Rate %'},\n",
    "    title=f\"{STOCK} Avg Win vs Win Rate (Bubbles are Short MA & Long MA pairs)\",\n",
    "    hover_data={\n",
    "        \"short MA\": True,\n",
    "        \"long MA\": True,\n",
    "        \"MA pairs\": True,\n",
    "        \"avg_win\": ':.2f',\n",
    "        \"win_rate\": ':.2f'\n",
    "    }\n",
    "    \n",
    ")\n",
    "\n",
    "\n",
    "fig.update_layout(\n",
    "    plot_bgcolor='black',\n",
    "    paper_bgcolor='black',\n",
    "    font=dict(color='white'),\n",
    "    xaxis=dict(showgrid=False, color='white'),\n",
    "    yaxis=dict(showgrid=False, color='white')\n",
    "\n",
    ")\n",
    "fig.write_image(\"scatterplot_stock.png\")\n",
    "fig.show()"
   ]
  },
  {
   "cell_type": "markdown",
   "id": "61471ab8",
   "metadata": {},
   "source": [
    "![Heatmap](scatterplot_stock.png)"
   ]
  },
  {
   "cell_type": "markdown",
   "id": "01bd0f73",
   "metadata": {},
   "source": [
    "### **Applying the Strategy to Stable vs. Volatile Stocks**\n",
    "\n",
    "- Selected 30 stocks based on **5-year Beta values** (measure of volatility relative to the market):\n",
    "  - **Stable Stocks**: Beta between 0.5 and 1.0\n",
    "  - **Volatile Stocks**: Beta > 2.0\n",
    "  - All stocks had at least 15 years of historical data.\n",
    "\n",
    "- Ran the rolling 5-year backtest for each stock.\n",
    "- Plotted the final metrics (Win Rate & Average Win) for all stocks, getting two scatterplots for stable stocks and volatile stocks"
   ]
  },
  {
   "cell_type": "code",
   "execution_count": 64,
   "id": "7b0ba2d9",
   "metadata": {},
   "outputs": [
    {
     "name": "stdout",
     "output_type": "stream",
     "text": [
      "   Stable Stocks Volatile Stocks\n",
      "1            WMT             RCL\n",
      "2              V             CCL\n",
      "3            XOM             XPO\n",
      "4             HD            GTLS\n",
      "5            BAC              AA\n",
      "6            CVX             GAP\n",
      "7           TMUS             MOD\n",
      "8             PM             CAR\n",
      "9            IBM              SM\n",
      "10           BSX             DAN\n",
      "11         CMCSA            CENX\n",
      "12           WMB             TWI\n",
      "13           AMT             MTW\n",
      "14           EOG            MDRX\n",
      "15           CVS            BYON\n"
     ]
    }
   ],
   "source": [
    "# stable and volatile stocks dataframe\n",
    "multiple_stocks_test = pd.DataFrame(\n",
    "    {\"Stable Stocks\": [\"WMT\", \"V\", \"XOM\", \"HD\", \"BAC\", \"CVX\", \"TMUS\", \"PM\", \"IBM\", \"BSX\", \"CMCSA\", \"WMB\", \"AMT\", \"EOG\", \"CVS\"], \n",
    "    \"Volatile Stocks\": [\"RCL\", \"CCL\", \"XPO\", \"GTLS\", \"AA\", \"GAP\", \"MOD\", \"CAR\", \"SM\", \"DAN\", \"CENX\", \"TWI\", \"MTW\", \"MDRX\", \"BYON\"]}, \n",
    "    index=list(range(1, 16))\n",
    ")\n",
    "\n",
    "print(multiple_stocks_test)\n"
   ]
  },
  {
   "cell_type": "code",
   "execution_count": null,
   "id": "aabc3681",
   "metadata": {},
   "outputs": [],
   "source": [
    "# download stocks data\n",
    "stock_data_stable = pd.DataFrame()\n",
    "for stock in multiple_stocks_test[\"Stable Stocks\"]:\n",
    "    stock_download = download_stock(stock, START, END)\n",
    "    stock_data_stable = pd.concat([stock_data_stable, stock_download])\n",
    "    \n",
    "stock_data_volatile = pd.DataFrame()\n",
    "for stock in multiple_stocks_test[\"Volatile Stocks\"]:\n",
    "    stock_download = download_stock(stock, START, END)\n",
    "    stock_data_volatile = pd.concat([stock_data_volatile, stock_download])"
   ]
  },
  {
   "cell_type": "code",
   "execution_count": 66,
   "id": "dc6e89e2",
   "metadata": {},
   "outputs": [
    {
     "data": {
      "application/vnd.plotly.v1+json": {
       "config": {
        "plotlyServerURL": "https://plot.ly"
       },
       "data": [
        {
         "customdata": [
          [
           5,
           120,
           "Small-Small"
          ],
          [
           10,
           120,
           "Small-Small"
          ],
          [
           15,
           120,
           "Small-Small"
          ],
          [
           20,
           120,
           "Small-Small"
          ],
          [
           25,
           120,
           "Small-Small"
          ],
          [
           30,
           120,
           "Small-Small"
          ],
          [
           35,
           120,
           "Small-Small"
          ],
          [
           5,
           125,
           "Small-Small"
          ],
          [
           10,
           125,
           "Small-Small"
          ],
          [
           15,
           125,
           "Small-Small"
          ],
          [
           20,
           125,
           "Small-Small"
          ],
          [
           25,
           125,
           "Small-Small"
          ],
          [
           30,
           125,
           "Small-Small"
          ],
          [
           35,
           125,
           "Small-Small"
          ],
          [
           5,
           130,
           "Small-Small"
          ],
          [
           10,
           130,
           "Small-Small"
          ],
          [
           15,
           130,
           "Small-Small"
          ],
          [
           20,
           130,
           "Small-Small"
          ],
          [
           25,
           130,
           "Small-Small"
          ],
          [
           30,
           130,
           "Small-Small"
          ],
          [
           35,
           130,
           "Small-Small"
          ],
          [
           5,
           135,
           "Small-Small"
          ],
          [
           10,
           135,
           "Small-Small"
          ],
          [
           15,
           135,
           "Small-Small"
          ],
          [
           20,
           135,
           "Small-Small"
          ],
          [
           25,
           135,
           "Small-Small"
          ],
          [
           30,
           135,
           "Small-Small"
          ],
          [
           35,
           135,
           "Small-Small"
          ],
          [
           5,
           140,
           "Small-Small"
          ],
          [
           10,
           140,
           "Small-Small"
          ],
          [
           15,
           140,
           "Small-Small"
          ],
          [
           20,
           140,
           "Small-Small"
          ],
          [
           25,
           140,
           "Small-Small"
          ],
          [
           30,
           140,
           "Small-Small"
          ],
          [
           35,
           140,
           "Small-Small"
          ],
          [
           5,
           145,
           "Small-Small"
          ],
          [
           10,
           145,
           "Small-Small"
          ],
          [
           15,
           145,
           "Small-Small"
          ],
          [
           20,
           145,
           "Small-Small"
          ],
          [
           25,
           145,
           "Small-Small"
          ],
          [
           30,
           145,
           "Small-Small"
          ],
          [
           35,
           145,
           "Small-Small"
          ],
          [
           5,
           150,
           "Small-Small"
          ],
          [
           10,
           150,
           "Small-Small"
          ],
          [
           15,
           150,
           "Small-Small"
          ],
          [
           20,
           150,
           "Small-Small"
          ],
          [
           25,
           150,
           "Small-Small"
          ],
          [
           30,
           150,
           "Small-Small"
          ],
          [
           35,
           150,
           "Small-Small"
          ],
          [
           5,
           155,
           "Small-Small"
          ],
          [
           10,
           155,
           "Small-Small"
          ],
          [
           15,
           155,
           "Small-Small"
          ],
          [
           20,
           155,
           "Small-Small"
          ],
          [
           25,
           155,
           "Small-Small"
          ],
          [
           30,
           155,
           "Small-Small"
          ],
          [
           35,
           155,
           "Small-Small"
          ],
          [
           5,
           160,
           "Small-Small"
          ],
          [
           10,
           160,
           "Small-Small"
          ],
          [
           15,
           160,
           "Small-Small"
          ],
          [
           20,
           160,
           "Small-Small"
          ],
          [
           25,
           160,
           "Small-Small"
          ],
          [
           30,
           160,
           "Small-Small"
          ],
          [
           35,
           160,
           "Small-Small"
          ],
          [
           5,
           165,
           "Small-Small"
          ],
          [
           10,
           165,
           "Small-Small"
          ],
          [
           15,
           165,
           "Small-Small"
          ],
          [
           20,
           165,
           "Small-Small"
          ],
          [
           25,
           165,
           "Small-Small"
          ],
          [
           30,
           165,
           "Small-Small"
          ],
          [
           35,
           165,
           "Small-Small"
          ],
          [
           5,
           170,
           "Small-Small"
          ],
          [
           10,
           170,
           "Small-Small"
          ],
          [
           15,
           170,
           "Small-Small"
          ],
          [
           20,
           170,
           "Small-Small"
          ],
          [
           25,
           170,
           "Small-Small"
          ],
          [
           30,
           170,
           "Small-Small"
          ],
          [
           35,
           170,
           "Small-Small"
          ],
          [
           5,
           175,
           "Small-Small"
          ],
          [
           10,
           175,
           "Small-Small"
          ],
          [
           15,
           175,
           "Small-Small"
          ],
          [
           20,
           175,
           "Small-Small"
          ],
          [
           25,
           175,
           "Small-Small"
          ],
          [
           30,
           175,
           "Small-Small"
          ],
          [
           35,
           175,
           "Small-Small"
          ],
          [
           5,
           180,
           "Small-Small"
          ],
          [
           10,
           180,
           "Small-Small"
          ],
          [
           15,
           180,
           "Small-Small"
          ],
          [
           20,
           180,
           "Small-Small"
          ],
          [
           25,
           180,
           "Small-Small"
          ],
          [
           30,
           180,
           "Small-Small"
          ],
          [
           35,
           180,
           "Small-Small"
          ],
          [
           5,
           185,
           "Small-Small"
          ],
          [
           10,
           185,
           "Small-Small"
          ],
          [
           15,
           185,
           "Small-Small"
          ],
          [
           20,
           185,
           "Small-Small"
          ],
          [
           25,
           185,
           "Small-Small"
          ],
          [
           30,
           185,
           "Small-Small"
          ],
          [
           35,
           185,
           "Small-Small"
          ],
          [
           5,
           190,
           "Small-Small"
          ],
          [
           10,
           190,
           "Small-Small"
          ],
          [
           15,
           190,
           "Small-Small"
          ],
          [
           20,
           190,
           "Small-Small"
          ],
          [
           25,
           190,
           "Small-Small"
          ],
          [
           30,
           190,
           "Small-Small"
          ],
          [
           35,
           190,
           "Small-Small"
          ],
          [
           5,
           195,
           "Small-Small"
          ],
          [
           10,
           195,
           "Small-Small"
          ],
          [
           15,
           195,
           "Small-Small"
          ],
          [
           20,
           195,
           "Small-Small"
          ],
          [
           25,
           195,
           "Small-Small"
          ],
          [
           30,
           195,
           "Small-Small"
          ],
          [
           35,
           195,
           "Small-Small"
          ],
          [
           5,
           200,
           "Small-Small"
          ],
          [
           10,
           200,
           "Small-Small"
          ],
          [
           15,
           200,
           "Small-Small"
          ],
          [
           20,
           200,
           "Small-Small"
          ],
          [
           25,
           200,
           "Small-Small"
          ],
          [
           30,
           200,
           "Small-Small"
          ],
          [
           35,
           200,
           "Small-Small"
          ],
          [
           5,
           205,
           "Small-Small"
          ],
          [
           10,
           205,
           "Small-Small"
          ],
          [
           15,
           205,
           "Small-Small"
          ],
          [
           20,
           205,
           "Small-Small"
          ],
          [
           25,
           205,
           "Small-Small"
          ],
          [
           30,
           205,
           "Small-Small"
          ],
          [
           35,
           205,
           "Small-Small"
          ],
          [
           5,
           210,
           "Small-Small"
          ],
          [
           10,
           210,
           "Small-Small"
          ],
          [
           15,
           210,
           "Small-Small"
          ],
          [
           20,
           210,
           "Small-Small"
          ],
          [
           25,
           210,
           "Small-Small"
          ],
          [
           30,
           210,
           "Small-Small"
          ],
          [
           35,
           210,
           "Small-Small"
          ]
         ],
         "hovertemplate": "MA pairs=%{customdata[2]}<br>Average Win %=%{x:.2f}<br>Win Rate %=%{y:.2f}<br>short MA=%{customdata[0]}<br>long MA=%{customdata[1]}<extra></extra>",
         "legendgroup": "Small-Small",
         "marker": {
          "color": "#636efa",
          "symbol": "circle"
         },
         "mode": "markers",
         "name": "Small-Small",
         "orientation": "v",
         "showlegend": true,
         "type": "scatter",
         "x": {
          "bdata": "lshxnNsqLEDxRdvZPgstQGThREcImSlAY1qXYNkoJEBn2RyXbDIiQKUdEk1K5BtAjdGrG+CxIkA2PoPPfE4wQGRQh3vUPCxAraGgmLl4K0AOiMDSPI0nQE9x/o05zx1AzHGagNE6IUBdD8ZNZlQjQPudL6cJFjJA/cYhkGU+LUBCy/A7swgtQM2LgJRjLiVA9jH1KGdvIkCKDCq4I9gjQEDIjfd4AR5AsXOY639bLUAAjZnuqucpQC9o2+5Bbi5AVpDWuKfQKEDqEHkjN3MiQOf7aYqmgiBAgbC8pQekHUCeUQFv0goxQKRhhPSBaypAoNAhKDj4LUC6paOcl1onQIgpWPNyBCFAJW+FHPuxHkCiA/TsRqogQPdaN+VqBjNAdFncHG3mK0CPlGnVssQqQIPTPZbVEihA1M78s/x6HkDeMIeiaqQiQJ3zlCW/riJAPHo6rjbtMUD+MxdKgIQrQH7Ln7XG3CtApARcHmr+IEBBz347gFAcQGv4d5jiFyBAawyCv8w0JECiPym3X8ksQBL0MFs0hzFAZFuzQi5sJEAaBabN1J0hQLxVwkcQ8hlAeL5O2jrxIEB/i+YwQpkhQMyS02jHAixAzaTpWoyMKkCjQJauk4AhQEeE2UST7B9AavL1VNb/IEDSTPSxABUhQK2TZsdzgSFAobxMq541KEBJ8u9nyTonQKeDX2a/xiJAhwIOjza4JEBGp2Nrq44kQH80kdRwRR5AAI8MXGjaH0CZk6Lh/mMjQM5661IsyypA0dC/a7ovIkBL7YO5LR8kQEF2yAih3iFAX0rWYaJqHkDMq3vYdyQcQNyR4+d4ViNAYTvfwRIIK0AUUKzQTz8kQHVd20sOEyRAbNSHJ1tyIkAeEPnfS+YfQCq15//priBAu9jJ0j3pJEC+vVWj8FkxQETU1UTmhSJA/yKnuDjIJUAW88JDHAYkQG0QH89rGSBAsDGjwhZ/HUDrmDrJqbMwQGF64kZuwzFAHThaP9qLJ0BN25tODuIjQDlrcV+rPiNAqQR7B43SIEBcrtKdSZcgQBM5JZGP3y1AMQKLQh9+MUDTOnCpFVAoQAEEjC164CRAAT6bdh4WJEC8rRIS1xghQLF++IC6UiJAeTxhvXEZMEDrVNIRlqMyQPTV7F5yySlA1b2JnSSvJED+Vegvy4ElQGnwwfEV3SFAgE95RP/qIkBdErowcf8wQCn+PgETrjNAW1XO4w6gLEDXbG7T8uomQLAOBUiG1SZA7RUmu9RzIUBdzbG4plgmQAR4OowglyhAKtnVQk2PM0BgCGh4VpcyQDZqVZgRLSpA2p/QYwMVJkAPyvvggqglQDy4RCPVzidAemJHW0dEMEDSglssw0E0QIUg9ESoDjNAxCv/J0CnLUCVBMjwfS4lQEfKPUlt7CVAc+oSAbprJUA=",
          "dtype": "f8"
         },
         "xaxis": "x",
         "y": {
          "bdata": "tQ+fYVcALkBFtvP91DgxQC/dJAaBVTJAhTJ6W9aqMEBjyS+W/OIsQAAAAAAAAC5AXI/C9SgcMEAOdNpAp40pQCA+w64AOTFAhTJ6W9aqMEBVVVVVVVUyQGwuJE2pODFAjGzn+6lxM0Atsp3vp8YrQBGfYVeAHDBAu0kMAivHMUA2F5KmVBwvQODBPFH/xjFANxeSplQcMEA9Uf9GKOMyQE7wYJ6o/y1AID7DrgA5MUAgPsOuADkxQODBPFH/xjFAVVVVVVVVMkABAAAAAAA0QOHBPFH/xjFAAgAAAAAALkAgPsOuADkxQIEH80T9Gy9AlNHbslbHMUDwYJ6of+MyQCZ4ME/U/zNARrbz/dQ4MUAQn2FXgBwwQNEi2/l+qjBAEJ9hV4AcMECx5BdLfnEzQBCfYVeAHDVAEJ9hV4AcNUA2F5KmVBwwQMGDeaL+jTRANheSplQcMEAKZfS2rFUyQAAAAAAAADRAEJ9hV4AcNUAmeDBP1P8zQHzNhaQpVTJA5vup8dKNNEBGtvP91DgxQAEAAAAAADRARbbz/dQ4NkAAAAAAAAA0QF2PwvUoHDVAJXgwT9T/M0DL6G1Zq+MyQH3NhaQpVTJA24fPsCsANECrqqqqqqo1QKFFtvP9VDJAjGzn+6lxM0CMbOf7qXEzQODBPFH/xjFAfM2FpClVMkAfPsOuADk2QCA+w64AOTZAJXgwT9T/M0B8zYWkKVUyQFyPwvUoHDVA6iYxCKwcMEDCg3mi/o00QIQyelvWqjVA4ME8Uf/GNkCLbOf7qXEzQHvNhaQpVTJAmwtJUyqONED6xZJfLDkxQEa28/3UODZAhTJ6W9aqNUC0D59hVwA0QJsLSVMqjjRAZfS2rNVxM0BsLiRNqTg2QLtJDAIrxzFAJngwT9T/M0Crqqqqqqo1QPBgnqh/4zdAwYN5ov6NNECcC0lTKo40QA+fYVeAHDVAu0kMAivHMUCy5BdLfnEzQCA+w64AOTZAEZ9hV4AcNUDBg3mi/o00QAAAAAAAADRAMN0kBoFVMkA2F5KmVBwvQHzNhaQpVTJARbbz/dQ4NkA2F5KmVBw1QODBPFH/xjZAjGzn+6lxM0BWVVVVVVUyQKuqqqqqqjBAF9nO91PjMkCFMnpb1qo1QBCfYVeAHDVABjptoNPGNkAW2c73U+MyQBCfYVeAHDVAu0kMAivHMUCz5BdLfnEzQDYXkqZUHDVA4sE8Uf/GNkAAAAAAAAA0QD98hl0BcjNArKqqqqqqNUB1kxgEVo40QLHkF0t+cTNAAgAAAAAANEBHtvP91Dg2QEa28/3UODZAukkMAivHNkBFtvP91DgxQFZVVVVVVTJALrKd76fGMUDCg3mi/o00QJ0LSVMqjjRA7CYxCKwcNUCrqqqqqqo1QFVVVVVVVTJAu0kMAivHNkA=",
          "dtype": "f8"
         },
         "yaxis": "y"
        },
        {
         "customdata": [
          [
           40,
           120,
           "Big-small"
          ],
          [
           45,
           120,
           "Big-small"
          ],
          [
           50,
           120,
           "Big-small"
          ],
          [
           55,
           120,
           "Big-small"
          ],
          [
           60,
           120,
           "Big-small"
          ],
          [
           65,
           120,
           "Big-small"
          ],
          [
           70,
           120,
           "Big-small"
          ],
          [
           40,
           125,
           "Big-small"
          ],
          [
           45,
           125,
           "Big-small"
          ],
          [
           50,
           125,
           "Big-small"
          ],
          [
           55,
           125,
           "Big-small"
          ],
          [
           60,
           125,
           "Big-small"
          ],
          [
           65,
           125,
           "Big-small"
          ],
          [
           70,
           125,
           "Big-small"
          ],
          [
           40,
           130,
           "Big-small"
          ],
          [
           45,
           130,
           "Big-small"
          ],
          [
           50,
           130,
           "Big-small"
          ],
          [
           55,
           130,
           "Big-small"
          ],
          [
           60,
           130,
           "Big-small"
          ],
          [
           65,
           130,
           "Big-small"
          ],
          [
           70,
           130,
           "Big-small"
          ],
          [
           40,
           135,
           "Big-small"
          ],
          [
           45,
           135,
           "Big-small"
          ],
          [
           50,
           135,
           "Big-small"
          ],
          [
           55,
           135,
           "Big-small"
          ],
          [
           60,
           135,
           "Big-small"
          ],
          [
           65,
           135,
           "Big-small"
          ],
          [
           70,
           135,
           "Big-small"
          ],
          [
           40,
           140,
           "Big-small"
          ],
          [
           45,
           140,
           "Big-small"
          ],
          [
           50,
           140,
           "Big-small"
          ],
          [
           55,
           140,
           "Big-small"
          ],
          [
           60,
           140,
           "Big-small"
          ],
          [
           65,
           140,
           "Big-small"
          ],
          [
           70,
           140,
           "Big-small"
          ],
          [
           40,
           145,
           "Big-small"
          ],
          [
           45,
           145,
           "Big-small"
          ],
          [
           50,
           145,
           "Big-small"
          ],
          [
           55,
           145,
           "Big-small"
          ],
          [
           60,
           145,
           "Big-small"
          ],
          [
           65,
           145,
           "Big-small"
          ],
          [
           70,
           145,
           "Big-small"
          ],
          [
           40,
           150,
           "Big-small"
          ],
          [
           45,
           150,
           "Big-small"
          ],
          [
           50,
           150,
           "Big-small"
          ],
          [
           55,
           150,
           "Big-small"
          ],
          [
           60,
           150,
           "Big-small"
          ],
          [
           65,
           150,
           "Big-small"
          ],
          [
           70,
           150,
           "Big-small"
          ],
          [
           40,
           155,
           "Big-small"
          ],
          [
           45,
           155,
           "Big-small"
          ],
          [
           50,
           155,
           "Big-small"
          ],
          [
           55,
           155,
           "Big-small"
          ],
          [
           60,
           155,
           "Big-small"
          ],
          [
           65,
           155,
           "Big-small"
          ],
          [
           70,
           155,
           "Big-small"
          ],
          [
           40,
           160,
           "Big-small"
          ],
          [
           45,
           160,
           "Big-small"
          ],
          [
           50,
           160,
           "Big-small"
          ],
          [
           55,
           160,
           "Big-small"
          ],
          [
           60,
           160,
           "Big-small"
          ],
          [
           65,
           160,
           "Big-small"
          ],
          [
           70,
           160,
           "Big-small"
          ],
          [
           40,
           165,
           "Big-small"
          ],
          [
           45,
           165,
           "Big-small"
          ],
          [
           50,
           165,
           "Big-small"
          ],
          [
           55,
           165,
           "Big-small"
          ],
          [
           60,
           165,
           "Big-small"
          ],
          [
           65,
           165,
           "Big-small"
          ],
          [
           70,
           165,
           "Big-small"
          ],
          [
           40,
           170,
           "Big-small"
          ],
          [
           45,
           170,
           "Big-small"
          ],
          [
           50,
           170,
           "Big-small"
          ],
          [
           55,
           170,
           "Big-small"
          ],
          [
           60,
           170,
           "Big-small"
          ],
          [
           65,
           170,
           "Big-small"
          ],
          [
           70,
           170,
           "Big-small"
          ],
          [
           40,
           175,
           "Big-small"
          ],
          [
           45,
           175,
           "Big-small"
          ],
          [
           50,
           175,
           "Big-small"
          ],
          [
           55,
           175,
           "Big-small"
          ],
          [
           60,
           175,
           "Big-small"
          ],
          [
           65,
           175,
           "Big-small"
          ],
          [
           70,
           175,
           "Big-small"
          ],
          [
           40,
           180,
           "Big-small"
          ],
          [
           45,
           180,
           "Big-small"
          ],
          [
           50,
           180,
           "Big-small"
          ],
          [
           55,
           180,
           "Big-small"
          ],
          [
           60,
           180,
           "Big-small"
          ],
          [
           65,
           180,
           "Big-small"
          ],
          [
           70,
           180,
           "Big-small"
          ],
          [
           40,
           185,
           "Big-small"
          ],
          [
           45,
           185,
           "Big-small"
          ],
          [
           50,
           185,
           "Big-small"
          ],
          [
           55,
           185,
           "Big-small"
          ],
          [
           60,
           185,
           "Big-small"
          ],
          [
           65,
           185,
           "Big-small"
          ],
          [
           70,
           185,
           "Big-small"
          ],
          [
           40,
           190,
           "Big-small"
          ],
          [
           45,
           190,
           "Big-small"
          ],
          [
           50,
           190,
           "Big-small"
          ],
          [
           55,
           190,
           "Big-small"
          ],
          [
           60,
           190,
           "Big-small"
          ],
          [
           65,
           190,
           "Big-small"
          ],
          [
           70,
           190,
           "Big-small"
          ],
          [
           40,
           195,
           "Big-small"
          ],
          [
           45,
           195,
           "Big-small"
          ],
          [
           50,
           195,
           "Big-small"
          ],
          [
           55,
           195,
           "Big-small"
          ],
          [
           60,
           195,
           "Big-small"
          ],
          [
           65,
           195,
           "Big-small"
          ],
          [
           70,
           195,
           "Big-small"
          ],
          [
           40,
           200,
           "Big-small"
          ],
          [
           45,
           200,
           "Big-small"
          ],
          [
           50,
           200,
           "Big-small"
          ],
          [
           55,
           200,
           "Big-small"
          ],
          [
           60,
           200,
           "Big-small"
          ],
          [
           65,
           200,
           "Big-small"
          ],
          [
           70,
           200,
           "Big-small"
          ],
          [
           40,
           205,
           "Big-small"
          ],
          [
           45,
           205,
           "Big-small"
          ],
          [
           50,
           205,
           "Big-small"
          ],
          [
           55,
           205,
           "Big-small"
          ],
          [
           60,
           205,
           "Big-small"
          ],
          [
           65,
           205,
           "Big-small"
          ],
          [
           70,
           205,
           "Big-small"
          ],
          [
           40,
           210,
           "Big-small"
          ],
          [
           45,
           210,
           "Big-small"
          ],
          [
           50,
           210,
           "Big-small"
          ],
          [
           55,
           210,
           "Big-small"
          ],
          [
           60,
           210,
           "Big-small"
          ],
          [
           65,
           210,
           "Big-small"
          ],
          [
           70,
           210,
           "Big-small"
          ]
         ],
         "hovertemplate": "MA pairs=%{customdata[2]}<br>Average Win %=%{x:.2f}<br>Win Rate %=%{y:.2f}<br>short MA=%{customdata[0]}<br>long MA=%{customdata[1]}<extra></extra>",
         "legendgroup": "Big-small",
         "marker": {
          "color": "#EF553B",
          "symbol": "circle"
         },
         "mode": "markers",
         "name": "Big-small",
         "orientation": "v",
         "showlegend": true,
         "type": "scatter",
         "x": {
          "bdata": "gnqhSBjOG0BXnRDN+U8iQDMr2v8xKydAtPTyCLbSLUAfNjJk/1UzQGPHdf2HNzJAbVWkaIY5KkCJFh20cSsdQCeArbyOABhAg/0gufyoIkCKC0H9ftMuQDmXq15QMzFAzEjnZfSrMECm+0YzbmgwQLsq+MbpaRtAsEzikb1jH0CVCpsNFAYqQDaasYISiTBAnZhg/DOHM0Br4arPNjAxQOqQbSg2FzBAatseOwbtIEBKdtxFUsUjQPRjoDcTFyxANt3efwBsMkCRT2DiHEgzQAqEphbxQDFAr1mlirM8MEAKX2p3OBkoQJUSfp7smiVAAfzowde/IkAE5z8gXP0tQNNRPnHCPC9AMBgOXcUDKkDB+sTcuasrQLRvGV4fHSJAqZ7FLKzXJUAWoyrvPQYoQEznw3iNXiZAHnNeMJHNLUA9ygJFg7EnQCKmEceIfSlAXwTgHcslJEDv2NhsnLIrQL/OjlCXry1AOSrjlrh0LkCOlva2kSMpQDtVbHRtbyhA/dpUvK4HLEC0KCXxa6orQOForKBTgiZAlO83oeSXLkCNbnDFI2snQDyoqRCKASBAQwzsFXNiJ0Cl6TP9QTEoQH2YdJfmDCJAXtWlLOAEJkBMnQDQlnwkQHWhEZ51ViNAq+9RPgz8IUAyPmU2ptQjQAyxgGynjB5AQ9TVx3VHIEDpTUXcVi8gQLQxKlm47SFAxTZsiL4lHEBmcEvrNLciQE+kiQcEOyFA91lqzwYnGkCsP0kus3MeQNE9erIo3htAhwu6TecOHUCXX4Laf2ofQPmL+kOiDCFA8400QGV1GkD2oUoSHi8iQLvQPAcqqBtAeU3m2QDPIECX6ARaJO8dQBJ+ZzRVgxhAipu4efTHG0BOCHFxv7kiQEEo5tZAhCdAmoj8ZvpOHkDRegtmPsAjQHc+/Ye7Cx9ARr6noOvpGEAbS+UaWXIZQIlN+QdkjiVAeiyvLtNmJUCxy3D1F2oiQAVsWIxMBCNAum4UZ1NUIkASSYePjwshQPXxMMklZyJAQKp3bqZvI0CiVmQ6zUknQO2LKt3fGiRAxm54+xZHIkCwgM85lkIqQKy+dxnjXCRASk1OeJjTI0AN/NfDidAmQPk91b7LJyVA/vLKk+QfJ0AnTFeKuyYoQEGKDKyqgClAvAkjD9gNJkDQrCw5Y7YhQETQnO64eydAl8MVcCaXKEBsJBeQ2tQlQI2AiB78+iZAZf3VmYaYJ0Cj8WiLK3UlQIs6zGYhzSJAduJgw808JUAxcE+uFNslQOIV02UGGSNAzf/EEc3UJUCGWDZogDwmQKR4lw30JiRAHqGEMHnNIkBQ8JM4gsslQKW+zlnTMS5Ap5N4/VkaJEB+7/IPmoIqQLUAd0tocChAI6rvIXqNJUCNrFiOFsAlQOd9Kz+bQi9AzNzod6MMMEA=",
          "dtype": "f8"
         },
         "xaxis": "x",
         "y": {
          "bdata": "F9nO91PjLEBN8GCeqP8tQGLJL5b84ixANheSplQcMECBB/NE/RsvQDYXkqZUHDBALbKd76fGK0D5mgtJU6oqQOLBPFH/xitAtQ+fYVcALkBM8GCeqP8tQGwuJE2pODFA4cE8Uf/GMUCvuZA0peIsQOLBPFH/xitAw4N5ov6NKUA2F5KmVBwwQC6yne+nxitAFtnO91PjMkCiRbbz/VQyQDYXkqZUHDBAdZMYBFaOKUDZXEiaUnEoQLxJDAIrxzFA4sE8Uf/GMUDhwTxR/8YxQIMH80T9Gy9ANheSplQcMED5mgtJU6oqQKyqqqqqqipAVVVVVVVVMkBFtvP91DgxQNEi2/l+qjBAbS4kTak4MUCV0duyVscrQLtJDAIrxzFAq6qqqqqqMEAgPsOuADkxQLtJDAIrxzFA4sE8Uf/GMUBsLiRNqTgxQDYXkqZUHDBAq6qqqqqqMEBVVVVVVVUyQHzNhaQpVTJA0SLb+X6qMEB9zYWkKVUyQFyPwvUoHDBAAAAAAAAALkDpJjEIrBwvQBGfYVeAHDBAz/dT46UbL0BGtvP91DgxQKuqqqqqqjBANheSplQcMEDpJjEIrBwvQLtJDAIrxzFA6yYxCKwcL0A1F5KmVBwwQODBPFH/xitAF9nO91PjLEA3F5KmVBwvQHzNhaQpVTJARbbz/dQ4MUCBB/NE/RswQODBPFH/xitA0CLb+X6qMED3mgtJU6oqQM/3U+OlGy9AAAAAAAAANEB8zYWkKVUyQHzNhaQpVTJA8GCeqH/jMkBN8GCeqP8tQKuqqqqqqipA95oLSVOqMEDBg3mi/o00QCA+w64AOTFAseQXS35xM0Aw3SQGgVUyQIIH80T9Gy9AtQ+fYVcALkCrqqqqqqowQDDdJAaBVTJAMN0kBoFVMkCLbOf7qXEzQPrFkl8sOTFAkqZUnH04MUCrqqqqqqowQAAAAAAAADRA6yYxCKwcNUDgwTxR/8YxQCA+w64AOTFAjGzn+6lxM0AneDBP1P8zQOHBPFH/xjFAEJ9hV4AcNUAAAAAAAAA0QFVVVVVVVTJAu0kMAivHMUB1kxgEVo40QGX0tqzVcTNAjGzn+6lxM0CcC0lTKo40QEB8hl0BcjNA4cE8Uf/GMUAW2c73U+MyQBCfYVeAHDVA8GCeqH/jMkDRItv5fqo1QI1s5/upcTNAvEkMAivHMUCEMnpb1qo1QGX0tqzVcTNAZfS2rNVxM0A2F5KmVBw1QEa28/3UODZAu0kMAivHNkAAAAAAAAA0QBCfYVeAHDVAi2zn+6lxM0ABAAAAAAA0QAEAAAAAADRARrbz/dQ4NkBVVVVVVVU3QCd4ME/U/zNAEJ9hV4AcNUDxYJ6of+MyQJwLSVMqjjRAEJ9hV4AcNUAQn2FXgBw1QF2PwvUoHDVAJ3gwT9T/M0A=",
          "dtype": "f8"
         },
         "yaxis": "y"
        },
        {
         "customdata": [
          [
           5,
           215,
           "Small-Big"
          ],
          [
           10,
           215,
           "Small-Big"
          ],
          [
           15,
           215,
           "Small-Big"
          ],
          [
           20,
           215,
           "Small-Big"
          ],
          [
           25,
           215,
           "Small-Big"
          ],
          [
           30,
           215,
           "Small-Big"
          ],
          [
           35,
           215,
           "Small-Big"
          ],
          [
           5,
           220,
           "Small-Big"
          ],
          [
           10,
           220,
           "Small-Big"
          ],
          [
           15,
           220,
           "Small-Big"
          ],
          [
           20,
           220,
           "Small-Big"
          ],
          [
           25,
           220,
           "Small-Big"
          ],
          [
           30,
           220,
           "Small-Big"
          ],
          [
           35,
           220,
           "Small-Big"
          ],
          [
           5,
           225,
           "Small-Big"
          ],
          [
           10,
           225,
           "Small-Big"
          ],
          [
           15,
           225,
           "Small-Big"
          ],
          [
           20,
           225,
           "Small-Big"
          ],
          [
           25,
           225,
           "Small-Big"
          ],
          [
           30,
           225,
           "Small-Big"
          ],
          [
           35,
           225,
           "Small-Big"
          ],
          [
           5,
           230,
           "Small-Big"
          ],
          [
           10,
           230,
           "Small-Big"
          ],
          [
           15,
           230,
           "Small-Big"
          ],
          [
           20,
           230,
           "Small-Big"
          ],
          [
           25,
           230,
           "Small-Big"
          ],
          [
           30,
           230,
           "Small-Big"
          ],
          [
           35,
           230,
           "Small-Big"
          ],
          [
           5,
           235,
           "Small-Big"
          ],
          [
           10,
           235,
           "Small-Big"
          ],
          [
           15,
           235,
           "Small-Big"
          ],
          [
           20,
           235,
           "Small-Big"
          ],
          [
           25,
           235,
           "Small-Big"
          ],
          [
           30,
           235,
           "Small-Big"
          ],
          [
           35,
           235,
           "Small-Big"
          ],
          [
           5,
           240,
           "Small-Big"
          ],
          [
           10,
           240,
           "Small-Big"
          ],
          [
           15,
           240,
           "Small-Big"
          ],
          [
           20,
           240,
           "Small-Big"
          ],
          [
           25,
           240,
           "Small-Big"
          ],
          [
           30,
           240,
           "Small-Big"
          ],
          [
           35,
           240,
           "Small-Big"
          ],
          [
           5,
           245,
           "Small-Big"
          ],
          [
           10,
           245,
           "Small-Big"
          ],
          [
           15,
           245,
           "Small-Big"
          ],
          [
           20,
           245,
           "Small-Big"
          ],
          [
           25,
           245,
           "Small-Big"
          ],
          [
           30,
           245,
           "Small-Big"
          ],
          [
           35,
           245,
           "Small-Big"
          ],
          [
           5,
           250,
           "Small-Big"
          ],
          [
           10,
           250,
           "Small-Big"
          ],
          [
           15,
           250,
           "Small-Big"
          ],
          [
           20,
           250,
           "Small-Big"
          ],
          [
           25,
           250,
           "Small-Big"
          ],
          [
           30,
           250,
           "Small-Big"
          ],
          [
           35,
           250,
           "Small-Big"
          ],
          [
           5,
           255,
           "Small-Big"
          ],
          [
           10,
           255,
           "Small-Big"
          ],
          [
           15,
           255,
           "Small-Big"
          ],
          [
           20,
           255,
           "Small-Big"
          ],
          [
           25,
           255,
           "Small-Big"
          ],
          [
           30,
           255,
           "Small-Big"
          ],
          [
           35,
           255,
           "Small-Big"
          ],
          [
           5,
           260,
           "Small-Big"
          ],
          [
           10,
           260,
           "Small-Big"
          ],
          [
           15,
           260,
           "Small-Big"
          ],
          [
           20,
           260,
           "Small-Big"
          ],
          [
           25,
           260,
           "Small-Big"
          ],
          [
           30,
           260,
           "Small-Big"
          ],
          [
           35,
           260,
           "Small-Big"
          ],
          [
           5,
           265,
           "Small-Big"
          ],
          [
           10,
           265,
           "Small-Big"
          ],
          [
           15,
           265,
           "Small-Big"
          ],
          [
           20,
           265,
           "Small-Big"
          ],
          [
           25,
           265,
           "Small-Big"
          ],
          [
           30,
           265,
           "Small-Big"
          ],
          [
           35,
           265,
           "Small-Big"
          ],
          [
           5,
           270,
           "Small-Big"
          ],
          [
           10,
           270,
           "Small-Big"
          ],
          [
           15,
           270,
           "Small-Big"
          ],
          [
           20,
           270,
           "Small-Big"
          ],
          [
           25,
           270,
           "Small-Big"
          ],
          [
           30,
           270,
           "Small-Big"
          ],
          [
           35,
           270,
           "Small-Big"
          ],
          [
           5,
           275,
           "Small-Big"
          ],
          [
           10,
           275,
           "Small-Big"
          ],
          [
           15,
           275,
           "Small-Big"
          ],
          [
           20,
           275,
           "Small-Big"
          ],
          [
           25,
           275,
           "Small-Big"
          ],
          [
           30,
           275,
           "Small-Big"
          ],
          [
           35,
           275,
           "Small-Big"
          ],
          [
           5,
           280,
           "Small-Big"
          ],
          [
           10,
           280,
           "Small-Big"
          ],
          [
           15,
           280,
           "Small-Big"
          ],
          [
           20,
           280,
           "Small-Big"
          ],
          [
           25,
           280,
           "Small-Big"
          ],
          [
           30,
           280,
           "Small-Big"
          ],
          [
           35,
           280,
           "Small-Big"
          ],
          [
           5,
           285,
           "Small-Big"
          ],
          [
           10,
           285,
           "Small-Big"
          ],
          [
           15,
           285,
           "Small-Big"
          ],
          [
           20,
           285,
           "Small-Big"
          ],
          [
           25,
           285,
           "Small-Big"
          ],
          [
           30,
           285,
           "Small-Big"
          ],
          [
           35,
           285,
           "Small-Big"
          ],
          [
           5,
           290,
           "Small-Big"
          ],
          [
           10,
           290,
           "Small-Big"
          ],
          [
           15,
           290,
           "Small-Big"
          ],
          [
           20,
           290,
           "Small-Big"
          ],
          [
           25,
           290,
           "Small-Big"
          ],
          [
           30,
           290,
           "Small-Big"
          ],
          [
           35,
           290,
           "Small-Big"
          ],
          [
           5,
           295,
           "Small-Big"
          ],
          [
           10,
           295,
           "Small-Big"
          ],
          [
           15,
           295,
           "Small-Big"
          ],
          [
           20,
           295,
           "Small-Big"
          ],
          [
           25,
           295,
           "Small-Big"
          ],
          [
           30,
           295,
           "Small-Big"
          ],
          [
           35,
           295,
           "Small-Big"
          ],
          [
           5,
           300,
           "Small-Big"
          ],
          [
           10,
           300,
           "Small-Big"
          ],
          [
           15,
           300,
           "Small-Big"
          ],
          [
           20,
           300,
           "Small-Big"
          ],
          [
           25,
           300,
           "Small-Big"
          ],
          [
           30,
           300,
           "Small-Big"
          ],
          [
           35,
           300,
           "Small-Big"
          ]
         ],
         "hovertemplate": "MA pairs=%{customdata[2]}<br>Average Win %=%{x:.2f}<br>Win Rate %=%{y:.2f}<br>short MA=%{customdata[0]}<br>long MA=%{customdata[1]}<extra></extra>",
         "legendgroup": "Small-Big",
         "marker": {
          "color": "#00cc96",
          "symbol": "circle"
         },
         "mode": "markers",
         "name": "Small-Big",
         "orientation": "v",
         "showlegend": true,
         "type": "scatter",
         "x": {
          "bdata": "3+Bs/4RzMED+vZsQZyo1QJFKqRJ/LjFAoBN0nodVKEAUYX+ikmYkQAta5CUkjyRA8sxDFDwJJkBRP9h66WMsQMm6iVxwhjJA+cB7Q2zPLUCW6YoinzYoQMr+jtK+ESdA5t0wnzZEJUB7seQUT9MkQC+sDuyRYS5ALgnBOlnOM0BnDAUqwKkoQJQJB2ninSRA/AsIj7OEJ0DaE+NstJYlQCZsFtFtSyVAEknw9KxFKEBQ434Z/Ko0QC8Cl2HIryxAxpvZAg0gJEAhclFJG+wmQB46Zuv6ayNAuVXhxl9OKED/R2W6WLgoQJCfNFHePTJAMQRytVyqK0D09WoShlcrQFodN9IugCxAnuuJdSaHKkCSdKaoMa4nQEpVW3bbWChAi54+WiboMUDjJ4o3+aoqQPYF+lCXzy9AxcWhTNowLkC9caYIhCwrQJcREBsv+SlAs6sBGEAJKkD0rsYd4lsxQIyXHZeruSpAHPYOYoQpMEBV4qsqiNYuQBFcAn28/ilAXspsxK1ZKkBiSEh3LEwrQL8kgngEdzNAyjw6ay6wL0AqGaq3W40xQNmMUKjiDitA/9+VD1WfKED+byWGmxUsQNUxFgmU+ipAzHlsRjJLM0Dy+NH7F+4wQDWhRGwY6zFAMiOHyTccLEDEyF+nVrspQFlWxO+xgCpA5QAKoku+J0BU6dGqw4cxQOsVGpT9gzFA/kkC7J3hMECZXPSwUdUsQEs4TUDFcilAEotSdXW6LEBR2nbCyBMmQKmrm2VoTy9AV3eEgCPuMEBGmCZJgQ0xQN6Fp6La+ilApZ80c/YRLEDHM8FLhv0oQAV/LjQE7CRAQcG1+VgqKEC1532I2aIxQCNCuGRKMjFAHVqjd0odKkAisALaHdAqQIKexD7ayilARxdZtvjQKEAsnII4syUmQAX/1shsBS9AjbwVRfEyMEArpfjgbx4sQJ7c36ZxoCpA7uLQ3/KrKUCWMIA8IoIpQP6gvd6bUyZAxQOdLORIMUCdgp2X2GcwQOFubjsicytAgD5h5Zq6K0DdbMCR0zAoQEmjgU2DdSpA0a5iKv/JJkD2u9xym30oQBNZI2SyKjJAD+vBnRR9K0BkT9XP7mApQGBbwLp0ZSdARhNwSkBzKUCfeoL0eMIoQAPHPtC2vCpAm8B1UosUMkCu6Ky5MQstQOPiAnIMRydAs1FqGfgCJ0CWPNPrgIkpQGVCJRa79ilAHsSlpqsMJkAxbLEQ9EktQBGcTw9a6i1AkPrAD8QgJkDwSICkzg8pQEd62Ft26ilAaUDB/sv6K0CZCMn1G0coQL2U4fEhBi1AG9hQ54AVKkCPWwIRdZ0pQOnn4/lk8SNA",
          "dtype": "f8"
         },
         "xaxis": "x",
         "y": {
          "bdata": "BjptoNPGMUBN8GCeqP8zQDYXkqZUHDVARrbz/dQ4NkCLbOf7qXE4QNuHz7ArADRAID7DrgA5NkBdj8L1KBw1QAY6baDTxjZA4cE8Uf/GNkCsqqqqqqo1QKuqqqqqqjVAZfS2rNVxM0AgPsOuADk2QDcXkqZUHDVAokW28/1UN0C7SQwCK8c2QBGfYVeAHDVAZPS2rNVxOEDhwTxR/8Y2QJTR27JWxzZAk6ZUnH04NkDSItv5fqo1QFZVVVVVVTdAID7DrgA5NkC7SQwCK8c2QOHBPFH/xjZAVVVVVVVVN0Atsp3vp8Y2QGwuJE2pODZA8WCeqH/jN0BGtvP91Dg2QPFgnqh/4zdAVVVVVVVVN0B8zYWkKVU3QKJFtvP9VDdAseQXS35xOEDbh8+wKwA5QJOmVJx9ODZA0SLb+X6qNUBFtvP91Dg2QCA+w64AOTZABzptoNPGNkCMbOf7qXE4QPFgnqh/4zdAXY/C9SgcNUBVVVVVVVU3QKuqqqqqqjVAvEkMAivHNkDRItv5fqo1QPFgnqh/4zdArKqqqqqqOkDhwTxR/8Y2QGX0tqzVcThARbbz/dQ4NkB8zYWkKVU3QC2yne+nxjZAjGzn+6lxOEA3F5KmVBw6QAAAAAAAADlAnAtJUyqOOUDQItv5fqo1QPFgnqh/4zdATfBgnqj/M0BVVVVVVVU3QAEAAAAAADlAseQXS35xOEDgwTxR/8Y2QMrobVmr4zdARrbz/dQ4NkDBg3mi/o00QIts5/upcThAMd0kBoFVN0Dbh8+wKwA5QPFgnqh/4zdAzOhtWavjN0ABAAAAAAA5QAAAAAAAADRAjGzn+6lxOEBWVVVVVVU3QFVVVVVVVTdAQHyGXQFyOEBVVVVVVVU3QKFFtvP9VDdAseQXS35xM0AW2c73U+M3QGb0tqzVcThAdpMYBFaOOUDbh8+wKwA5QMvobVmr4zdANheSplQcOkCy5BdLfnEzQLHkF0t+cThAVlVVVVVVN0DxYJ6of+M3QKuqqqqqqjpAy+htWavjN0B2kxgEVo45QE3wYJ6o/zNAokW28/1UN0C8SQwCK8c2QLxJDAIrxzZAAAAAAAAAOUB1kxgEVo45QNuHz7ArADlAwoN5ov6NNEAAAAAAAAA5QAAAAAAAADlAVlVVVVVVN0A2F5KmVBw6QEa28/3UODtA+8WSXyw5O0Bcj8L1KBw1QIts5/upcThAdpMYBFaOOUCMbOf7qXE4QMGDeaL+jTlARrbz/dQ4O0BGtvP91Dg7QFyPwvUoHDVAZfS2rNVxOECkcD0K1+M3QBGfYVeAHDpAAQAAAAAAOUDwYJ6of+M8QIUyelvWqjpA",
          "dtype": "f8"
         },
         "yaxis": "y"
        },
        {
         "customdata": [
          [
           40,
           215,
           "Big-Big"
          ],
          [
           45,
           215,
           "Big-Big"
          ],
          [
           50,
           215,
           "Big-Big"
          ],
          [
           55,
           215,
           "Big-Big"
          ],
          [
           60,
           215,
           "Big-Big"
          ],
          [
           65,
           215,
           "Big-Big"
          ],
          [
           70,
           215,
           "Big-Big"
          ],
          [
           40,
           220,
           "Big-Big"
          ],
          [
           45,
           220,
           "Big-Big"
          ],
          [
           50,
           220,
           "Big-Big"
          ],
          [
           55,
           220,
           "Big-Big"
          ],
          [
           60,
           220,
           "Big-Big"
          ],
          [
           65,
           220,
           "Big-Big"
          ],
          [
           70,
           220,
           "Big-Big"
          ],
          [
           40,
           225,
           "Big-Big"
          ],
          [
           45,
           225,
           "Big-Big"
          ],
          [
           50,
           225,
           "Big-Big"
          ],
          [
           55,
           225,
           "Big-Big"
          ],
          [
           60,
           225,
           "Big-Big"
          ],
          [
           65,
           225,
           "Big-Big"
          ],
          [
           70,
           225,
           "Big-Big"
          ],
          [
           40,
           230,
           "Big-Big"
          ],
          [
           45,
           230,
           "Big-Big"
          ],
          [
           50,
           230,
           "Big-Big"
          ],
          [
           55,
           230,
           "Big-Big"
          ],
          [
           60,
           230,
           "Big-Big"
          ],
          [
           65,
           230,
           "Big-Big"
          ],
          [
           70,
           230,
           "Big-Big"
          ],
          [
           40,
           235,
           "Big-Big"
          ],
          [
           45,
           235,
           "Big-Big"
          ],
          [
           50,
           235,
           "Big-Big"
          ],
          [
           55,
           235,
           "Big-Big"
          ],
          [
           60,
           235,
           "Big-Big"
          ],
          [
           65,
           235,
           "Big-Big"
          ],
          [
           70,
           235,
           "Big-Big"
          ],
          [
           40,
           240,
           "Big-Big"
          ],
          [
           45,
           240,
           "Big-Big"
          ],
          [
           50,
           240,
           "Big-Big"
          ],
          [
           55,
           240,
           "Big-Big"
          ],
          [
           60,
           240,
           "Big-Big"
          ],
          [
           65,
           240,
           "Big-Big"
          ],
          [
           70,
           240,
           "Big-Big"
          ],
          [
           40,
           245,
           "Big-Big"
          ],
          [
           45,
           245,
           "Big-Big"
          ],
          [
           50,
           245,
           "Big-Big"
          ],
          [
           55,
           245,
           "Big-Big"
          ],
          [
           60,
           245,
           "Big-Big"
          ],
          [
           65,
           245,
           "Big-Big"
          ],
          [
           70,
           245,
           "Big-Big"
          ],
          [
           40,
           250,
           "Big-Big"
          ],
          [
           45,
           250,
           "Big-Big"
          ],
          [
           50,
           250,
           "Big-Big"
          ],
          [
           55,
           250,
           "Big-Big"
          ],
          [
           60,
           250,
           "Big-Big"
          ],
          [
           65,
           250,
           "Big-Big"
          ],
          [
           70,
           250,
           "Big-Big"
          ],
          [
           40,
           255,
           "Big-Big"
          ],
          [
           45,
           255,
           "Big-Big"
          ],
          [
           50,
           255,
           "Big-Big"
          ],
          [
           55,
           255,
           "Big-Big"
          ],
          [
           60,
           255,
           "Big-Big"
          ],
          [
           65,
           255,
           "Big-Big"
          ],
          [
           70,
           255,
           "Big-Big"
          ],
          [
           40,
           260,
           "Big-Big"
          ],
          [
           45,
           260,
           "Big-Big"
          ],
          [
           50,
           260,
           "Big-Big"
          ],
          [
           55,
           260,
           "Big-Big"
          ],
          [
           60,
           260,
           "Big-Big"
          ],
          [
           65,
           260,
           "Big-Big"
          ],
          [
           70,
           260,
           "Big-Big"
          ],
          [
           40,
           265,
           "Big-Big"
          ],
          [
           45,
           265,
           "Big-Big"
          ],
          [
           50,
           265,
           "Big-Big"
          ],
          [
           55,
           265,
           "Big-Big"
          ],
          [
           60,
           265,
           "Big-Big"
          ],
          [
           65,
           265,
           "Big-Big"
          ],
          [
           70,
           265,
           "Big-Big"
          ],
          [
           40,
           270,
           "Big-Big"
          ],
          [
           45,
           270,
           "Big-Big"
          ],
          [
           50,
           270,
           "Big-Big"
          ],
          [
           55,
           270,
           "Big-Big"
          ],
          [
           60,
           270,
           "Big-Big"
          ],
          [
           65,
           270,
           "Big-Big"
          ],
          [
           70,
           270,
           "Big-Big"
          ],
          [
           40,
           275,
           "Big-Big"
          ],
          [
           45,
           275,
           "Big-Big"
          ],
          [
           50,
           275,
           "Big-Big"
          ],
          [
           55,
           275,
           "Big-Big"
          ],
          [
           60,
           275,
           "Big-Big"
          ],
          [
           65,
           275,
           "Big-Big"
          ],
          [
           70,
           275,
           "Big-Big"
          ],
          [
           40,
           280,
           "Big-Big"
          ],
          [
           45,
           280,
           "Big-Big"
          ],
          [
           50,
           280,
           "Big-Big"
          ],
          [
           55,
           280,
           "Big-Big"
          ],
          [
           60,
           280,
           "Big-Big"
          ],
          [
           65,
           280,
           "Big-Big"
          ],
          [
           70,
           280,
           "Big-Big"
          ],
          [
           40,
           285,
           "Big-Big"
          ],
          [
           45,
           285,
           "Big-Big"
          ],
          [
           50,
           285,
           "Big-Big"
          ],
          [
           55,
           285,
           "Big-Big"
          ],
          [
           60,
           285,
           "Big-Big"
          ],
          [
           65,
           285,
           "Big-Big"
          ],
          [
           70,
           285,
           "Big-Big"
          ],
          [
           40,
           290,
           "Big-Big"
          ],
          [
           45,
           290,
           "Big-Big"
          ],
          [
           50,
           290,
           "Big-Big"
          ],
          [
           55,
           290,
           "Big-Big"
          ],
          [
           60,
           290,
           "Big-Big"
          ],
          [
           65,
           290,
           "Big-Big"
          ],
          [
           70,
           290,
           "Big-Big"
          ],
          [
           40,
           295,
           "Big-Big"
          ],
          [
           45,
           295,
           "Big-Big"
          ],
          [
           50,
           295,
           "Big-Big"
          ],
          [
           55,
           295,
           "Big-Big"
          ],
          [
           60,
           295,
           "Big-Big"
          ],
          [
           65,
           295,
           "Big-Big"
          ],
          [
           70,
           295,
           "Big-Big"
          ],
          [
           40,
           300,
           "Big-Big"
          ],
          [
           45,
           300,
           "Big-Big"
          ],
          [
           50,
           300,
           "Big-Big"
          ],
          [
           55,
           300,
           "Big-Big"
          ],
          [
           60,
           300,
           "Big-Big"
          ],
          [
           65,
           300,
           "Big-Big"
          ],
          [
           70,
           300,
           "Big-Big"
          ]
         ],
         "hovertemplate": "MA pairs=%{customdata[2]}<br>Average Win %=%{x:.2f}<br>Win Rate %=%{y:.2f}<br>short MA=%{customdata[0]}<br>long MA=%{customdata[1]}<extra></extra>",
         "legendgroup": "Big-Big",
         "marker": {
          "color": "#ab63fa",
          "symbol": "circle"
         },
         "mode": "markers",
         "name": "Big-Big",
         "orientation": "v",
         "showlegend": true,
         "type": "scatter",
         "x": {
          "bdata": "vXkQlt8ZJEDvac9cIC0pQBIx/nE8CidAMCyP2C6NJUB+PB75h8YtQPUMxwCIhC9AZjykvsCyKkD5opwtIUsoQCc/S4cIECZArbM2wPDzJkA0zhNBsT8lQGp+LIrYSy5AU4gzSC1+LECqiNsTAPIqQBCeRswCGidAbeRi4JX0JUD/ZSC7EWsxQEtf0pH/dC9A3zabBNIIKkBTUWjunvgqQJBIOMIGSypA4NZzigjuJ0Bco6/89wkxQNNgF5AnbDFAzdcz7QoZL0AdzSy0vocoQHBVSpjOBCpAgCovLuULMEDR6V+lh34uQId1l0W7ZDBA6gxyShwSMUDwQyOupg0tQEb0ldaBMChAOoPaIau2LEDvnFRM0MAvQNDyCbkCeihAoda5+wS8LUBNSvNbXXgwQHd7tVtnhipAo/u5hcyAKUAGO5NeJ94vQFO24sAh8i1APTes5FiUKEBqfNZeYJQqQHDBv5qFdy9Ahh8/NbBtK0DuU9x+mUssQF497CNbiTBAw0KEwRurMEDK29vTNzIoQDVnRt7fhixAN9VjRGtmLECvU2HETBYsQFqtSSJc7TBAtK+HJfcnMUBf7OWYG3UwQHBlZ1BxgSpAhLK4trv8J0BUM3HR1hIuQP8j02s/0C9Ap6CXoerbMED6XrR5awAzQPBdinKclzFAO7jmereKK0AE5osOlSArQHY0isRCRzBAuTxkpK6fMECHg2Ki3O8wQCATCkVDWzNATd+RDSLJMECQr27TPholQHKGAwvOqC5AMweUDZdBMkAX8/JQ2V4yQIs9jlz7hzNA0N9Da9xlMUCH5mNUXcUwQFUhTVdszylAt+L+sqH6LkAtdIUmXTE0QM4ot3ITAzJAH3xIfRduMUDONY1TTxozQMDAInlGQjFALojNleZ7KUDU/0mux7wuQOIkrBeu/zNA1+bfvPs9NUAlddpOSTw0QKKGyAwWKzFAehEoG4mgMUBvtiVhny8rQBSuuiHnxy9AZCsMo+4eNUAuuCYPVXIzQGeq9tNllzNAQUgWF9bqMUAW+azAXW4wQC791WjKVytARlctgaKgMUAUE+zgMPMzQJep20dzSDRAMwQOCj36MkCtFTA1DPgwQOVn6XK+jjFA6TMCc0LtKkA3aLIANK4wQBbxicz+fzRAKrd4DxMfM0Dgs1aSVJk0QBxZ0GftIzJAC1g3wMTZMUBLk6NmuWAqQBH46Sdq7DJAhPIY8cPqNkCsw+npNF41QIrzIBenqzRAz+RCk1Q2MkC0tR747+IxQFFY+OVxdSRAq8yOch57NEAaheLAed41QGkv6rCUljZAJN3DLFY5NEChVSc0HeUxQF8NiyDWczFA",
          "dtype": "f8"
         },
         "xaxis": "x",
         "y": {
          "bdata": "ZPS2rNVxOECMbOf7qXEzQIxs5/upcTNA24fPsCsANEAmeDBP1P8zQMGDeaL+jTRAnAtJUyqONECbC0lTKo40QCZ4ME/U/zNAnAtJUyqONEDSItv5fqo1QDYXkqZUHDVAAQAAAAAANECcC0lTKo40QB8+w64AOTZA6yYxCKwcNUCsqqqqqqo1QK2qqqqqqjVANheSplQcNUB8zYWkKVUyQBGfYVeAHDVAEJ9hV4AcNUD7xZJfLDk2QIxs5/upcThA0iLb+X6qNUCsqqqqqqo1QCd4ME/U/zNAPVH/RijjMkCFMnpb1qo1QG0uJE2pODZAbS4kTak4NkCsqqqqqqo1QPeaC0lTqjVAggfzRP0bNUAmeDBP1P8zQFZVVVVVVTdAAAAAAAAAOUAW2c73U+M3QEW28/3UODZA6fup8dKNNEA2F5KmVBw1QMKDeaL+jTRAvEkMAivHNkAW2c73U+M3QDDdJAaBVTdA4cE8Uf/GNkBN8GCeqP8zQJwLSVMqjjRANheSplQcNUCcC0lTKo45QBbZzvdT4zdAAQAAAAAAOUCMbOf7qXE4QBfZzvdT4zJARbbz/dQ4NkDwYJ6of+M3QHzNhaQpVTdAJngwT9T/OEDxYJ6of+M3QFVVVVVVVTdAXo/C9SgcNUDBg3mi/o05QJsLSVMqjjRAVlVVVVVVN0Bm9Las1XE4QPFgnqh/4zdAu0kMAivHNkBtLiRNqTg2QNdcSJpScThAbC4kTak4NkABAAAAAAA5QCA+w64AOTZAvEkMAivHNkD3mgtJU6o1QCZ4ME/U/zhAokW28/1UN0AV2c73U+M3QFZVVVVVVTdAfM2FpClVN0CiRbbz/VQ3QGX0tqzVcThAnQtJUyqOOUAW2c73U+M3QKJFtvP9VDdA8WCeqH/jN0DhwTxR/8Y2QAc6baDTxjZAVVVVVVVVN0DxYJ6of+M3QAY6baDTxjZAJXgwT9T/OEBWVVVVVVU3QAEAAAAAADlAwYN5ov6NOUCbC0lTKo45QHzNhaQpVTdAy+htWavjN0B1kxgEVo45QAEAAAAAADlAbC4kTak4O0A1F5KmVBw6QMGDeaL+jTlAwIN5ov6NOUAAAAAAAAA5QOf7qfHSjTlAEZ9hV4AcOkDxYJ6of+M8QB0TPJgnqjpA0SLb+X6qOkA9Uf9GKOM3QGX0tqzVcThAJ3gwT9T/OEDSItv5fqo6QEa28/3UODtAsuQXS35xOEAW2c73U+M3QLLkF0t+cThAJngwT9T/OECNbOf7qXE4QG0uJE2pODtAbC4kTak4O0CbC0lTKo45QDDdJAaBVTdAF9nO91PjN0CMbOf7qXE4QHWTGARWjjlA",
          "dtype": "f8"
         },
         "yaxis": "y"
        }
       ],
       "layout": {
        "font": {
         "color": "white"
        },
        "legend": {
         "title": {
          "text": "MA pairs"
         },
         "tracegroupgap": 0
        },
        "paper_bgcolor": "black",
        "plot_bgcolor": "black",
        "template": {
         "data": {
          "bar": [
           {
            "error_x": {
             "color": "#2a3f5f"
            },
            "error_y": {
             "color": "#2a3f5f"
            },
            "marker": {
             "line": {
              "color": "#E5ECF6",
              "width": 0.5
             },
             "pattern": {
              "fillmode": "overlay",
              "size": 10,
              "solidity": 0.2
             }
            },
            "type": "bar"
           }
          ],
          "barpolar": [
           {
            "marker": {
             "line": {
              "color": "#E5ECF6",
              "width": 0.5
             },
             "pattern": {
              "fillmode": "overlay",
              "size": 10,
              "solidity": 0.2
             }
            },
            "type": "barpolar"
           }
          ],
          "carpet": [
           {
            "aaxis": {
             "endlinecolor": "#2a3f5f",
             "gridcolor": "white",
             "linecolor": "white",
             "minorgridcolor": "white",
             "startlinecolor": "#2a3f5f"
            },
            "baxis": {
             "endlinecolor": "#2a3f5f",
             "gridcolor": "white",
             "linecolor": "white",
             "minorgridcolor": "white",
             "startlinecolor": "#2a3f5f"
            },
            "type": "carpet"
           }
          ],
          "choropleth": [
           {
            "colorbar": {
             "outlinewidth": 0,
             "ticks": ""
            },
            "type": "choropleth"
           }
          ],
          "contour": [
           {
            "colorbar": {
             "outlinewidth": 0,
             "ticks": ""
            },
            "colorscale": [
             [
              0,
              "#0d0887"
             ],
             [
              0.1111111111111111,
              "#46039f"
             ],
             [
              0.2222222222222222,
              "#7201a8"
             ],
             [
              0.3333333333333333,
              "#9c179e"
             ],
             [
              0.4444444444444444,
              "#bd3786"
             ],
             [
              0.5555555555555556,
              "#d8576b"
             ],
             [
              0.6666666666666666,
              "#ed7953"
             ],
             [
              0.7777777777777778,
              "#fb9f3a"
             ],
             [
              0.8888888888888888,
              "#fdca26"
             ],
             [
              1,
              "#f0f921"
             ]
            ],
            "type": "contour"
           }
          ],
          "contourcarpet": [
           {
            "colorbar": {
             "outlinewidth": 0,
             "ticks": ""
            },
            "type": "contourcarpet"
           }
          ],
          "heatmap": [
           {
            "colorbar": {
             "outlinewidth": 0,
             "ticks": ""
            },
            "colorscale": [
             [
              0,
              "#0d0887"
             ],
             [
              0.1111111111111111,
              "#46039f"
             ],
             [
              0.2222222222222222,
              "#7201a8"
             ],
             [
              0.3333333333333333,
              "#9c179e"
             ],
             [
              0.4444444444444444,
              "#bd3786"
             ],
             [
              0.5555555555555556,
              "#d8576b"
             ],
             [
              0.6666666666666666,
              "#ed7953"
             ],
             [
              0.7777777777777778,
              "#fb9f3a"
             ],
             [
              0.8888888888888888,
              "#fdca26"
             ],
             [
              1,
              "#f0f921"
             ]
            ],
            "type": "heatmap"
           }
          ],
          "histogram": [
           {
            "marker": {
             "pattern": {
              "fillmode": "overlay",
              "size": 10,
              "solidity": 0.2
             }
            },
            "type": "histogram"
           }
          ],
          "histogram2d": [
           {
            "colorbar": {
             "outlinewidth": 0,
             "ticks": ""
            },
            "colorscale": [
             [
              0,
              "#0d0887"
             ],
             [
              0.1111111111111111,
              "#46039f"
             ],
             [
              0.2222222222222222,
              "#7201a8"
             ],
             [
              0.3333333333333333,
              "#9c179e"
             ],
             [
              0.4444444444444444,
              "#bd3786"
             ],
             [
              0.5555555555555556,
              "#d8576b"
             ],
             [
              0.6666666666666666,
              "#ed7953"
             ],
             [
              0.7777777777777778,
              "#fb9f3a"
             ],
             [
              0.8888888888888888,
              "#fdca26"
             ],
             [
              1,
              "#f0f921"
             ]
            ],
            "type": "histogram2d"
           }
          ],
          "histogram2dcontour": [
           {
            "colorbar": {
             "outlinewidth": 0,
             "ticks": ""
            },
            "colorscale": [
             [
              0,
              "#0d0887"
             ],
             [
              0.1111111111111111,
              "#46039f"
             ],
             [
              0.2222222222222222,
              "#7201a8"
             ],
             [
              0.3333333333333333,
              "#9c179e"
             ],
             [
              0.4444444444444444,
              "#bd3786"
             ],
             [
              0.5555555555555556,
              "#d8576b"
             ],
             [
              0.6666666666666666,
              "#ed7953"
             ],
             [
              0.7777777777777778,
              "#fb9f3a"
             ],
             [
              0.8888888888888888,
              "#fdca26"
             ],
             [
              1,
              "#f0f921"
             ]
            ],
            "type": "histogram2dcontour"
           }
          ],
          "mesh3d": [
           {
            "colorbar": {
             "outlinewidth": 0,
             "ticks": ""
            },
            "type": "mesh3d"
           }
          ],
          "parcoords": [
           {
            "line": {
             "colorbar": {
              "outlinewidth": 0,
              "ticks": ""
             }
            },
            "type": "parcoords"
           }
          ],
          "pie": [
           {
            "automargin": true,
            "type": "pie"
           }
          ],
          "scatter": [
           {
            "fillpattern": {
             "fillmode": "overlay",
             "size": 10,
             "solidity": 0.2
            },
            "type": "scatter"
           }
          ],
          "scatter3d": [
           {
            "line": {
             "colorbar": {
              "outlinewidth": 0,
              "ticks": ""
             }
            },
            "marker": {
             "colorbar": {
              "outlinewidth": 0,
              "ticks": ""
             }
            },
            "type": "scatter3d"
           }
          ],
          "scattercarpet": [
           {
            "marker": {
             "colorbar": {
              "outlinewidth": 0,
              "ticks": ""
             }
            },
            "type": "scattercarpet"
           }
          ],
          "scattergeo": [
           {
            "marker": {
             "colorbar": {
              "outlinewidth": 0,
              "ticks": ""
             }
            },
            "type": "scattergeo"
           }
          ],
          "scattergl": [
           {
            "marker": {
             "colorbar": {
              "outlinewidth": 0,
              "ticks": ""
             }
            },
            "type": "scattergl"
           }
          ],
          "scattermap": [
           {
            "marker": {
             "colorbar": {
              "outlinewidth": 0,
              "ticks": ""
             }
            },
            "type": "scattermap"
           }
          ],
          "scattermapbox": [
           {
            "marker": {
             "colorbar": {
              "outlinewidth": 0,
              "ticks": ""
             }
            },
            "type": "scattermapbox"
           }
          ],
          "scatterpolar": [
           {
            "marker": {
             "colorbar": {
              "outlinewidth": 0,
              "ticks": ""
             }
            },
            "type": "scatterpolar"
           }
          ],
          "scatterpolargl": [
           {
            "marker": {
             "colorbar": {
              "outlinewidth": 0,
              "ticks": ""
             }
            },
            "type": "scatterpolargl"
           }
          ],
          "scatterternary": [
           {
            "marker": {
             "colorbar": {
              "outlinewidth": 0,
              "ticks": ""
             }
            },
            "type": "scatterternary"
           }
          ],
          "surface": [
           {
            "colorbar": {
             "outlinewidth": 0,
             "ticks": ""
            },
            "colorscale": [
             [
              0,
              "#0d0887"
             ],
             [
              0.1111111111111111,
              "#46039f"
             ],
             [
              0.2222222222222222,
              "#7201a8"
             ],
             [
              0.3333333333333333,
              "#9c179e"
             ],
             [
              0.4444444444444444,
              "#bd3786"
             ],
             [
              0.5555555555555556,
              "#d8576b"
             ],
             [
              0.6666666666666666,
              "#ed7953"
             ],
             [
              0.7777777777777778,
              "#fb9f3a"
             ],
             [
              0.8888888888888888,
              "#fdca26"
             ],
             [
              1,
              "#f0f921"
             ]
            ],
            "type": "surface"
           }
          ],
          "table": [
           {
            "cells": {
             "fill": {
              "color": "#EBF0F8"
             },
             "line": {
              "color": "white"
             }
            },
            "header": {
             "fill": {
              "color": "#C8D4E3"
             },
             "line": {
              "color": "white"
             }
            },
            "type": "table"
           }
          ]
         },
         "layout": {
          "annotationdefaults": {
           "arrowcolor": "#2a3f5f",
           "arrowhead": 0,
           "arrowwidth": 1
          },
          "autotypenumbers": "strict",
          "coloraxis": {
           "colorbar": {
            "outlinewidth": 0,
            "ticks": ""
           }
          },
          "colorscale": {
           "diverging": [
            [
             0,
             "#8e0152"
            ],
            [
             0.1,
             "#c51b7d"
            ],
            [
             0.2,
             "#de77ae"
            ],
            [
             0.3,
             "#f1b6da"
            ],
            [
             0.4,
             "#fde0ef"
            ],
            [
             0.5,
             "#f7f7f7"
            ],
            [
             0.6,
             "#e6f5d0"
            ],
            [
             0.7,
             "#b8e186"
            ],
            [
             0.8,
             "#7fbc41"
            ],
            [
             0.9,
             "#4d9221"
            ],
            [
             1,
             "#276419"
            ]
           ],
           "sequential": [
            [
             0,
             "#0d0887"
            ],
            [
             0.1111111111111111,
             "#46039f"
            ],
            [
             0.2222222222222222,
             "#7201a8"
            ],
            [
             0.3333333333333333,
             "#9c179e"
            ],
            [
             0.4444444444444444,
             "#bd3786"
            ],
            [
             0.5555555555555556,
             "#d8576b"
            ],
            [
             0.6666666666666666,
             "#ed7953"
            ],
            [
             0.7777777777777778,
             "#fb9f3a"
            ],
            [
             0.8888888888888888,
             "#fdca26"
            ],
            [
             1,
             "#f0f921"
            ]
           ],
           "sequentialminus": [
            [
             0,
             "#0d0887"
            ],
            [
             0.1111111111111111,
             "#46039f"
            ],
            [
             0.2222222222222222,
             "#7201a8"
            ],
            [
             0.3333333333333333,
             "#9c179e"
            ],
            [
             0.4444444444444444,
             "#bd3786"
            ],
            [
             0.5555555555555556,
             "#d8576b"
            ],
            [
             0.6666666666666666,
             "#ed7953"
            ],
            [
             0.7777777777777778,
             "#fb9f3a"
            ],
            [
             0.8888888888888888,
             "#fdca26"
            ],
            [
             1,
             "#f0f921"
            ]
           ]
          },
          "colorway": [
           "#636efa",
           "#EF553B",
           "#00cc96",
           "#ab63fa",
           "#FFA15A",
           "#19d3f3",
           "#FF6692",
           "#B6E880",
           "#FF97FF",
           "#FECB52"
          ],
          "font": {
           "color": "#2a3f5f"
          },
          "geo": {
           "bgcolor": "white",
           "lakecolor": "white",
           "landcolor": "#E5ECF6",
           "showlakes": true,
           "showland": true,
           "subunitcolor": "white"
          },
          "hoverlabel": {
           "align": "left"
          },
          "hovermode": "closest",
          "mapbox": {
           "style": "light"
          },
          "paper_bgcolor": "white",
          "plot_bgcolor": "#E5ECF6",
          "polar": {
           "angularaxis": {
            "gridcolor": "white",
            "linecolor": "white",
            "ticks": ""
           },
           "bgcolor": "#E5ECF6",
           "radialaxis": {
            "gridcolor": "white",
            "linecolor": "white",
            "ticks": ""
           }
          },
          "scene": {
           "xaxis": {
            "backgroundcolor": "#E5ECF6",
            "gridcolor": "white",
            "gridwidth": 2,
            "linecolor": "white",
            "showbackground": true,
            "ticks": "",
            "zerolinecolor": "white"
           },
           "yaxis": {
            "backgroundcolor": "#E5ECF6",
            "gridcolor": "white",
            "gridwidth": 2,
            "linecolor": "white",
            "showbackground": true,
            "ticks": "",
            "zerolinecolor": "white"
           },
           "zaxis": {
            "backgroundcolor": "#E5ECF6",
            "gridcolor": "white",
            "gridwidth": 2,
            "linecolor": "white",
            "showbackground": true,
            "ticks": "",
            "zerolinecolor": "white"
           }
          },
          "shapedefaults": {
           "line": {
            "color": "#2a3f5f"
           }
          },
          "ternary": {
           "aaxis": {
            "gridcolor": "white",
            "linecolor": "white",
            "ticks": ""
           },
           "baxis": {
            "gridcolor": "white",
            "linecolor": "white",
            "ticks": ""
           },
           "bgcolor": "#E5ECF6",
           "caxis": {
            "gridcolor": "white",
            "linecolor": "white",
            "ticks": ""
           }
          },
          "title": {
           "x": 0.05
          },
          "xaxis": {
           "automargin": true,
           "gridcolor": "white",
           "linecolor": "white",
           "ticks": "",
           "title": {
            "standoff": 15
           },
           "zerolinecolor": "white",
           "zerolinewidth": 2
          },
          "yaxis": {
           "automargin": true,
           "gridcolor": "white",
           "linecolor": "white",
           "ticks": "",
           "title": {
            "standoff": 15
           },
           "zerolinecolor": "white",
           "zerolinewidth": 2
          }
         }
        },
        "title": {
         "text": "Stable Stocks Avg Win vs Win Rate (Bubbles are Short MA & Long MA pairs)"
        },
        "xaxis": {
         "anchor": "y",
         "color": "white",
         "domain": [
          0,
          1
         ],
         "showgrid": false,
         "title": {
          "text": "Average Win %"
         }
        },
        "yaxis": {
         "anchor": "x",
         "color": "white",
         "domain": [
          0,
          1
         ],
         "showgrid": false,
         "title": {
          "text": "Win Rate %"
         }
        }
       }
      }
     },
     "metadata": {},
     "output_type": "display_data"
    }
   ],
   "source": [
    "# create the scatterplot with win rate and average win % by averaging out the results of the stable stocks\n",
    "win_rate_heatmap_multiple = pd.DataFrame(0, index=heatmap_table.index, columns=heatmap_table.columns)\n",
    "avg_win_heatmap_multiple = pd.DataFrame(0, index=heatmap_table.index, columns=heatmap_table.columns)\n",
    "\n",
    "for stock in multiple_stocks_test[\"Stable Stocks\"]:\n",
    "    \n",
    "    stock_info = stock_data_stable.loc[stock_data_stable[\"Stock\"] == stock]\n",
    "    win_rate_heatmap, avg_win_heatmap = rolling_periods_test(START, stock_info, YEARS, heatmap_table)\n",
    "    win_rate_heatmap_multiple += win_rate_heatmap\n",
    "    avg_win_heatmap_multiple += avg_win_heatmap\n",
    "\n",
    "win_rate_heatmap_multiple = win_rate_heatmap_multiple / len(multiple_stocks_test[\"Stable Stocks\"])\n",
    "avg_win_heatmap_multiple = avg_win_heatmap_multiple / len(multiple_stocks_test[\"Stable Stocks\"])\n",
    "\n",
    "combination_map = {\n",
    "    (row, column): {\n",
    "        'win_rate': win_rate_heatmap_multiple.loc[row, column],\n",
    "        'avg_win': avg_win_heatmap_multiple.loc[row, column]\n",
    "    }\n",
    "    for row in win_rate_heatmap_multiple.index\n",
    "    for column in win_rate_heatmap_multiple.columns\n",
    "}\n",
    "\n",
    "values = []\n",
    "for (row, column), metrics in combination_map.items():\n",
    "    values.append({\n",
    "        \"combination\" : [int(column), int(row)],\n",
    "        \"avg_win\" : metrics[\"avg_win\"],\n",
    "        \"win_rate\" : metrics[\"win_rate\"],\n",
    "        \"short MA\" : column,\n",
    "        \"long MA\" : row\n",
    "    })\n",
    "values = pd.DataFrame(values) \n",
    "\n",
    "# divide the moving average combinations into four groups according to their length\n",
    "values[\"MA pairs\"] = values.apply(assign_type, axis=1)     \n",
    "\n",
    "\n",
    "# plot the scatterplot\n",
    "fig = px.scatter(\n",
    "    values,\n",
    "    x=\"avg_win\",\n",
    "    y=\"win_rate\",\n",
    "    color=\"MA pairs\",\n",
    "    labels={'avg_win': 'Average Win %', 'win_rate': 'Win Rate %'},\n",
    "    title=\"Stable Stocks Avg Win vs Win Rate (Bubbles are Short MA & Long MA pairs)\",\n",
    "    hover_data={\n",
    "        \"short MA\": True,\n",
    "        \"long MA\": True,\n",
    "        \"MA pairs\": True,\n",
    "        \"avg_win\": ':.2f',\n",
    "        \"win_rate\": ':.2f'\n",
    "    }\n",
    "    \n",
    ")\n",
    "\n",
    "fig.update_layout(\n",
    "    plot_bgcolor='black',\n",
    "    paper_bgcolor='black',\n",
    "    font=dict(color='white'),\n",
    "    xaxis=dict(showgrid=False, color='white'),\n",
    "    yaxis=dict(showgrid=False, color='white')\n",
    "\n",
    ")\n",
    "\n",
    "fig.write_image(\"scatterplot_stable.png\")\n",
    "fig.show()\n",
    "\n",
    "\n",
    "\n"
   ]
  },
  {
   "cell_type": "markdown",
   "id": "69ee5a2b",
   "metadata": {},
   "source": [
    "![Scatterplot](scatterplot_stable.png)"
   ]
  },
  {
   "cell_type": "code",
   "execution_count": 67,
   "id": "aef2b992",
   "metadata": {},
   "outputs": [
    {
     "data": {
      "application/vnd.plotly.v1+json": {
       "config": {
        "plotlyServerURL": "https://plot.ly"
       },
       "data": [
        {
         "customdata": [
          [
           5,
           120,
           "Small-Small"
          ],
          [
           10,
           120,
           "Small-Small"
          ],
          [
           15,
           120,
           "Small-Small"
          ],
          [
           20,
           120,
           "Small-Small"
          ],
          [
           25,
           120,
           "Small-Small"
          ],
          [
           30,
           120,
           "Small-Small"
          ],
          [
           35,
           120,
           "Small-Small"
          ],
          [
           5,
           125,
           "Small-Small"
          ],
          [
           10,
           125,
           "Small-Small"
          ],
          [
           15,
           125,
           "Small-Small"
          ],
          [
           20,
           125,
           "Small-Small"
          ],
          [
           25,
           125,
           "Small-Small"
          ],
          [
           30,
           125,
           "Small-Small"
          ],
          [
           35,
           125,
           "Small-Small"
          ],
          [
           5,
           130,
           "Small-Small"
          ],
          [
           10,
           130,
           "Small-Small"
          ],
          [
           15,
           130,
           "Small-Small"
          ],
          [
           20,
           130,
           "Small-Small"
          ],
          [
           25,
           130,
           "Small-Small"
          ],
          [
           30,
           130,
           "Small-Small"
          ],
          [
           35,
           130,
           "Small-Small"
          ],
          [
           5,
           135,
           "Small-Small"
          ],
          [
           10,
           135,
           "Small-Small"
          ],
          [
           15,
           135,
           "Small-Small"
          ],
          [
           20,
           135,
           "Small-Small"
          ],
          [
           25,
           135,
           "Small-Small"
          ],
          [
           30,
           135,
           "Small-Small"
          ],
          [
           35,
           135,
           "Small-Small"
          ],
          [
           5,
           140,
           "Small-Small"
          ],
          [
           10,
           140,
           "Small-Small"
          ],
          [
           15,
           140,
           "Small-Small"
          ],
          [
           20,
           140,
           "Small-Small"
          ],
          [
           25,
           140,
           "Small-Small"
          ],
          [
           30,
           140,
           "Small-Small"
          ],
          [
           35,
           140,
           "Small-Small"
          ],
          [
           5,
           145,
           "Small-Small"
          ],
          [
           10,
           145,
           "Small-Small"
          ],
          [
           15,
           145,
           "Small-Small"
          ],
          [
           20,
           145,
           "Small-Small"
          ],
          [
           25,
           145,
           "Small-Small"
          ],
          [
           30,
           145,
           "Small-Small"
          ],
          [
           35,
           145,
           "Small-Small"
          ],
          [
           5,
           150,
           "Small-Small"
          ],
          [
           10,
           150,
           "Small-Small"
          ],
          [
           15,
           150,
           "Small-Small"
          ],
          [
           20,
           150,
           "Small-Small"
          ],
          [
           25,
           150,
           "Small-Small"
          ],
          [
           30,
           150,
           "Small-Small"
          ],
          [
           35,
           150,
           "Small-Small"
          ],
          [
           5,
           155,
           "Small-Small"
          ],
          [
           10,
           155,
           "Small-Small"
          ],
          [
           15,
           155,
           "Small-Small"
          ],
          [
           20,
           155,
           "Small-Small"
          ],
          [
           25,
           155,
           "Small-Small"
          ],
          [
           30,
           155,
           "Small-Small"
          ],
          [
           35,
           155,
           "Small-Small"
          ],
          [
           5,
           160,
           "Small-Small"
          ],
          [
           10,
           160,
           "Small-Small"
          ],
          [
           15,
           160,
           "Small-Small"
          ],
          [
           20,
           160,
           "Small-Small"
          ],
          [
           25,
           160,
           "Small-Small"
          ],
          [
           30,
           160,
           "Small-Small"
          ],
          [
           35,
           160,
           "Small-Small"
          ],
          [
           5,
           165,
           "Small-Small"
          ],
          [
           10,
           165,
           "Small-Small"
          ],
          [
           15,
           165,
           "Small-Small"
          ],
          [
           20,
           165,
           "Small-Small"
          ],
          [
           25,
           165,
           "Small-Small"
          ],
          [
           30,
           165,
           "Small-Small"
          ],
          [
           35,
           165,
           "Small-Small"
          ],
          [
           5,
           170,
           "Small-Small"
          ],
          [
           10,
           170,
           "Small-Small"
          ],
          [
           15,
           170,
           "Small-Small"
          ],
          [
           20,
           170,
           "Small-Small"
          ],
          [
           25,
           170,
           "Small-Small"
          ],
          [
           30,
           170,
           "Small-Small"
          ],
          [
           35,
           170,
           "Small-Small"
          ],
          [
           5,
           175,
           "Small-Small"
          ],
          [
           10,
           175,
           "Small-Small"
          ],
          [
           15,
           175,
           "Small-Small"
          ],
          [
           20,
           175,
           "Small-Small"
          ],
          [
           25,
           175,
           "Small-Small"
          ],
          [
           30,
           175,
           "Small-Small"
          ],
          [
           35,
           175,
           "Small-Small"
          ],
          [
           5,
           180,
           "Small-Small"
          ],
          [
           10,
           180,
           "Small-Small"
          ],
          [
           15,
           180,
           "Small-Small"
          ],
          [
           20,
           180,
           "Small-Small"
          ],
          [
           25,
           180,
           "Small-Small"
          ],
          [
           30,
           180,
           "Small-Small"
          ],
          [
           35,
           180,
           "Small-Small"
          ],
          [
           5,
           185,
           "Small-Small"
          ],
          [
           10,
           185,
           "Small-Small"
          ],
          [
           15,
           185,
           "Small-Small"
          ],
          [
           20,
           185,
           "Small-Small"
          ],
          [
           25,
           185,
           "Small-Small"
          ],
          [
           30,
           185,
           "Small-Small"
          ],
          [
           35,
           185,
           "Small-Small"
          ],
          [
           5,
           190,
           "Small-Small"
          ],
          [
           10,
           190,
           "Small-Small"
          ],
          [
           15,
           190,
           "Small-Small"
          ],
          [
           20,
           190,
           "Small-Small"
          ],
          [
           25,
           190,
           "Small-Small"
          ],
          [
           30,
           190,
           "Small-Small"
          ],
          [
           35,
           190,
           "Small-Small"
          ],
          [
           5,
           195,
           "Small-Small"
          ],
          [
           10,
           195,
           "Small-Small"
          ],
          [
           15,
           195,
           "Small-Small"
          ],
          [
           20,
           195,
           "Small-Small"
          ],
          [
           25,
           195,
           "Small-Small"
          ],
          [
           30,
           195,
           "Small-Small"
          ],
          [
           35,
           195,
           "Small-Small"
          ],
          [
           5,
           200,
           "Small-Small"
          ],
          [
           10,
           200,
           "Small-Small"
          ],
          [
           15,
           200,
           "Small-Small"
          ],
          [
           20,
           200,
           "Small-Small"
          ],
          [
           25,
           200,
           "Small-Small"
          ],
          [
           30,
           200,
           "Small-Small"
          ],
          [
           35,
           200,
           "Small-Small"
          ],
          [
           5,
           205,
           "Small-Small"
          ],
          [
           10,
           205,
           "Small-Small"
          ],
          [
           15,
           205,
           "Small-Small"
          ],
          [
           20,
           205,
           "Small-Small"
          ],
          [
           25,
           205,
           "Small-Small"
          ],
          [
           30,
           205,
           "Small-Small"
          ],
          [
           35,
           205,
           "Small-Small"
          ],
          [
           5,
           210,
           "Small-Small"
          ],
          [
           10,
           210,
           "Small-Small"
          ],
          [
           15,
           210,
           "Small-Small"
          ],
          [
           20,
           210,
           "Small-Small"
          ],
          [
           25,
           210,
           "Small-Small"
          ],
          [
           30,
           210,
           "Small-Small"
          ],
          [
           35,
           210,
           "Small-Small"
          ]
         ],
         "hovertemplate": "MA pairs=%{customdata[2]}<br>Average Win %=%{x:.2f}<br>Win Rate %=%{y:.2f}<br>short MA=%{customdata[0]}<br>long MA=%{customdata[1]}<extra></extra>",
         "legendgroup": "Small-Small",
         "marker": {
          "color": "#636efa",
          "symbol": "circle"
         },
         "mode": "markers",
         "name": "Small-Small",
         "orientation": "v",
         "showlegend": true,
         "type": "scatter",
         "x": {
          "bdata": "z1x6vvA8ZECXOscYj+lqQGphn5z2nHFAS2RsbtofdEDzsfUy3VNtQMRlreKLWnFAoGBQzv7iaUBz04lQaa9mQCxvD9o4DW1AVjBMOs7pdECv8X8c8xlzQKDb1xaSdWZA0zfQphFGZEAASrAHKl1hQPoWr7V0V2tA5ZQB/j9ccUDRLouEvDp1QLPQgK6ihGdA73PwGng3ZUCyaN3R4LVjQK4fLK+7f2BAy6a20QjebECVQxz6JChwQKaFbZ5d83JA5WZIGEfZaEAcpiBJ7wRjQGAsC0Q5IWRADs3yH5JbYkCEDv76nMJrQK212xfNTW1AM6uP3HePbECcMNpTyYhmQNH/qj2diWJA3Eib21DjY0BcDsgDe4RkQMehG5+6nWhAghLKWPzycEC+seRkJD5tQAM/htSYSmRA+7ZnjcZAZUD02B+HZLZgQK460KlYgGVAbfebi4b5Y0CUtbcnJrFxQPk1dxeUJmRAlKEVoPSmZEB1laQyqWZgQJsbByC3BWVAHPGwv+3TYUDmMcHhfG5pQL4j2hCISWtAWUAU/bzsbEAeFXVsG0NpQDzXjifWdGZAJ80bOA0/a0B8S2PTvaJmQEdIqOqtzmhApnCOuvMYbEBwMovtvTNsQK1ezCwFrWhABvVQxFKlaUCFQGtenCVpQG/UCviG+mRACZIxl1TNaUAF6I3GXM1nQBLPNWQim2xAB84TVIiJaEDUHkj8tX1pQENCVEHutmdAUY45vUixZUA8qEIeMAZpQKWiYtTWwmdAGVIohXm9aUBn8OzwkiNmQPai11YTvWdAkvZCzdBZZkAlDkrdP/VnQJKn8ZVtz2pA3vVP7KVsZ0A9k5xwpKtpQEeEcQFMEmlAzVpq/8QTaUBmAlC6NFpoQM8nBLzrOGdA3fqd7tfRaEDQdTGsCa1mQC5fW5k0LGdAq3dHBU91Z0DRRBzbUp1pQG3fm7raN2dAg5OPT0eIZ0ARmemItMZsQLPW04Ss/GdAnbSE2Wd8ZkBVvhX2NENoQIxY3lbmMWtA2pzUeefQZkDbN+yBUTJnQKLXdcN2hGpAKh0fFNMJYkB7Yc+G+ZBlQJ1+Ie4o1WVATed2wMOiakDfAFI1KIJnQI6ENJ1zO2ZAvX7/ibbHaUBZyNs889hjQHJWGiTP3WRASzkM+wqPZEAKtmaIBQFlQB6qPsJcE2ZAXX9n5MMmZkAiNrOj3stqQGFzgpDoM2VAPGBb9CJyYkD6GdB+CKJlQHx1fXnu6WVA2UTy7e0sZkCAbjimcwVnQG6zfTc4E2lA2/wWYu5XZEBpVIDghPRkQIMogUW7XWVAivYCHsPCZEBPLMHd8opkQJLLk1FHkGVAVapL8nPra0D9Qvx+LzdlQL4H9+01SWRAO1ziihZsY0BLgm/I4RtkQGAGvDapXGNAKTaZmOpYZUA=",
          "dtype": "f8"
         },
         "xaxis": "x",
         "y": {
          "bdata": "u0kMAitHSUCGz7ArQI5JQJPR27JWR0lAy+htWavjR0BVVVVVVVVHQM6FpCkVx0ZAdZMYBFYOR0C7SQwCK0dJQFK4HoXrcUhAxks3iUEASUDdJAaBleNHQL7mQtKUqkVAM3pb1uo4RkDsw2fYFYBGQLtJDAIrR0lAIT7DrgC5SEA+fIZdAXJIQIQyelvWKkhAdzBP1L/xRUC95kLSlKpFQKqqqqqqqkVAmwtJUyqOSUDOhaQpFUdJQC/dJAaBVUdAh8+wK0AOR0Dsw2fYFYBGQHYwT9S/8UVAY/S2rNXxRUBVVVVVVdVJQDJ6W9bquEhAP3yGXQFySEDeJAaBleNHQEIZvS1rVUdARbbz/dQ4RkDdJAaBlWNFQGmR7Xw/1UlAZfS2rNVxSEAw3SQGgVVHQEW28/3UuEhAl24Sg8AqSECHz7ArQA5HQD58hl0B8kVAmwtJUyqOSUBRuB6F63FIQA+fYVeAnEdA7MNn2BUASUBpke18P1VHQB8+w64AOUZAu0kMAivHRkCmDXTaQEdJQIfPsCtAjklAtqzVMcHjR0B5ME/Uv3FIQFVVVVVVVUdA2ofPsCuARkAPn2FXgBxFQO3DZ9gVAElAh8+wK0COSUAv3SQGgVVHQPxiyS+WnEdAq6qqqqqqRUB0kxgEVg5HQB8+w64AOUZAmwtJUyqOSUDOhaQpFUdJQEIZvS1rVUdAMN0kBoFVR0AQn2FXgJxHQC/dJAaBVUdAu0kMAivHRkBVVVVVVdVJQFVVVVVV1UlA3SQGgZXjR0APn2FXgJxHQN0kBoGV40dAQRm9LWtVR0Av3SQGgVVHQJduEoPAqkpAh8+wK0COSUBFtvP91LhIQA+fYVeAnEdAdZMYBFYOR0BUVVVVVVVHQDYXkqZUnEdAItv5fmocSkBzkxgEVo5JQPFgnqh/40dAjGzn+6lxSEBCGb0ta1VHQHzNhaQpVUdAi2zn+6lxSEB3ME/Uv/FKQLtJDAIrR0lAMnpb1uq4SEBFtvP91LhIQHSTGARWDkdAnAtJUyoOR0DRItv5fipIQEa28/3UOEtA////////SECXbhKDwCpIQHkwT9S/cUhAEJ9hV4CcR0DNhaQpFcdGQEW28/3UuEhARbbz/dQ4S0Bk9Las1XFIQKuqqqqqKkhAEzyYJ+r/SECbC0lTKg5HQN0kBoGV40dAEzyYJ+r/SECvR+F6FI5JQGT0tqzVcUhAD59hV4CcR0C7SQwCK0dJQInPsCtADkdAItv5fmqcR0CrqqqqqipIQES28/3UOEtAukkMAitHSUAePsOuALlIQEW28/3UuEhAqqqqqqoqSEAi2/l+apxHQOHBPFH/RklAvuZC0pSqSkAPn2FXgBxKQB4+w64AuUhAeTBP1L9xSEDwYJ6of+NHQGmR7Xw/VUdA////////SEA=",
          "dtype": "f8"
         },
         "yaxis": "y"
        },
        {
         "customdata": [
          [
           40,
           120,
           "Big-small"
          ],
          [
           45,
           120,
           "Big-small"
          ],
          [
           50,
           120,
           "Big-small"
          ],
          [
           55,
           120,
           "Big-small"
          ],
          [
           60,
           120,
           "Big-small"
          ],
          [
           65,
           120,
           "Big-small"
          ],
          [
           70,
           120,
           "Big-small"
          ],
          [
           40,
           125,
           "Big-small"
          ],
          [
           45,
           125,
           "Big-small"
          ],
          [
           50,
           125,
           "Big-small"
          ],
          [
           55,
           125,
           "Big-small"
          ],
          [
           60,
           125,
           "Big-small"
          ],
          [
           65,
           125,
           "Big-small"
          ],
          [
           70,
           125,
           "Big-small"
          ],
          [
           40,
           130,
           "Big-small"
          ],
          [
           45,
           130,
           "Big-small"
          ],
          [
           50,
           130,
           "Big-small"
          ],
          [
           55,
           130,
           "Big-small"
          ],
          [
           60,
           130,
           "Big-small"
          ],
          [
           65,
           130,
           "Big-small"
          ],
          [
           70,
           130,
           "Big-small"
          ],
          [
           40,
           135,
           "Big-small"
          ],
          [
           45,
           135,
           "Big-small"
          ],
          [
           50,
           135,
           "Big-small"
          ],
          [
           55,
           135,
           "Big-small"
          ],
          [
           60,
           135,
           "Big-small"
          ],
          [
           65,
           135,
           "Big-small"
          ],
          [
           70,
           135,
           "Big-small"
          ],
          [
           40,
           140,
           "Big-small"
          ],
          [
           45,
           140,
           "Big-small"
          ],
          [
           50,
           140,
           "Big-small"
          ],
          [
           55,
           140,
           "Big-small"
          ],
          [
           60,
           140,
           "Big-small"
          ],
          [
           65,
           140,
           "Big-small"
          ],
          [
           70,
           140,
           "Big-small"
          ],
          [
           40,
           145,
           "Big-small"
          ],
          [
           45,
           145,
           "Big-small"
          ],
          [
           50,
           145,
           "Big-small"
          ],
          [
           55,
           145,
           "Big-small"
          ],
          [
           60,
           145,
           "Big-small"
          ],
          [
           65,
           145,
           "Big-small"
          ],
          [
           70,
           145,
           "Big-small"
          ],
          [
           40,
           150,
           "Big-small"
          ],
          [
           45,
           150,
           "Big-small"
          ],
          [
           50,
           150,
           "Big-small"
          ],
          [
           55,
           150,
           "Big-small"
          ],
          [
           60,
           150,
           "Big-small"
          ],
          [
           65,
           150,
           "Big-small"
          ],
          [
           70,
           150,
           "Big-small"
          ],
          [
           40,
           155,
           "Big-small"
          ],
          [
           45,
           155,
           "Big-small"
          ],
          [
           50,
           155,
           "Big-small"
          ],
          [
           55,
           155,
           "Big-small"
          ],
          [
           60,
           155,
           "Big-small"
          ],
          [
           65,
           155,
           "Big-small"
          ],
          [
           70,
           155,
           "Big-small"
          ],
          [
           40,
           160,
           "Big-small"
          ],
          [
           45,
           160,
           "Big-small"
          ],
          [
           50,
           160,
           "Big-small"
          ],
          [
           55,
           160,
           "Big-small"
          ],
          [
           60,
           160,
           "Big-small"
          ],
          [
           65,
           160,
           "Big-small"
          ],
          [
           70,
           160,
           "Big-small"
          ],
          [
           40,
           165,
           "Big-small"
          ],
          [
           45,
           165,
           "Big-small"
          ],
          [
           50,
           165,
           "Big-small"
          ],
          [
           55,
           165,
           "Big-small"
          ],
          [
           60,
           165,
           "Big-small"
          ],
          [
           65,
           165,
           "Big-small"
          ],
          [
           70,
           165,
           "Big-small"
          ],
          [
           40,
           170,
           "Big-small"
          ],
          [
           45,
           170,
           "Big-small"
          ],
          [
           50,
           170,
           "Big-small"
          ],
          [
           55,
           170,
           "Big-small"
          ],
          [
           60,
           170,
           "Big-small"
          ],
          [
           65,
           170,
           "Big-small"
          ],
          [
           70,
           170,
           "Big-small"
          ],
          [
           40,
           175,
           "Big-small"
          ],
          [
           45,
           175,
           "Big-small"
          ],
          [
           50,
           175,
           "Big-small"
          ],
          [
           55,
           175,
           "Big-small"
          ],
          [
           60,
           175,
           "Big-small"
          ],
          [
           65,
           175,
           "Big-small"
          ],
          [
           70,
           175,
           "Big-small"
          ],
          [
           40,
           180,
           "Big-small"
          ],
          [
           45,
           180,
           "Big-small"
          ],
          [
           50,
           180,
           "Big-small"
          ],
          [
           55,
           180,
           "Big-small"
          ],
          [
           60,
           180,
           "Big-small"
          ],
          [
           65,
           180,
           "Big-small"
          ],
          [
           70,
           180,
           "Big-small"
          ],
          [
           40,
           185,
           "Big-small"
          ],
          [
           45,
           185,
           "Big-small"
          ],
          [
           50,
           185,
           "Big-small"
          ],
          [
           55,
           185,
           "Big-small"
          ],
          [
           60,
           185,
           "Big-small"
          ],
          [
           65,
           185,
           "Big-small"
          ],
          [
           70,
           185,
           "Big-small"
          ],
          [
           40,
           190,
           "Big-small"
          ],
          [
           45,
           190,
           "Big-small"
          ],
          [
           50,
           190,
           "Big-small"
          ],
          [
           55,
           190,
           "Big-small"
          ],
          [
           60,
           190,
           "Big-small"
          ],
          [
           65,
           190,
           "Big-small"
          ],
          [
           70,
           190,
           "Big-small"
          ],
          [
           40,
           195,
           "Big-small"
          ],
          [
           45,
           195,
           "Big-small"
          ],
          [
           50,
           195,
           "Big-small"
          ],
          [
           55,
           195,
           "Big-small"
          ],
          [
           60,
           195,
           "Big-small"
          ],
          [
           65,
           195,
           "Big-small"
          ],
          [
           70,
           195,
           "Big-small"
          ],
          [
           40,
           200,
           "Big-small"
          ],
          [
           45,
           200,
           "Big-small"
          ],
          [
           50,
           200,
           "Big-small"
          ],
          [
           55,
           200,
           "Big-small"
          ],
          [
           60,
           200,
           "Big-small"
          ],
          [
           65,
           200,
           "Big-small"
          ],
          [
           70,
           200,
           "Big-small"
          ],
          [
           40,
           205,
           "Big-small"
          ],
          [
           45,
           205,
           "Big-small"
          ],
          [
           50,
           205,
           "Big-small"
          ],
          [
           55,
           205,
           "Big-small"
          ],
          [
           60,
           205,
           "Big-small"
          ],
          [
           65,
           205,
           "Big-small"
          ],
          [
           70,
           205,
           "Big-small"
          ],
          [
           40,
           210,
           "Big-small"
          ],
          [
           45,
           210,
           "Big-small"
          ],
          [
           50,
           210,
           "Big-small"
          ],
          [
           55,
           210,
           "Big-small"
          ],
          [
           60,
           210,
           "Big-small"
          ],
          [
           65,
           210,
           "Big-small"
          ],
          [
           70,
           210,
           "Big-small"
          ]
         ],
         "hovertemplate": "MA pairs=%{customdata[2]}<br>Average Win %=%{x:.2f}<br>Win Rate %=%{y:.2f}<br>short MA=%{customdata[0]}<br>long MA=%{customdata[1]}<extra></extra>",
         "legendgroup": "Big-small",
         "marker": {
          "color": "#EF553B",
          "symbol": "circle"
         },
         "mode": "markers",
         "name": "Big-small",
         "orientation": "v",
         "showlegend": true,
         "type": "scatter",
         "x": {
          "bdata": "ukDuRQ+HYECdKyeMaQtaQH04VwzodF9Axqc/NuS0WECn0kgW3BxXQAYSwjPn/mBABEGN/fW3XkCKtGXJo8xaQD2rvxSjLVxALQrZmVQeW0DyImhnjwBgQIxuwPgvUVpAGWADy6E7W0AOr1ApO3VjQNGZOOPfyVlAbOIkWzMQWEDDFNgXjWteQCnfgptnPWBAJwNG13YNWUBFm6ZHtehdQE+5JCE+PGJAfW7JQE55YECDG08ZPj9gQJkR0xIo8GJAwWQ+/ZYhYUBZNhiRjG9ZQKn7oW6hZmFAPY2vVCJPYUC3lKI1/5VgQOZVq2kV5GNAx1Gw7ct8Y0CDXFUB5GZiQJIz5agjDl1AkiMh4lNKXkABtJfniUJgQM1F9fk5MmBApMFa6EbJYkDKLl2XIrVjQO1rZKqk52FA93y7DHLjYED6BpApy+phQGLeRapeymRANaZ22dsJYEBS8GSL4ptjQCarWpvMkmVAcpOR7SxWZUAKhzE2RmJeQMUCXrIrbmJAE4dii1KPYUCECHt6kLBiQJuCe4P0EmRAgfgkiALBYkAP6Q2S62VjQG5CxI2aKV5AdIZ9/8WDYUD7GffTO8BgQJmXionJ4mZAubXUpnVFZEBpHduU65djQKueBOUmcWNADTeiXPA3YkBWHWNxuJ1jQAYpMASWsV5A61+lgQP7ZkBpzNidlhxmQMRYZPP7FmZA9Rtx6b6MY0CG8eelbf1iQLxcWnIlpWBASxrSxvQHYEDDMJS1kzNoQOwzhHa/OWdAIa1o3QJBZUCAYqsC8AxmQMN6GJqVxWRAlqV4JAMjYkBw0JDABRBcQKmUOkvKM2lAECjnd2wCZUBVRucJYfVjQBt8bzPF8GRArCafQWRRY0Bx5qwoMMRiQHod7gMi811AEN/GvH9uZkCQK/8t3fpjQGrrd1PJxmVAqu2WGT5rZUCb1K75WplkQGzdFuJm5mFAnSdDXamAWUBcO8HbxtZkQIIGVINhpWVAMHOfsv0WZ0A2GQ6e6pJkQNDQKx5gr2NAWZyeIikZYUDggQj84L5bQOftQzSLN2VAVaNyT8DzZUB+tl6pHltmQNyOKDb2GmRA0VbGxtlAYkC8r3Ig0LxaQGxDTn5SS1VAcJ70pbRVZUCJygS0+FplQMmtmaU+umVAg16e+79bYkAhW2b7dk5cQEmYJ2dZxlpA9sYkTmJkWUBXf9q80TNlQBrJpwuqRWVA+kPM4DroZUB95yq8v31hQPzCchULt1tA61ZJcMsvVUC8i/xmMy5ZQCJhluCSaWRA7zbo0VlMZEBbl2JynY9kQIqUoprNM11AMQb3Y5aDVUChONapXaRXQJNdi7/VdWVA81pbcSknZEDtinTbs1RkQON/ivl4sGBAjNlazHT9XECfN5PmrJBUQJ6C+hQp4FpAi9aptyCWaUA=",
          "dtype": "f8"
         },
         "xaxis": "x",
         "y": {
          "bdata": "UbgehevxRUBCGb0ta9VEQPBgnqh/40JAEJ9hV4AcRUDOhaQpFUdEQAOdNtBpY0VA8GCeqH9jRUBDGb0ta9VEQJduEoPAqkVAaZHtfD/VREBDGb0ta9VEQAEAAAAAAERABJ020GljRUD//////39GQCA+w64AOUZArKqqqqqqRUAAAAAAAABEQP1iyS+WHEVAaZHtfD/VREBFtvP91DhGQES28/3UOEZARrbz/dQ4RkCcC0lTKo5EQN4kBoGVY0VAz4WkKRVHREB1kxgEVo5EQAAAAAAAAERARbbz/dQ4RkBm9Las1fFFQFVVVVVV1URAzoWkKRVHREAv3SQGgdVEQIfPsCtAjkRAmwtJUyoOR0Au3SQGgdVEQEa28/3UOEZAVVVVVVXVREAw3SQGgdVEQBCfYVeAHEVAVVVVVVXVREAAAAAAAIBGQAAAAAAAAERAejBP1L/xRUDeJAaBlWNFQJduEoPAqkVAZPS2rNXxRUBCGb0ta9VEQDDdJAaB1URAItv5fmocRUAzelvW6jhGQEW28/3UOEZAl24Sg8CqRUDK6G1Zq2NFQJduEoPAqkVAID7DrgA5RkBl9Las1fFFQLtJDAIrx0ZAdzBP1L/xRUDNhaQpFcdGQHSTGARWDkdAl24Sg8CqRUAQn2FXgBxFQGX0tqzV8UVAzoWkKRXHRkATPJgn6n9GQKuqqqqqqkVAAAAAAACARkBWVVVVVdVEQInPsCtADkdAu0kMAivHRkDwYJ6of+NHQL3mQtKUKkhAukkMAivHRkABAAAAAIBGQEa28/3UOEZA4cE8Uf/GRkBDGb0ta1VHQDUXkqZUnEdA4ME8Uf/GRkCJz7ArQA5HQJwLSVMqDkdAaZHtfD9VR0DxYJ6of+NHQKyqqqqqKkhAfc2FpClVR0B8zYWkKVVHQJsLSVMqDkdAVlVVVVVVR0DeJAaBleNHQN4kBoGV40dArKqqqqoqSEC/5kLSlCpIQIxs5/upcUhAfc2FpClVR0ARn2FXgJxHQCTb+X5qnEdAzoWkKRXHRkBCGb0ta1VHQL/mQtKUKkhAfM2FpClVR0CbC0lTKg5HQL/mQtKUKkhAv+ZC0pQqSEAyelvW6rhIQKuqqqqqKkhAEzyYJ+r/SEDPhaQpFcdGQN0kBoGV40dAeTBP1L9xSEBGtvP91LhIQLtJDAIrR0lA4cE8Uf9GSUBFtvP91LhIQKuqqqqqKkhAl24Sg8AqSECrqqqqqipIQB8+w64AuUhA3SQGgZXjR0BFtvP91LhIQEW28/3UuEhARrbz/dS4SEDOhaQpFUdJQOHBPFH/RklAhDJ6W9YqSEC95kLSlCpIQEW28/3UuEhAEzyYJ+r/SEDeJAaBleNHQDYXkqZUHEpA8GCeqH/jR0CrqqqqqipIQN0kBoGV40dAc5MYBFaOSUA=",
          "dtype": "f8"
         },
         "yaxis": "y"
        },
        {
         "customdata": [
          [
           5,
           215,
           "Small-Big"
          ],
          [
           10,
           215,
           "Small-Big"
          ],
          [
           15,
           215,
           "Small-Big"
          ],
          [
           20,
           215,
           "Small-Big"
          ],
          [
           25,
           215,
           "Small-Big"
          ],
          [
           30,
           215,
           "Small-Big"
          ],
          [
           35,
           215,
           "Small-Big"
          ],
          [
           5,
           220,
           "Small-Big"
          ],
          [
           10,
           220,
           "Small-Big"
          ],
          [
           15,
           220,
           "Small-Big"
          ],
          [
           20,
           220,
           "Small-Big"
          ],
          [
           25,
           220,
           "Small-Big"
          ],
          [
           30,
           220,
           "Small-Big"
          ],
          [
           35,
           220,
           "Small-Big"
          ],
          [
           5,
           225,
           "Small-Big"
          ],
          [
           10,
           225,
           "Small-Big"
          ],
          [
           15,
           225,
           "Small-Big"
          ],
          [
           20,
           225,
           "Small-Big"
          ],
          [
           25,
           225,
           "Small-Big"
          ],
          [
           30,
           225,
           "Small-Big"
          ],
          [
           35,
           225,
           "Small-Big"
          ],
          [
           5,
           230,
           "Small-Big"
          ],
          [
           10,
           230,
           "Small-Big"
          ],
          [
           15,
           230,
           "Small-Big"
          ],
          [
           20,
           230,
           "Small-Big"
          ],
          [
           25,
           230,
           "Small-Big"
          ],
          [
           30,
           230,
           "Small-Big"
          ],
          [
           35,
           230,
           "Small-Big"
          ],
          [
           5,
           235,
           "Small-Big"
          ],
          [
           10,
           235,
           "Small-Big"
          ],
          [
           15,
           235,
           "Small-Big"
          ],
          [
           20,
           235,
           "Small-Big"
          ],
          [
           25,
           235,
           "Small-Big"
          ],
          [
           30,
           235,
           "Small-Big"
          ],
          [
           35,
           235,
           "Small-Big"
          ],
          [
           5,
           240,
           "Small-Big"
          ],
          [
           10,
           240,
           "Small-Big"
          ],
          [
           15,
           240,
           "Small-Big"
          ],
          [
           20,
           240,
           "Small-Big"
          ],
          [
           25,
           240,
           "Small-Big"
          ],
          [
           30,
           240,
           "Small-Big"
          ],
          [
           35,
           240,
           "Small-Big"
          ],
          [
           5,
           245,
           "Small-Big"
          ],
          [
           10,
           245,
           "Small-Big"
          ],
          [
           15,
           245,
           "Small-Big"
          ],
          [
           20,
           245,
           "Small-Big"
          ],
          [
           25,
           245,
           "Small-Big"
          ],
          [
           30,
           245,
           "Small-Big"
          ],
          [
           35,
           245,
           "Small-Big"
          ],
          [
           5,
           250,
           "Small-Big"
          ],
          [
           10,
           250,
           "Small-Big"
          ],
          [
           15,
           250,
           "Small-Big"
          ],
          [
           20,
           250,
           "Small-Big"
          ],
          [
           25,
           250,
           "Small-Big"
          ],
          [
           30,
           250,
           "Small-Big"
          ],
          [
           35,
           250,
           "Small-Big"
          ],
          [
           5,
           255,
           "Small-Big"
          ],
          [
           10,
           255,
           "Small-Big"
          ],
          [
           15,
           255,
           "Small-Big"
          ],
          [
           20,
           255,
           "Small-Big"
          ],
          [
           25,
           255,
           "Small-Big"
          ],
          [
           30,
           255,
           "Small-Big"
          ],
          [
           35,
           255,
           "Small-Big"
          ],
          [
           5,
           260,
           "Small-Big"
          ],
          [
           10,
           260,
           "Small-Big"
          ],
          [
           15,
           260,
           "Small-Big"
          ],
          [
           20,
           260,
           "Small-Big"
          ],
          [
           25,
           260,
           "Small-Big"
          ],
          [
           30,
           260,
           "Small-Big"
          ],
          [
           35,
           260,
           "Small-Big"
          ],
          [
           5,
           265,
           "Small-Big"
          ],
          [
           10,
           265,
           "Small-Big"
          ],
          [
           15,
           265,
           "Small-Big"
          ],
          [
           20,
           265,
           "Small-Big"
          ],
          [
           25,
           265,
           "Small-Big"
          ],
          [
           30,
           265,
           "Small-Big"
          ],
          [
           35,
           265,
           "Small-Big"
          ],
          [
           5,
           270,
           "Small-Big"
          ],
          [
           10,
           270,
           "Small-Big"
          ],
          [
           15,
           270,
           "Small-Big"
          ],
          [
           20,
           270,
           "Small-Big"
          ],
          [
           25,
           270,
           "Small-Big"
          ],
          [
           30,
           270,
           "Small-Big"
          ],
          [
           35,
           270,
           "Small-Big"
          ],
          [
           5,
           275,
           "Small-Big"
          ],
          [
           10,
           275,
           "Small-Big"
          ],
          [
           15,
           275,
           "Small-Big"
          ],
          [
           20,
           275,
           "Small-Big"
          ],
          [
           25,
           275,
           "Small-Big"
          ],
          [
           30,
           275,
           "Small-Big"
          ],
          [
           35,
           275,
           "Small-Big"
          ],
          [
           5,
           280,
           "Small-Big"
          ],
          [
           10,
           280,
           "Small-Big"
          ],
          [
           15,
           280,
           "Small-Big"
          ],
          [
           20,
           280,
           "Small-Big"
          ],
          [
           25,
           280,
           "Small-Big"
          ],
          [
           30,
           280,
           "Small-Big"
          ],
          [
           35,
           280,
           "Small-Big"
          ],
          [
           5,
           285,
           "Small-Big"
          ],
          [
           10,
           285,
           "Small-Big"
          ],
          [
           15,
           285,
           "Small-Big"
          ],
          [
           20,
           285,
           "Small-Big"
          ],
          [
           25,
           285,
           "Small-Big"
          ],
          [
           30,
           285,
           "Small-Big"
          ],
          [
           35,
           285,
           "Small-Big"
          ],
          [
           5,
           290,
           "Small-Big"
          ],
          [
           10,
           290,
           "Small-Big"
          ],
          [
           15,
           290,
           "Small-Big"
          ],
          [
           20,
           290,
           "Small-Big"
          ],
          [
           25,
           290,
           "Small-Big"
          ],
          [
           30,
           290,
           "Small-Big"
          ],
          [
           35,
           290,
           "Small-Big"
          ],
          [
           5,
           295,
           "Small-Big"
          ],
          [
           10,
           295,
           "Small-Big"
          ],
          [
           15,
           295,
           "Small-Big"
          ],
          [
           20,
           295,
           "Small-Big"
          ],
          [
           25,
           295,
           "Small-Big"
          ],
          [
           30,
           295,
           "Small-Big"
          ],
          [
           35,
           295,
           "Small-Big"
          ],
          [
           5,
           300,
           "Small-Big"
          ],
          [
           10,
           300,
           "Small-Big"
          ],
          [
           15,
           300,
           "Small-Big"
          ],
          [
           20,
           300,
           "Small-Big"
          ],
          [
           25,
           300,
           "Small-Big"
          ],
          [
           30,
           300,
           "Small-Big"
          ],
          [
           35,
           300,
           "Small-Big"
          ]
         ],
         "hovertemplate": "MA pairs=%{customdata[2]}<br>Average Win %=%{x:.2f}<br>Win Rate %=%{y:.2f}<br>short MA=%{customdata[0]}<br>long MA=%{customdata[1]}<extra></extra>",
         "legendgroup": "Small-Big",
         "marker": {
          "color": "#00cc96",
          "symbol": "circle"
         },
         "mode": "markers",
         "name": "Small-Big",
         "orientation": "v",
         "showlegend": true,
         "type": "scatter",
         "x": {
          "bdata": "ZqUG7V9fakATJu1krrlmQLAorIzd/mVA4oghfWs4Y0CmB0KOWI5gQPLT+vhwBGFAkDM2HeNWZEA1XqKLQpxmQEZrh/ggdmtAHapgbfvJZED5HFWlqEJfQEsN9FP2K2BAnqaED0QjYUCMgUd/lLJgQGTrjoGqM2hA50QLPvCta0Cfssw6OGxjQNxVWxvWo2BAMERU1JNUWUDin/lRM6xaQGeBVWjtCFpAq9HekNL3Z0CEBfikOQtrQO9FCT1p+2VAwKE8FOW8YkDWnyUkH7NfQJ54spsz3FxAStZQB49HW0Ch1p52rxtmQAPhFTDOx2pAQu89gMkdZUCjD/SF76NjQKGw4xaj9WJAJsjJqvcsXUDmeOSCqctXQHmbNc6WkWRAebOhS2r1ZEA0nxGHmlRgQEnPmHQeb2FAWXM9Tq9IYkAahjSnbcZgQEn76cUAplxAMfSDetAFaUCQLkmbTrRjQIZ0pt0dgGFAHnrg68dnYkD5gqaX/y9fQHMOyUvNt1xA804SogGBWUDxjAr5zdRoQGf9fKESMGJA5vnGXZejWEDKNT3dUytVQPtkiiGP+mBAqbl+Rwg7W0B0mCcBkiZVQONfP6TqwGZA/otqJ1kdXEDtxt4DyEpUQERfUxuTaVlA+kEVn6oOYUA8QZtG4EhbQAWGxtExu1hA5ZtNiIMEaEDW9QzYhXJkQI+tgtsgTVVAkVZAXjRGWUCEwqCbt7deQDbCSbMc31pA/bDu6SK+WUC2CztDoU5lQIwwnk0In2BAOVfm3iwsWUDjCH7uQ/9ZQDC+elv0EF5ANQ9zXYyrXkC3KibOmBJcQPSw3XbkAGVAXPoZDoV0Y0BW17mFavJhQJJ+I2ucRFxAZXXw/ZR5XUAaFk2c/NdfQLsKZaEu8VdAk1wDYJyJX0DmEnF5axZiQHONDabo8WJAu2uHcpvkXkD3gFYtibVcQCTewTib1V1As016wxbqWEDdmjlpIThgQKUW95MWR2BAyzl4HgPAYkB/JalSSstgQHzTKNMD1VtAmijJYfaxW0CvHFoMrjJXQHxVtir5GGBAXL5AUvAQXkB24BetmOxgQOFoqVqPJGJAoB8xq4lxXUCapHF1KYRbQBYkzWLWxldAuh5ah3txYkB5Dj8iDWBcQH6Skedgl2BATL+GTiT1YUDlAvFZTQJeQGLBUDw0N1lAGyH4EIhBVkBm22go/qhiQFuomN/caF5AzkeSN1hzYEBKd9rP95hhQLyXB6YyoFtAWtfm9RXPWED2zzdV34lWQH1d/hxLDGNAEMC6BzDXXUBKa2gdKKtgQANVG2jOh2FA5480aEfFW0DTH2jconVYQIwbw8v42FVA",
          "dtype": "f8"
         },
         "xaxis": "x",
         "y": {
          "bdata": "q6qqqqqqSkBCGb0ta9VJQDN6W9bquEhAlm4Sg8AqSEDwYJ6of+NHQN0kBoGV40dAzYWkKRVHSUCXbhKDwKpKQBCfYVeAHEpAukkMAitHSUDsw2fYFQBJQHcwT9S/cUhAdzBP1L9xSECbC0lTKo5JQKuqqqqqqkpAu0kMAitHSUCcC0lTKo5JQIfPsCtAjklAQhm9LWtVR0ATPJgn6v9IQJsLSVMqjklAl24Sg8CqSkBCGb0ta9VJQFRVVVVV1UlA7cNn2BUASUC2rNUxweNHQIbPsCtAjklA////////SEB5ME/Uv/FKQCPb+X5qHEpAM3pb1uo4S0D///////9IQO3DZ9gVAElAAAAAAAAASUB5ME/Uv3FIQGX0tqzV8UpAyuhtWatjSkCXbhKDwKpKQGT0tqzVcUhAZPS2rNVxSEBGtvP91LhIQIMyelvWKkhAq6qqqqqqSkAQn2FXgBxKQA+fYVeAHEpAHz7DrgC5SEBBGb0ta1VHQHkwT9S/cUhA3iQGgZXjR0D9YskvlhxKQN0kBoGVY0pAEJ9hV4AcSkAAAAAAAABJQEW28/3UuEhA8mCeqH/jR0DdJAaBleNHQJduEoPAqkpA/WLJL5YcSkCEMnpb1ipIQNqHz7ArAElAlm4Sg8AqSEBSuB6F63FIQA+fYVeAnEdAM3pb1uo4S0BCGb0ta9VJQO3DZ9gVAElAUbgehetxSEAyelvW6rhIQKyqqqqqKkhAeTBP1L9xSEAQn2FXgBxKQO3DZ9gVAElAhDJ6W9YqSEBl9Las1XFIQN0kBoGV40dA0iLb+X4qSEAu3SQGgVVHQEIZvS1r1UlAhDJ6W9YqSEBhV4Dcaw5HQFG4HoXr8UVAQxm9LWtVR0DgwTxR/8ZGQEEZvS1rVUdAHz7DrgC5SEC2rNUxweNHQC7dJAaBVUdA7sNn2BWARkC+5kLSlCpIQIfPsCtADkdAic+wK0AOR0CEMnpb1ipIQFK4HoXrcUhAMN0kBoFVR0DJ6G1Zq+NHQHcwT9S/cUhA8WCeqH/jR0APn2FXgJxHQB8+w64AuUhA3iQGgZXjR0CnDXTaQMdGQMrobVmr40dA0CLb+X4qSECuR+F6FA5HQA+fYVeAnEdAl24Sg8AqSEAi2/l+apxHQKcNdNpAx0ZAu0kMAivHRkC6SQwCK0dJQKqqqqqqKkhAItv5fmqcR0DK6G1Zq+NHQP5iyS+WnEdAD59hV4CcR0AQn2FXgJxHQJoLSVMqjklAqqqqqqoqSEAPn2FXgJxHQJduEoPAKkhA3iQGgZXjR0BCGb0ta1VHQHWTGARWDkdARLbz/dS4SECqqqqqqipIQDUXkqZUnEdA",
          "dtype": "f8"
         },
         "yaxis": "y"
        },
        {
         "customdata": [
          [
           40,
           215,
           "Big-Big"
          ],
          [
           45,
           215,
           "Big-Big"
          ],
          [
           50,
           215,
           "Big-Big"
          ],
          [
           55,
           215,
           "Big-Big"
          ],
          [
           60,
           215,
           "Big-Big"
          ],
          [
           65,
           215,
           "Big-Big"
          ],
          [
           70,
           215,
           "Big-Big"
          ],
          [
           40,
           220,
           "Big-Big"
          ],
          [
           45,
           220,
           "Big-Big"
          ],
          [
           50,
           220,
           "Big-Big"
          ],
          [
           55,
           220,
           "Big-Big"
          ],
          [
           60,
           220,
           "Big-Big"
          ],
          [
           65,
           220,
           "Big-Big"
          ],
          [
           70,
           220,
           "Big-Big"
          ],
          [
           40,
           225,
           "Big-Big"
          ],
          [
           45,
           225,
           "Big-Big"
          ],
          [
           50,
           225,
           "Big-Big"
          ],
          [
           55,
           225,
           "Big-Big"
          ],
          [
           60,
           225,
           "Big-Big"
          ],
          [
           65,
           225,
           "Big-Big"
          ],
          [
           70,
           225,
           "Big-Big"
          ],
          [
           40,
           230,
           "Big-Big"
          ],
          [
           45,
           230,
           "Big-Big"
          ],
          [
           50,
           230,
           "Big-Big"
          ],
          [
           55,
           230,
           "Big-Big"
          ],
          [
           60,
           230,
           "Big-Big"
          ],
          [
           65,
           230,
           "Big-Big"
          ],
          [
           70,
           230,
           "Big-Big"
          ],
          [
           40,
           235,
           "Big-Big"
          ],
          [
           45,
           235,
           "Big-Big"
          ],
          [
           50,
           235,
           "Big-Big"
          ],
          [
           55,
           235,
           "Big-Big"
          ],
          [
           60,
           235,
           "Big-Big"
          ],
          [
           65,
           235,
           "Big-Big"
          ],
          [
           70,
           235,
           "Big-Big"
          ],
          [
           40,
           240,
           "Big-Big"
          ],
          [
           45,
           240,
           "Big-Big"
          ],
          [
           50,
           240,
           "Big-Big"
          ],
          [
           55,
           240,
           "Big-Big"
          ],
          [
           60,
           240,
           "Big-Big"
          ],
          [
           65,
           240,
           "Big-Big"
          ],
          [
           70,
           240,
           "Big-Big"
          ],
          [
           40,
           245,
           "Big-Big"
          ],
          [
           45,
           245,
           "Big-Big"
          ],
          [
           50,
           245,
           "Big-Big"
          ],
          [
           55,
           245,
           "Big-Big"
          ],
          [
           60,
           245,
           "Big-Big"
          ],
          [
           65,
           245,
           "Big-Big"
          ],
          [
           70,
           245,
           "Big-Big"
          ],
          [
           40,
           250,
           "Big-Big"
          ],
          [
           45,
           250,
           "Big-Big"
          ],
          [
           50,
           250,
           "Big-Big"
          ],
          [
           55,
           250,
           "Big-Big"
          ],
          [
           60,
           250,
           "Big-Big"
          ],
          [
           65,
           250,
           "Big-Big"
          ],
          [
           70,
           250,
           "Big-Big"
          ],
          [
           40,
           255,
           "Big-Big"
          ],
          [
           45,
           255,
           "Big-Big"
          ],
          [
           50,
           255,
           "Big-Big"
          ],
          [
           55,
           255,
           "Big-Big"
          ],
          [
           60,
           255,
           "Big-Big"
          ],
          [
           65,
           255,
           "Big-Big"
          ],
          [
           70,
           255,
           "Big-Big"
          ],
          [
           40,
           260,
           "Big-Big"
          ],
          [
           45,
           260,
           "Big-Big"
          ],
          [
           50,
           260,
           "Big-Big"
          ],
          [
           55,
           260,
           "Big-Big"
          ],
          [
           60,
           260,
           "Big-Big"
          ],
          [
           65,
           260,
           "Big-Big"
          ],
          [
           70,
           260,
           "Big-Big"
          ],
          [
           40,
           265,
           "Big-Big"
          ],
          [
           45,
           265,
           "Big-Big"
          ],
          [
           50,
           265,
           "Big-Big"
          ],
          [
           55,
           265,
           "Big-Big"
          ],
          [
           60,
           265,
           "Big-Big"
          ],
          [
           65,
           265,
           "Big-Big"
          ],
          [
           70,
           265,
           "Big-Big"
          ],
          [
           40,
           270,
           "Big-Big"
          ],
          [
           45,
           270,
           "Big-Big"
          ],
          [
           50,
           270,
           "Big-Big"
          ],
          [
           55,
           270,
           "Big-Big"
          ],
          [
           60,
           270,
           "Big-Big"
          ],
          [
           65,
           270,
           "Big-Big"
          ],
          [
           70,
           270,
           "Big-Big"
          ],
          [
           40,
           275,
           "Big-Big"
          ],
          [
           45,
           275,
           "Big-Big"
          ],
          [
           50,
           275,
           "Big-Big"
          ],
          [
           55,
           275,
           "Big-Big"
          ],
          [
           60,
           275,
           "Big-Big"
          ],
          [
           65,
           275,
           "Big-Big"
          ],
          [
           70,
           275,
           "Big-Big"
          ],
          [
           40,
           280,
           "Big-Big"
          ],
          [
           45,
           280,
           "Big-Big"
          ],
          [
           50,
           280,
           "Big-Big"
          ],
          [
           55,
           280,
           "Big-Big"
          ],
          [
           60,
           280,
           "Big-Big"
          ],
          [
           65,
           280,
           "Big-Big"
          ],
          [
           70,
           280,
           "Big-Big"
          ],
          [
           40,
           285,
           "Big-Big"
          ],
          [
           45,
           285,
           "Big-Big"
          ],
          [
           50,
           285,
           "Big-Big"
          ],
          [
           55,
           285,
           "Big-Big"
          ],
          [
           60,
           285,
           "Big-Big"
          ],
          [
           65,
           285,
           "Big-Big"
          ],
          [
           70,
           285,
           "Big-Big"
          ],
          [
           40,
           290,
           "Big-Big"
          ],
          [
           45,
           290,
           "Big-Big"
          ],
          [
           50,
           290,
           "Big-Big"
          ],
          [
           55,
           290,
           "Big-Big"
          ],
          [
           60,
           290,
           "Big-Big"
          ],
          [
           65,
           290,
           "Big-Big"
          ],
          [
           70,
           290,
           "Big-Big"
          ],
          [
           40,
           295,
           "Big-Big"
          ],
          [
           45,
           295,
           "Big-Big"
          ],
          [
           50,
           295,
           "Big-Big"
          ],
          [
           55,
           295,
           "Big-Big"
          ],
          [
           60,
           295,
           "Big-Big"
          ],
          [
           65,
           295,
           "Big-Big"
          ],
          [
           70,
           295,
           "Big-Big"
          ],
          [
           40,
           300,
           "Big-Big"
          ],
          [
           45,
           300,
           "Big-Big"
          ],
          [
           50,
           300,
           "Big-Big"
          ],
          [
           55,
           300,
           "Big-Big"
          ],
          [
           60,
           300,
           "Big-Big"
          ],
          [
           65,
           300,
           "Big-Big"
          ],
          [
           70,
           300,
           "Big-Big"
          ]
         ],
         "hovertemplate": "MA pairs=%{customdata[2]}<br>Average Win %=%{x:.2f}<br>Win Rate %=%{y:.2f}<br>short MA=%{customdata[0]}<br>long MA=%{customdata[1]}<extra></extra>",
         "legendgroup": "Big-Big",
         "marker": {
          "color": "#ab63fa",
          "symbol": "circle"
         },
         "mode": "markers",
         "name": "Big-Big",
         "orientation": "v",
         "showlegend": true,
         "type": "scatter",
         "x": {
          "bdata": "4gL4pyj0YkCbC07cfVhhQB4nILoT/FxAdOj3rV9jYEDRatTPG91ZQDF0kUX/d2BAu7ooxpNdZ0ADQ4xQT+lgQBtelUC68WJAQA/bFTaxVUBwS7AzhZVfQB5zMU9GsltAPuVuZ1HLY0B6I0eNW1dlQKeKcVO5WWBAqx4/KIybW0BSWDku1+lZQPpwQ2EEQFxAobeug+HwYkAvYsZbACBiQHHJ6ZiMF2RA7eLXYB/uW0A04QO3mCdfQG1E1xZzL1dAnAh08409YECugLxdi5FoQKazKcn/V2FA9KFLELKvYkAigJum0w1aQConc9fsrFpAHNtudeIsW0DJQat/A6FgQIL97cO6y2dA2iJTMuNcYEDVUMlvsZFfQBcm1Dnz8FZAykY+2aBTX0DbzomnirRdQEDNk4EyWmNAyireXAKHZECvFVcd+ZpdQFw5ZO5VLVxAmc2DXS3yVkBqRSvQCi9gQKwMgWtdDl5AIayISWS+YEBLtmVIrXJeQCeaR6OwUFtAKwSFKd4VXkBBrCDpl5hbQLeGCwIQGGJArhr9WbB6YUDunCaiFdpYQHcJ7Bki1F1AwJJzsTtDX0AIaKI2sGdgQBP0qxYEv1pA//d4FPgNYEDvPS8wEvddQB46GjxeGFpA5I+J3rmjYED85IEMsBZhQGBvksvTfF9AApRZ+ZnNXEAxyy6eBTZbQJxC/tOt919AooDmGiBaWUCSSzxaBcthQK5WPT9s9V9AcybZRsJBYECrVDNHIa1YQCoJM0lmLFpA5npbOU1UXUCTKFFpOwhcQB92sAm1BGJAftGN+HQkX0ClukDffzxgQKc2A5ZdtVdAZogTaoViWEBjSKeNj/ZbQL2v/D3+WFxAd7om4/ZmYkDjnqkqXHNgQD61zOHyql1AzVuoU0EeV0DP4qkZBFVgQFrL4zjGxmFAawlzrJVbWkAhwE5MAqhgQCmNpi0NO15ApqKY36rQXUAM65AlRxxXQMSEeQiSjWFA43k0RC/2YEDZ7Z8woxhdQHXAWuy6bF9AE/HAyvHGXkBULrNN2cJaQLUPzsaYX1pAjsuq/3m1YUApRqXvmRZhQPNU9XqsHGBAfYCpHicnYEAdnPpIdUdgQLwqynIwPFtAXpJefQUUWkCn3aWtHs9iQM5oU36zw2FAiZCVPgq7XUDpgusOTGJfQIwxQqghUF9A118iU7JpW0CzocsK8i9gQDAmbybPr2RAzfbjH2CRZED6BgDJcohdQGTp2/uWiV5A1chRxP61WUDwwG7e6tNbQG2aZXLz1GFAeScZS9ARZ0Dql1giIyZgQFz4zjEGh19A5wn8HqURXEBlI8/U3XtYQAFnAacW51pA",
          "dtype": "f8"
         },
         "xaxis": "x",
         "y": {
          "bdata": "////////SEB5ME/Uv3FIQASdNtBpY0pAmwtJUyqOSUBFtvP91LhIQDJ6W9bquEhAD59hV4AcSkD///////9IQM2FpCkVR0lAic+wK0COSUBpke18P9VJQODBPFH/RklAzYWkKRVHSUAu3SQGgdVJQIbPsCtAjklAfM2FpCnVSUCMbOf7qXFIQJoLSVMqjklA////////SEB2ME/Uv3FIQC/dJAaB1UlAZ5HtfD/VSUBpke18P9VJQBM8mCfq/0hAhs+wK0COSUDsw2fYFQBJQB8+w64AuUhAdJMYBFaOSUATPJgn6v9IQLpJDAIrR0lAdzBP1L9xSEC6SQwCK0dJQHcwT9S/cUhAdJMYBFaOSUDsw2fYFQBJQOLBPFH/RklAAQAAAAAASUA1F5KmVJxHQGT0tqzVcUhAqqqqqqoqSEBk9Las1XFIQHOTGARWjklAeTBP1L9xSEABAAAAAABJQKqqqqqqKkhAMnpb1uq4SEB0kxgEVo5JQO3DZ9gVAElAc5MYBFaOSUDxYJ6of+NHQEa28/3UuEhAItv5fmqcR0D///////9IQA+fYVeAHEpAQRm9LWvVSUCqqqqqqipIQBCfYVeAnEdAzoWkKRVHSUB2ME/Uv3FIQEW28/3UuEhAVFVVVVXVSUAOn2FXgBxKQLpJDAIrR0lAic+wK0AOR0C7SQwCK0dJQNwkBoGV40dAQRm9LWvVSUBBGb0ta9VJQHcwT9S/8UpAD59hV4AcSkAi2/l+apxHQLlJDAIrR0lAItv5fmqcR0B0kxgEVo5JQIbPsCtAjklA3CQGgZVjSkCmDXTaQEdJQCPb+X5qnEdAZPS2rNVxSEDNhaQpFUdJQEEZvS1r1UlAhs+wK0COSUAPn2FXgBxKQLas1THBY0pAZfS2rNVxSECXbhKDwCpIQJduEoPAqkpAyuhtWatjSkAePsOuALlIQC/dJAaB1UlAyuhtWatjSkDdJAaBleNHQB4+w64AuUhAlm4Sg8CqSkAOn2FXgBxKQLtJDAIrR0lAh8+wK0COSUBm9Las1XFIQGT0tqzVcUhAukkMAitHSUBzkxgEVo5JQEEZvS1r1UlAq6qqqqoqSEBa8oslv7hIQPFgnqh/40dAHz7DrgC5SEBRuB6F63FIQDN6W9bquEhAMnpb1uq4SEATPJgn6v9IQHkwT9S/cUhArKqqqqoqSEBk9Las1XFIQGT0tqzVcUhAhDJ6W9YqSEDK6G1Zq+NHQGX0tqzVcUhARrbz/dS4SEAfPsOuALlIQIQyelvWKkhAlm4Sg8AqSEAPn2FXgJxHQP///////0hAAAAAAAAASUCrqqqqqipIQGX0tqzVcUhA",
          "dtype": "f8"
         },
         "yaxis": "y"
        }
       ],
       "layout": {
        "font": {
         "color": "white"
        },
        "legend": {
         "title": {
          "text": "MA pairs"
         },
         "tracegroupgap": 0
        },
        "paper_bgcolor": "black",
        "plot_bgcolor": "black",
        "template": {
         "data": {
          "bar": [
           {
            "error_x": {
             "color": "#2a3f5f"
            },
            "error_y": {
             "color": "#2a3f5f"
            },
            "marker": {
             "line": {
              "color": "#E5ECF6",
              "width": 0.5
             },
             "pattern": {
              "fillmode": "overlay",
              "size": 10,
              "solidity": 0.2
             }
            },
            "type": "bar"
           }
          ],
          "barpolar": [
           {
            "marker": {
             "line": {
              "color": "#E5ECF6",
              "width": 0.5
             },
             "pattern": {
              "fillmode": "overlay",
              "size": 10,
              "solidity": 0.2
             }
            },
            "type": "barpolar"
           }
          ],
          "carpet": [
           {
            "aaxis": {
             "endlinecolor": "#2a3f5f",
             "gridcolor": "white",
             "linecolor": "white",
             "minorgridcolor": "white",
             "startlinecolor": "#2a3f5f"
            },
            "baxis": {
             "endlinecolor": "#2a3f5f",
             "gridcolor": "white",
             "linecolor": "white",
             "minorgridcolor": "white",
             "startlinecolor": "#2a3f5f"
            },
            "type": "carpet"
           }
          ],
          "choropleth": [
           {
            "colorbar": {
             "outlinewidth": 0,
             "ticks": ""
            },
            "type": "choropleth"
           }
          ],
          "contour": [
           {
            "colorbar": {
             "outlinewidth": 0,
             "ticks": ""
            },
            "colorscale": [
             [
              0,
              "#0d0887"
             ],
             [
              0.1111111111111111,
              "#46039f"
             ],
             [
              0.2222222222222222,
              "#7201a8"
             ],
             [
              0.3333333333333333,
              "#9c179e"
             ],
             [
              0.4444444444444444,
              "#bd3786"
             ],
             [
              0.5555555555555556,
              "#d8576b"
             ],
             [
              0.6666666666666666,
              "#ed7953"
             ],
             [
              0.7777777777777778,
              "#fb9f3a"
             ],
             [
              0.8888888888888888,
              "#fdca26"
             ],
             [
              1,
              "#f0f921"
             ]
            ],
            "type": "contour"
           }
          ],
          "contourcarpet": [
           {
            "colorbar": {
             "outlinewidth": 0,
             "ticks": ""
            },
            "type": "contourcarpet"
           }
          ],
          "heatmap": [
           {
            "colorbar": {
             "outlinewidth": 0,
             "ticks": ""
            },
            "colorscale": [
             [
              0,
              "#0d0887"
             ],
             [
              0.1111111111111111,
              "#46039f"
             ],
             [
              0.2222222222222222,
              "#7201a8"
             ],
             [
              0.3333333333333333,
              "#9c179e"
             ],
             [
              0.4444444444444444,
              "#bd3786"
             ],
             [
              0.5555555555555556,
              "#d8576b"
             ],
             [
              0.6666666666666666,
              "#ed7953"
             ],
             [
              0.7777777777777778,
              "#fb9f3a"
             ],
             [
              0.8888888888888888,
              "#fdca26"
             ],
             [
              1,
              "#f0f921"
             ]
            ],
            "type": "heatmap"
           }
          ],
          "histogram": [
           {
            "marker": {
             "pattern": {
              "fillmode": "overlay",
              "size": 10,
              "solidity": 0.2
             }
            },
            "type": "histogram"
           }
          ],
          "histogram2d": [
           {
            "colorbar": {
             "outlinewidth": 0,
             "ticks": ""
            },
            "colorscale": [
             [
              0,
              "#0d0887"
             ],
             [
              0.1111111111111111,
              "#46039f"
             ],
             [
              0.2222222222222222,
              "#7201a8"
             ],
             [
              0.3333333333333333,
              "#9c179e"
             ],
             [
              0.4444444444444444,
              "#bd3786"
             ],
             [
              0.5555555555555556,
              "#d8576b"
             ],
             [
              0.6666666666666666,
              "#ed7953"
             ],
             [
              0.7777777777777778,
              "#fb9f3a"
             ],
             [
              0.8888888888888888,
              "#fdca26"
             ],
             [
              1,
              "#f0f921"
             ]
            ],
            "type": "histogram2d"
           }
          ],
          "histogram2dcontour": [
           {
            "colorbar": {
             "outlinewidth": 0,
             "ticks": ""
            },
            "colorscale": [
             [
              0,
              "#0d0887"
             ],
             [
              0.1111111111111111,
              "#46039f"
             ],
             [
              0.2222222222222222,
              "#7201a8"
             ],
             [
              0.3333333333333333,
              "#9c179e"
             ],
             [
              0.4444444444444444,
              "#bd3786"
             ],
             [
              0.5555555555555556,
              "#d8576b"
             ],
             [
              0.6666666666666666,
              "#ed7953"
             ],
             [
              0.7777777777777778,
              "#fb9f3a"
             ],
             [
              0.8888888888888888,
              "#fdca26"
             ],
             [
              1,
              "#f0f921"
             ]
            ],
            "type": "histogram2dcontour"
           }
          ],
          "mesh3d": [
           {
            "colorbar": {
             "outlinewidth": 0,
             "ticks": ""
            },
            "type": "mesh3d"
           }
          ],
          "parcoords": [
           {
            "line": {
             "colorbar": {
              "outlinewidth": 0,
              "ticks": ""
             }
            },
            "type": "parcoords"
           }
          ],
          "pie": [
           {
            "automargin": true,
            "type": "pie"
           }
          ],
          "scatter": [
           {
            "fillpattern": {
             "fillmode": "overlay",
             "size": 10,
             "solidity": 0.2
            },
            "type": "scatter"
           }
          ],
          "scatter3d": [
           {
            "line": {
             "colorbar": {
              "outlinewidth": 0,
              "ticks": ""
             }
            },
            "marker": {
             "colorbar": {
              "outlinewidth": 0,
              "ticks": ""
             }
            },
            "type": "scatter3d"
           }
          ],
          "scattercarpet": [
           {
            "marker": {
             "colorbar": {
              "outlinewidth": 0,
              "ticks": ""
             }
            },
            "type": "scattercarpet"
           }
          ],
          "scattergeo": [
           {
            "marker": {
             "colorbar": {
              "outlinewidth": 0,
              "ticks": ""
             }
            },
            "type": "scattergeo"
           }
          ],
          "scattergl": [
           {
            "marker": {
             "colorbar": {
              "outlinewidth": 0,
              "ticks": ""
             }
            },
            "type": "scattergl"
           }
          ],
          "scattermap": [
           {
            "marker": {
             "colorbar": {
              "outlinewidth": 0,
              "ticks": ""
             }
            },
            "type": "scattermap"
           }
          ],
          "scattermapbox": [
           {
            "marker": {
             "colorbar": {
              "outlinewidth": 0,
              "ticks": ""
             }
            },
            "type": "scattermapbox"
           }
          ],
          "scatterpolar": [
           {
            "marker": {
             "colorbar": {
              "outlinewidth": 0,
              "ticks": ""
             }
            },
            "type": "scatterpolar"
           }
          ],
          "scatterpolargl": [
           {
            "marker": {
             "colorbar": {
              "outlinewidth": 0,
              "ticks": ""
             }
            },
            "type": "scatterpolargl"
           }
          ],
          "scatterternary": [
           {
            "marker": {
             "colorbar": {
              "outlinewidth": 0,
              "ticks": ""
             }
            },
            "type": "scatterternary"
           }
          ],
          "surface": [
           {
            "colorbar": {
             "outlinewidth": 0,
             "ticks": ""
            },
            "colorscale": [
             [
              0,
              "#0d0887"
             ],
             [
              0.1111111111111111,
              "#46039f"
             ],
             [
              0.2222222222222222,
              "#7201a8"
             ],
             [
              0.3333333333333333,
              "#9c179e"
             ],
             [
              0.4444444444444444,
              "#bd3786"
             ],
             [
              0.5555555555555556,
              "#d8576b"
             ],
             [
              0.6666666666666666,
              "#ed7953"
             ],
             [
              0.7777777777777778,
              "#fb9f3a"
             ],
             [
              0.8888888888888888,
              "#fdca26"
             ],
             [
              1,
              "#f0f921"
             ]
            ],
            "type": "surface"
           }
          ],
          "table": [
           {
            "cells": {
             "fill": {
              "color": "#EBF0F8"
             },
             "line": {
              "color": "white"
             }
            },
            "header": {
             "fill": {
              "color": "#C8D4E3"
             },
             "line": {
              "color": "white"
             }
            },
            "type": "table"
           }
          ]
         },
         "layout": {
          "annotationdefaults": {
           "arrowcolor": "#2a3f5f",
           "arrowhead": 0,
           "arrowwidth": 1
          },
          "autotypenumbers": "strict",
          "coloraxis": {
           "colorbar": {
            "outlinewidth": 0,
            "ticks": ""
           }
          },
          "colorscale": {
           "diverging": [
            [
             0,
             "#8e0152"
            ],
            [
             0.1,
             "#c51b7d"
            ],
            [
             0.2,
             "#de77ae"
            ],
            [
             0.3,
             "#f1b6da"
            ],
            [
             0.4,
             "#fde0ef"
            ],
            [
             0.5,
             "#f7f7f7"
            ],
            [
             0.6,
             "#e6f5d0"
            ],
            [
             0.7,
             "#b8e186"
            ],
            [
             0.8,
             "#7fbc41"
            ],
            [
             0.9,
             "#4d9221"
            ],
            [
             1,
             "#276419"
            ]
           ],
           "sequential": [
            [
             0,
             "#0d0887"
            ],
            [
             0.1111111111111111,
             "#46039f"
            ],
            [
             0.2222222222222222,
             "#7201a8"
            ],
            [
             0.3333333333333333,
             "#9c179e"
            ],
            [
             0.4444444444444444,
             "#bd3786"
            ],
            [
             0.5555555555555556,
             "#d8576b"
            ],
            [
             0.6666666666666666,
             "#ed7953"
            ],
            [
             0.7777777777777778,
             "#fb9f3a"
            ],
            [
             0.8888888888888888,
             "#fdca26"
            ],
            [
             1,
             "#f0f921"
            ]
           ],
           "sequentialminus": [
            [
             0,
             "#0d0887"
            ],
            [
             0.1111111111111111,
             "#46039f"
            ],
            [
             0.2222222222222222,
             "#7201a8"
            ],
            [
             0.3333333333333333,
             "#9c179e"
            ],
            [
             0.4444444444444444,
             "#bd3786"
            ],
            [
             0.5555555555555556,
             "#d8576b"
            ],
            [
             0.6666666666666666,
             "#ed7953"
            ],
            [
             0.7777777777777778,
             "#fb9f3a"
            ],
            [
             0.8888888888888888,
             "#fdca26"
            ],
            [
             1,
             "#f0f921"
            ]
           ]
          },
          "colorway": [
           "#636efa",
           "#EF553B",
           "#00cc96",
           "#ab63fa",
           "#FFA15A",
           "#19d3f3",
           "#FF6692",
           "#B6E880",
           "#FF97FF",
           "#FECB52"
          ],
          "font": {
           "color": "#2a3f5f"
          },
          "geo": {
           "bgcolor": "white",
           "lakecolor": "white",
           "landcolor": "#E5ECF6",
           "showlakes": true,
           "showland": true,
           "subunitcolor": "white"
          },
          "hoverlabel": {
           "align": "left"
          },
          "hovermode": "closest",
          "mapbox": {
           "style": "light"
          },
          "paper_bgcolor": "white",
          "plot_bgcolor": "#E5ECF6",
          "polar": {
           "angularaxis": {
            "gridcolor": "white",
            "linecolor": "white",
            "ticks": ""
           },
           "bgcolor": "#E5ECF6",
           "radialaxis": {
            "gridcolor": "white",
            "linecolor": "white",
            "ticks": ""
           }
          },
          "scene": {
           "xaxis": {
            "backgroundcolor": "#E5ECF6",
            "gridcolor": "white",
            "gridwidth": 2,
            "linecolor": "white",
            "showbackground": true,
            "ticks": "",
            "zerolinecolor": "white"
           },
           "yaxis": {
            "backgroundcolor": "#E5ECF6",
            "gridcolor": "white",
            "gridwidth": 2,
            "linecolor": "white",
            "showbackground": true,
            "ticks": "",
            "zerolinecolor": "white"
           },
           "zaxis": {
            "backgroundcolor": "#E5ECF6",
            "gridcolor": "white",
            "gridwidth": 2,
            "linecolor": "white",
            "showbackground": true,
            "ticks": "",
            "zerolinecolor": "white"
           }
          },
          "shapedefaults": {
           "line": {
            "color": "#2a3f5f"
           }
          },
          "ternary": {
           "aaxis": {
            "gridcolor": "white",
            "linecolor": "white",
            "ticks": ""
           },
           "baxis": {
            "gridcolor": "white",
            "linecolor": "white",
            "ticks": ""
           },
           "bgcolor": "#E5ECF6",
           "caxis": {
            "gridcolor": "white",
            "linecolor": "white",
            "ticks": ""
           }
          },
          "title": {
           "x": 0.05
          },
          "xaxis": {
           "automargin": true,
           "gridcolor": "white",
           "linecolor": "white",
           "ticks": "",
           "title": {
            "standoff": 15
           },
           "zerolinecolor": "white",
           "zerolinewidth": 2
          },
          "yaxis": {
           "automargin": true,
           "gridcolor": "white",
           "linecolor": "white",
           "ticks": "",
           "title": {
            "standoff": 15
           },
           "zerolinecolor": "white",
           "zerolinewidth": 2
          }
         }
        },
        "title": {
         "text": "Volatile Stocks Avg Win vs Win Rate (Bubbles are Short MA & Long MA pairs)"
        },
        "xaxis": {
         "anchor": "y",
         "color": "white",
         "domain": [
          0,
          1
         ],
         "showgrid": false,
         "title": {
          "text": "Average Win %"
         }
        },
        "yaxis": {
         "anchor": "x",
         "color": "white",
         "domain": [
          0,
          1
         ],
         "showgrid": false,
         "title": {
          "text": "Win Rate %"
         }
        }
       }
      }
     },
     "metadata": {},
     "output_type": "display_data"
    }
   ],
   "source": [
    "\n",
    "# create the scatterplot with win rate and average win % by averaging out the results of the stable stocks\n",
    "win_rate_heatmap_multiple = pd.DataFrame(0, index=heatmap_table.index, columns=heatmap_table.columns)\n",
    "avg_win_heatmap_multiple = pd.DataFrame(0, index=heatmap_table.index, columns=heatmap_table.columns)\n",
    "\n",
    "for stock in multiple_stocks_test[\"Volatile Stocks\"]:\n",
    "    \n",
    "    stock_info = stock_data_volatile.loc[stock_data_volatile[\"Stock\"] == stock]\n",
    "    win_rate_heatmap, avg_win_heatmap = rolling_periods_test(START, stock_info, YEARS, heatmap_table)\n",
    "    win_rate_heatmap_multiple += win_rate_heatmap\n",
    "    avg_win_heatmap_multiple += avg_win_heatmap\n",
    "\n",
    "# find the average win rate for each of the stocks as well as average average relative win rate\n",
    "win_rate_heatmap_multiple = win_rate_heatmap_multiple / len(multiple_stocks_test[\"Stable Stocks\"])\n",
    "avg_win_heatmap_multiple = avg_win_heatmap_multiple / len(multiple_stocks_test[\"Volatile Stocks\"])\n",
    "\n",
    "combination_map = {\n",
    "    (row, column): {\n",
    "        \"win_rate\": win_rate_heatmap_multiple.loc[row, column],\n",
    "        \"avg_win\": avg_win_heatmap_multiple.loc[row, column]\n",
    "    }\n",
    "    for row in win_rate_heatmap_multiple.index\n",
    "    for column in win_rate_heatmap_multiple.columns\n",
    "}\n",
    "\n",
    "values = []\n",
    "for (row, column), metrics in combination_map.items():\n",
    "    values.append({\n",
    "        \"combination\" : [int(column), int(row)],\n",
    "        \"avg_win\" : metrics[\"avg_win\"],\n",
    "        \"win_rate\" : metrics[\"win_rate\"],\n",
    "        \"short MA\" : column,\n",
    "        \"long MA\" : row\n",
    "    })\n",
    "values = pd.DataFrame(values) \n",
    "\n",
    "# divide the moving average combinations into four groups according to their length\n",
    "values[\"MA pairs\"] = values.apply(assign_type, axis=1)\n",
    "\n",
    "# plot the scatterplot     \n",
    "fig = px.scatter(\n",
    "    values,\n",
    "    x=\"avg_win\",\n",
    "    y=\"win_rate\",\n",
    "    color=\"MA pairs\",\n",
    "    labels={'avg_win': 'Average Win %', 'win_rate': 'Win Rate %'},\n",
    "    title=\"Volatile Stocks Avg Win vs Win Rate (Bubbles are Short MA & Long MA pairs)\",\n",
    "    hover_data={\n",
    "        \"short MA\": True,\n",
    "        \"long MA\": True,\n",
    "        \"MA pairs\": True,\n",
    "        \"avg_win\": ':.2f',\n",
    "        \"win_rate\": ':.2f'\n",
    "    }\n",
    "    \n",
    ")\n",
    "\n",
    "fig.update_layout(\n",
    "    plot_bgcolor='black',\n",
    "    paper_bgcolor='black',\n",
    "    font=dict(color='white'),\n",
    "    xaxis=dict(showgrid=False, color='white'),\n",
    "    yaxis=dict(showgrid=False, color='white')\n",
    "\n",
    ")\n",
    "\n",
    "fig.write_image(\"scatterplot_volatile.png\")\n",
    "fig.show()"
   ]
  },
  {
   "cell_type": "markdown",
   "id": "3785f3c1",
   "metadata": {},
   "source": [
    "![Scatterplot](scatterplot_volatile.png)"
   ]
  },
  {
   "cell_type": "markdown",
   "id": "dd0a970f",
   "metadata": {},
   "source": [
    "### **Results**\n",
    "\n",
    "- A rolling 5-year strategy test was conducted on two sets of stocks: **15 stable** and **15 volatile** tickers.\n",
    "\n",
    "#### Stable Stocks\n",
    "- The strategy **performed poorly** on stable stocks, winning against a buy-and-hold approach only about **15% to 25%** of the time.\n",
    "- When the strategy did outperform, the **average improvement in CAGR** was modest, around **10% to 18%** over the buy-and-hold method.\n",
    "- These results indicate that the moving average crossover strategy is **largely ineffective** for stable stocks over rolling 5-year periods.\n",
    "\n",
    "#### Volatile Stocks\n",
    "- For volatile stocks, the strategy delivered **better results**, winning approximately **50%** of the time across the 11 overlapping 5-year periods.\n",
    "- When successful, the strategy achieved **CAGR improvements** ranging from **100% to 300%**, and in rare cases, even up to **350%** compared to holding.\n",
    "- This suggests that the strategy is **much more effective** in high-volatility environments.\n",
    "\n",
    "#### Moving Average Groupings\n",
    "To better analyze the performance, moving average (MA) combinations were grouped into four categories:\n",
    "\n",
    "- **Small-Small**: short MA (5–35), long MA (120–210)  \n",
    "- **Small-Big**: short MA (5–35), long MA (210–300)  \n",
    "- **Big-Small**: short MA (35–70), long MA (120–210)  \n",
    "- **Big-Big**: short MA (35–70), long MA (210–300)\n",
    "\n",
    "#### Observations by Group\n",
    "\n",
    "- For **stable stocks**:\n",
    "  - The **\"Big-Big\"** group performed best, with **\"Small-Big\"** following closely.\n",
    "  - However, overall performance was still weak.\n",
    "\n",
    "- For **volatile stocks**:\n",
    "  - The **\"Small-Big\"** group had the **highest win rate** with **\"Big-Big\"** and **\"Small-Big\"** coming very close.\n",
    "  - The **\"Small-Small\"** group had a **slightly lower win rate** than **\"Small-Big\"** but **much higher average win %** (CAGR) when the strategy outperformed holding.\n",
    "  - The **\"Big-Small\"** group was consistently the **worst-performing** across both stable and volatile categories.\n",
    "\n",
    "#### Notable Moving Average Combinations (Volatile Stocks Only)\n",
    "The following combinations stood out for their strong performance in volatile stocks:\n",
    "\n",
    "- **(5, 185)**, **(10, 135)**, **(15, 120)**, **(15, 125)**, **(15, 130)**, **(10, 130)**, **(20, 120)**\n",
    "\n",
    "These results suggest that the most effective configurations for volatile stocks are:\n",
    "\n",
    "- **Short MA**: between **10 and 20**\n",
    "- **Long MA**: between **120 and 135**\n",
    "\n",
    "#### Final Notes\n",
    "- Given the strategy's poor performance on stable stocks, it is **not meaningful** to highlight specific MA combinations for them.\n",
    "- Overall, this analysis reinforces the idea that **strategy effectiveness depends heavily on stock volatility**, and that **customizing MA settings by stock type** may be essential for optimal performance.\n"
   ]
  },
  {
   "cell_type": "markdown",
   "id": "11905ab7",
   "metadata": {},
   "source": [
    "---------------------------------------------------------------------------------------------------------------------------------------------------------------------------------------------------"
   ]
  },
  {
   "cell_type": "markdown",
   "id": "8a57319c",
   "metadata": {},
   "source": [
    "\n",
    "### **Limitations**\n",
    "\n",
    "#### Small sample size\n",
    "- Each of the groups only included 15 stocks. This does provide insight, however, a much larger sample size is needed for generalization.\n",
    "\n",
    "#### Historical bias\n",
    "- This strategy was tested on historical data, which may not reflect future market conditions.\n",
    "\n",
    "#### Transaction costs and slippage\n",
    "- The strategy didn't take into account trading fees, slippage, or tax implications, which could potentially reduce strategy's profitability.\n",
    "\n",
    "#### Overfitting\n",
    "- Highlighting the best-performing moving average combinations may lead to overfitting. These combinations might not perform similarly out-of-sample.\n",
    "\n",
    "#### Rolling window design\n",
    "- Different rolling periods (i.e. 3 or 10 years) could provide different results."
   ]
  },
  {
   "cell_type": "markdown",
   "id": "5d4845e5",
   "metadata": {},
   "source": [
    "----------"
   ]
  },
  {
   "cell_type": "markdown",
   "id": "c55d48a1",
   "metadata": {},
   "source": [
    "### **Next Steps**\n",
    "\n",
    "#### Larger and more diverse dataset\n",
    "- Include more stocks across sectors and market conditions to improve statistical significance.\n",
    "\n",
    "#### Try adaptive strategies\n",
    "- Incorporate machine learning to adapt moving averages based on volatility.\n",
    "\n",
    "#### Walk-forward testing\n",
    "- Instead of analyzing historical performance alone, simulate real-time strategy deployment with walk-forward testing to avoid look-ahead bias."
   ]
  }
 ],
 "metadata": {
  "kernelspec": {
   "display_name": "Python 3",
   "language": "python",
   "name": "python3"
  },
  "language_info": {
   "codemirror_mode": {
    "name": "ipython",
    "version": 3
   },
   "file_extension": ".py",
   "mimetype": "text/x-python",
   "name": "python",
   "nbconvert_exporter": "python",
   "pygments_lexer": "ipython3",
   "version": "3.13.5"
  }
 },
 "nbformat": 4,
 "nbformat_minor": 5
}
